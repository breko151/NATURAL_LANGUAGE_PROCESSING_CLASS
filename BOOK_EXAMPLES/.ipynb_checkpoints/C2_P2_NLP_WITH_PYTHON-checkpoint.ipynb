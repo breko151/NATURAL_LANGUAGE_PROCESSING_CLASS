{
 "cells": [
  {
   "cell_type": "markdown",
   "id": "4758bea9",
   "metadata": {},
   "source": [
    "# CAPÍTULO 2 \n",
    "## NLP WITH PYTHON\n",
    "**Suárez Pérez Juan Pablo**"
   ]
  },
  {
   "cell_type": "code",
   "execution_count": 1,
   "id": "4f1831fd",
   "metadata": {},
   "outputs": [],
   "source": [
    "from nltk.corpus import PlaintextCorpusReader"
   ]
  },
  {
   "cell_type": "code",
   "execution_count": 2,
   "id": "c4c7fb5a",
   "metadata": {},
   "outputs": [],
   "source": [
    "corpus_root = \"./../EXCELSIOR_100_files/\""
   ]
  },
  {
   "cell_type": "code",
   "execution_count": 3,
   "id": "52d78095",
   "metadata": {},
   "outputs": [],
   "source": [
    "wordlists = PlaintextCorpusReader(corpus_root, '.*')"
   ]
  },
  {
   "cell_type": "code",
   "execution_count": 4,
   "id": "06405fa2",
   "metadata": {},
   "outputs": [
    {
     "data": {
      "text/plain": [
       "['e960401_mod.htm',\n",
       " 'e960402_mod.htm',\n",
       " 'e960403_mod.htm',\n",
       " 'e960404_mod.htm',\n",
       " 'e960405_mod.htm',\n",
       " 'e960406_mod.htm',\n",
       " 'e960407_mod.htm',\n",
       " 'e960408_mod.htm',\n",
       " 'e960409_mod.htm',\n",
       " 'e960410_mod.htm',\n",
       " 'e960411_mod.htm',\n",
       " 'e960412_mod.htm',\n",
       " 'e960413_mod.htm',\n",
       " 'e960414_mod.htm',\n",
       " 'e960415_mod.htm',\n",
       " 'e960416_mod.htm',\n",
       " 'e960417_mod.htm',\n",
       " 'e960418_mod.htm',\n",
       " 'e960419_mod.htm',\n",
       " 'e960420_mod.htm',\n",
       " 'e960421_mod.htm',\n",
       " 'e960422_mod.htm',\n",
       " 'e960423_mod.htm',\n",
       " 'e960424_mod.htm',\n",
       " 'e960425_mod.htm',\n",
       " 'e960426_mod.htm',\n",
       " 'e960427_mod.htm',\n",
       " 'e960429_mod.htm',\n",
       " 'e960430_mod.htm',\n",
       " 'e960501_mod.htm',\n",
       " 'e960502_mod.htm',\n",
       " 'e960503_mod.htm',\n",
       " 'e960504_mod.htm',\n",
       " 'e960505_mod.htm',\n",
       " 'e960506_mod.htm',\n",
       " 'e960507_mod.htm',\n",
       " 'e960508_mod.htm',\n",
       " 'e960509_mod.htm',\n",
       " 'e960510_mod.htm',\n",
       " 'e960511_mod.htm',\n",
       " 'e960512_mod.htm',\n",
       " 'e960513_mod.htm',\n",
       " 'e960520_mod.htm',\n",
       " 'e960521_mod.htm',\n",
       " 'e960522_mod.htm',\n",
       " 'e960524_mod.htm',\n",
       " 'e960525_mod.htm',\n",
       " 'e960526_mod.htm',\n",
       " 'e960527_mod.htm',\n",
       " 'e960528_mod.htm',\n",
       " 'e960529_mod.htm',\n",
       " 'e960530_mod.htm',\n",
       " 'e960531_mod.htm',\n",
       " 'e960601_mod.htm',\n",
       " 'e960602_mod.htm',\n",
       " 'e960603_mod.htm',\n",
       " 'e960604_mod.htm',\n",
       " 'e960605_mod.htm',\n",
       " 'e960606_mod.htm',\n",
       " 'e960607_mod.htm',\n",
       " 'e960608_mod.htm',\n",
       " 'e960609_mod.htm',\n",
       " 'e960610_mod.htm',\n",
       " 'e960611_mod.htm',\n",
       " 'e960612_mod.htm',\n",
       " 'e960613_mod.htm',\n",
       " 'e960614_mod.htm',\n",
       " 'e960615_mod.htm',\n",
       " 'e960616_mod.htm',\n",
       " 'e960617_mod.htm',\n",
       " 'e960618_mod.htm',\n",
       " 'e960619_mod.htm',\n",
       " 'e960620_mod.htm',\n",
       " 'e960621_mod.htm',\n",
       " 'e960622_mod.htm',\n",
       " 'e960623_mod.htm',\n",
       " 'e960624_mod.htm',\n",
       " 'e960625_mod.htm',\n",
       " 'e960626_mod.htm',\n",
       " 'e960627_mod.htm',\n",
       " 'e960628_mod.htm',\n",
       " 'e960629_mod.htm',\n",
       " 'e960630_mod.htm',\n",
       " 'e960701_mod.htm',\n",
       " 'e960702_mod.htm',\n",
       " 'e960703_mod.htm',\n",
       " 'e960704_mod.htm',\n",
       " 'e960705_mod.htm',\n",
       " 'e960706_mod.htm',\n",
       " 'e960707_mod.htm',\n",
       " 'e960708_mod.htm',\n",
       " 'e960709_mod.htm',\n",
       " 'e960710_mod.htm',\n",
       " 'e960711_mod.htm',\n",
       " 'e960712_mod.htm',\n",
       " 'e960713_mod.htm',\n",
       " 'e960714_mod.htm',\n",
       " 'e960715_mod.htm',\n",
       " 'e960716_mod.htm',\n",
       " 'e960717_mod.htm']"
      ]
     },
     "execution_count": 4,
     "metadata": {},
     "output_type": "execute_result"
    }
   ],
   "source": [
    "wordlists.fileids()"
   ]
  },
  {
   "cell_type": "code",
   "execution_count": 5,
   "id": "2d437809",
   "metadata": {},
   "outputs": [
    {
     "data": {
      "text/plain": [
       "['<!', 'DOCTYPE', 'html', '>', '<', 'html', 'lang', ...]"
      ]
     },
     "execution_count": 5,
     "metadata": {},
     "output_type": "execute_result"
    }
   ],
   "source": [
    "wordlists.words('e960717_mod.htm')"
   ]
  },
  {
   "cell_type": "code",
   "execution_count": 5,
   "id": "887dae32",
   "metadata": {},
   "outputs": [
    {
     "name": "stdout",
     "output_type": "stream",
     "text": [
      "['¿', 'Y', 'los', 'niños', 'con', 'sida', '?</', 'p', '><', 'p', '>', 'He', 'leído', 'miles', 'de', 'libros', ',', 'me', 'conozco', 'de', 'memoria', 'todas', 'las', 'teorías', 'y', 'doctrinas', 'sobre', 'la', 'metafísica', 'del', 'mal', ',', 'y', 'héme', 'aquí', 'cargado', 'de', 'años', 'y', 'aún', 'sin', 'respuestas', '.']\n"
     ]
    }
   ],
   "source": [
    "print(wordlists.sents('e960717_mod.htm')[100])"
   ]
  }
 ],
 "metadata": {
  "kernelspec": {
   "display_name": "Python 3 (ipykernel)",
   "language": "python",
   "name": "python3"
  },
  "language_info": {
   "codemirror_mode": {
    "name": "ipython",
    "version": 3
   },
   "file_extension": ".py",
   "mimetype": "text/x-python",
   "name": "python",
   "nbconvert_exporter": "python",
   "pygments_lexer": "ipython3",
   "version": "3.9.12"
  },
  "vscode": {
   "interpreter": {
    "hash": "cd1fd7730a3ff7811bc6623d31c907c7b97c986d3e82d3b9938e7dcbaa66e63f"
   }
  }
 },
 "nbformat": 4,
 "nbformat_minor": 5
}
