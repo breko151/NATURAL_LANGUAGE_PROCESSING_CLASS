{
 "cells": [
  {
   "cell_type": "markdown",
   "id": "631c0da5",
   "metadata": {},
   "source": [
    "# Normalization\n",
    "**Suárez Pérez Juan Pablo**"
   ]
  },
  {
   "cell_type": "code",
   "execution_count": null,
   "id": "dc9fd2f7",
   "metadata": {},
   "outputs": [],
   "source": [
    "# Importamos nltk\n",
    "import nltk"
   ]
  },
  {
   "cell_type": "code",
   "execution_count": null,
   "id": "8f97a10f",
   "metadata": {},
   "outputs": [],
   "source": [
    "# Importamos BeautifulSoup\n",
    "from bs4 import BeautifulSoup"
   ]
  },
  {
   "cell_type": "code",
   "execution_count": null,
   "id": "d0f376ef",
   "metadata": {},
   "outputs": [],
   "source": [
    "# Importamos Re\n",
    "import re"
   ]
  },
  {
   "cell_type": "code",
   "execution_count": null,
   "id": "a417efa3",
   "metadata": {},
   "outputs": [],
   "source": [
    "def remove_tag(path, file_list):\n",
    "    \n",
    "    print('Removing tags')\n",
    "    \n",
    "    all_text = ''\n",
    "    for file in file_list:\n",
    "        print(f'\\tAdding {path + file} to text...')\n",
    "        with open(path + file, encoding = 'utf-8') as reading:\n",
    "            text = reading.read()\n",
    "            all_text += text\n",
    "            \n",
    "    \n",
    "    soup = BeautifulSoup(all_text, 'html.parser')\n",
    "    [s.extract() for s in soup(['iframe', 'script'])]\n",
    "    clean_text = soup.get_text()\n",
    "    clean_text = re.sub(r'[\\r|\\n|\\r\\n]+', '\\n', clean_text)\n",
    "    \n",
    "    print('All tags removed.')\n",
    "    return clean_text"
   ]
  },
  {
   "cell_type": "code",
   "execution_count": null,
   "id": "ee78a41d",
   "metadata": {},
   "outputs": [],
   "source": [
    "def normalize(path = './../Text_Extraction/EXCELSIOR_100_files/'):\n",
    "    \n",
    "    wordlist = nltk.corpus.PlaintextCorpusReader(path, '.*')\n",
    "    file_list = wordlist.fileids()\n",
    "    text_without_tags = ''\n",
    "    \n",
    "    try:\n",
    "        text_without_tags = remove_tag(path, file_list)\n",
    "    except Exception as e:\n",
    "        print('Ocurrió el siguiente error:', e)\n",
    "    \n",
    "    return text_without_tags"
   ]
  },
  {
   "cell_type": "code",
   "execution_count": null,
   "id": "36eba5af",
   "metadata": {},
   "outputs": [],
   "source": [
    "text = normalize()"
   ]
  },
  {
   "cell_type": "code",
   "execution_count": null,
   "id": "25a6cd1d",
   "metadata": {},
   "outputs": [],
   "source": [
    "text"
   ]
  }
 ],
 "metadata": {
  "kernelspec": {
   "display_name": "Python 3 (ipykernel)",
   "language": "python",
   "name": "python3"
  },
  "language_info": {
   "codemirror_mode": {
    "name": "ipython",
    "version": 3
   },
   "file_extension": ".py",
   "mimetype": "text/x-python",
   "name": "python",
   "nbconvert_exporter": "python",
   "pygments_lexer": "ipython3",
   "version": "3.9.12"
  }
 },
 "nbformat": 4,
 "nbformat_minor": 5
}
