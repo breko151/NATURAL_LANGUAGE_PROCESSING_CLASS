{
 "cells": [
  {
   "cell_type": "markdown",
   "id": "465a6aef",
   "metadata": {},
   "source": [
    "# Normalization\n",
    "**Suárez Pérez Juan Pablo**"
   ]
  },
  {
   "cell_type": "markdown",
   "id": "71f0d776",
   "metadata": {},
   "source": [
    "## Text Processing "
   ]
  },
  {
   "cell_type": "code",
   "execution_count": 1,
   "id": "5af1ae4d",
   "metadata": {},
   "outputs": [],
   "source": [
    "# Import the libraries needed\n",
    "from nlp_functions import text_processing as tp\n",
    "from nlp_functions import word_association as wa"
   ]
  },
  {
   "cell_type": "code",
   "execution_count": 2,
   "id": "530b2e9e",
   "metadata": {},
   "outputs": [],
   "source": [
    "# Clean the corpus\n",
    "tp.clean_corpus('./../EXCELSIOR_100_files/', './new_corpus/')"
   ]
  },
  {
   "cell_type": "code",
   "execution_count": 3,
   "id": "fef26468",
   "metadata": {},
   "outputs": [],
   "source": [
    "# Get clean corpus\n",
    "text = tp.get_clean_text('./new_corpus/clean_corpus.txt')"
   ]
  },
  {
   "cell_type": "markdown",
   "id": "e3de761e",
   "metadata": {},
   "source": [
    "### Normalization "
   ]
  },
  {
   "cell_type": "code",
   "execution_count": 4,
   "id": "ec16f44b",
   "metadata": {},
   "outputs": [],
   "source": [
    "# Tokenize the text\n",
    "words = tp.word_tokenize(text)\n",
    "sents = tp.sentence_tokenize(text)"
   ]
  },
  {
   "cell_type": "code",
   "execution_count": 5,
   "id": "a6d088c5",
   "metadata": {},
   "outputs": [],
   "source": [
    "# Delete stop words\n",
    "words = tp.delete_stop_words(words, './nlp_functions/stopwords_and_lemmas/stopwords_es.txt')\n",
    "sents = tp.delete_stop_words_sents(sents, './nlp_functions/stopwords_and_lemmas/stopwords_es.txt')"
   ]
  },
  {
   "cell_type": "code",
   "execution_count": 6,
   "id": "ac165198",
   "metadata": {},
   "outputs": [],
   "source": [
    "# Lemmatize\n",
    "words = tp.lemmatize(words, './nlp_functions/stopwords_and_lemmas/generate.txt')\n",
    "sents = tp.lemmatize_sents(sents, './nlp_functions/stopwords_and_lemmas/generate.txt')"
   ]
  },
  {
   "cell_type": "code",
   "execution_count": 7,
   "id": "bfc7734f",
   "metadata": {},
   "outputs": [],
   "source": [
    "# Get Vocabulary\n",
    "vocabulary = tp.get_vocabulary(words)"
   ]
  },
  {
   "cell_type": "markdown",
   "id": "8d7c6ae6",
   "metadata": {},
   "source": [
    "## Numeric Representation "
   ]
  },
  {
   "cell_type": "markdown",
   "id": "928db43e",
   "metadata": {},
   "source": [
    "### Similarities by Words"
   ]
  },
  {
   "cell_type": "code",
   "execution_count": 8,
   "id": "97903ace",
   "metadata": {},
   "outputs": [
    {
     "name": "stdout",
     "output_type": "stream",
     "text": [
      "Se completo abandonar\n",
      "Se completo abandono\n",
      "Se completo abarcar\n",
      "Se completo abarrotar\n",
      "Se completo abascal\n",
      "Se completo abasto\n",
      "Se completo abatir\n",
      "Se completo abbasso\n",
      "Se completo abdicar\n",
      "Se completo aberrantes\n",
      "Se completo abierto\n",
      "Se completo abitia\n",
      "Se completo abono\n",
      "Se completo abordaje\n",
      "Se completo aborigen\n",
      "Se completo abraham\n",
      "Se completo abrego\n",
      "Se completo abril\n",
      "Se completo abrir\n",
      "Se completo absalón\n",
      "Se completo absoluto\n",
      "Se completo absuelto\n",
      "Se completo absurdamente\n",
      "Se completo absurdo\n",
      "Se completo abuelo\n",
      "Se completo abundante\n",
      "Se completo abundar\n",
      "Se completo aburto\n",
      "Se completo abusar\n",
      "Se completo abuso\n",
      "Se completo ac\n",
      "Se completo acabado\n",
      "Se completo acabar\n",
      "Se completo acaparar\n",
      "Se completo acapulco\n",
      "Se completo acarreo\n",
      "Se completo acaso\n",
      "Se completo accesible\n",
      "Se completo acceso\n",
      "Se completo accidente\n",
      "Se completo accionar\n",
      "Se completo accionista\n",
      "Se completo acción\n",
      "Se completo acelerar\n",
      "Se completo acento\n",
      "Se completo acentuado\n",
      "Se completo aceptabilidad\n",
      "Se completo aceptar\n",
      "Se completo acercar\n",
      "Se completo acero\n",
      "Se completo acertado\n",
      "Se completo acierto\n",
      "Se completo aclaración\n",
      "Se completo aclarar\n",
      "Se completo acompañado\n",
      "Se completo acompañamiento\n",
      "Se completo acompañar\n",
      "Se completo aconsejable\n",
      "Se completo aconsejar\n",
      "Se completo acontecimiento\n",
      "Se completo acopio\n",
      "Se completo acoplamiento\n",
      "Se completo acoplar\n",
      "Se completo acorde\n",
      "Se completo acotar\n",
      "Se completo acrecentar\n",
      "Se completo acreditar\n",
      "Se completo acreedor\n",
      "Se completo actitud\n",
      "Se completo activar\n",
      "Se completo actividad\n",
      "Se completo activo\n",
      "Se completo acto\n",
      "Se completo actor\n",
      "Se completo actriz\n",
      "Se completo actuación\n",
      "Se completo actual\n",
      "Se completo actualidad\n",
      "Se completo actualizar\n",
      "Se completo actualmente\n"
     ]
    },
    {
     "ename": "KeyboardInterrupt",
     "evalue": "",
     "output_type": "error",
     "traceback": [
      "\u001b[1;31m---------------------------------------------------------------------------\u001b[0m",
      "\u001b[1;31mKeyboardInterrupt\u001b[0m                         Traceback (most recent call last)",
      "\u001b[1;32mc:\\Users\\USUARIO DELL\\Documents\\Python Scripts\\PROCESAMIENTO_LENGUAJE_NATURAL\\PROJECT\\PROJECT.ipynb Celda 13\u001b[0m in \u001b[0;36m<cell line: 3>\u001b[1;34m()\u001b[0m\n\u001b[0;32m      <a href='vscode-notebook-cell:/c%3A/Users/USUARIO%20DELL/Documents/Python%20Scripts/PROCESAMIENTO_LENGUAJE_NATURAL/PROJECT/PROJECT.ipynb#X15sZmlsZQ%3D%3D?line=2'>3</a>\u001b[0m \u001b[39mfor\u001b[39;00m w \u001b[39min\u001b[39;00m vocabulary:\n\u001b[0;32m      <a href='vscode-notebook-cell:/c%3A/Users/USUARIO%20DELL/Documents/Python%20Scripts/PROCESAMIENTO_LENGUAJE_NATURAL/PROJECT/PROJECT.ipynb#X15sZmlsZQ%3D%3D?line=3'>4</a>\u001b[0m     \u001b[39mtry\u001b[39;00m:\n\u001b[1;32m----> <a href='vscode-notebook-cell:/c%3A/Users/USUARIO%20DELL/Documents/Python%20Scripts/PROCESAMIENTO_LENGUAJE_NATURAL/PROJECT/PROJECT.ipynb#X15sZmlsZQ%3D%3D?line=4'>5</a>\u001b[0m         wa\u001b[39m.\u001b[39;49msimilar_words(w, vectors, aux_path \u001b[39m=\u001b[39;49m \u001b[39m'\u001b[39;49m\u001b[39m_by_words\u001b[39;49m\u001b[39m'\u001b[39;49m, \n\u001b[0;32m      <a href='vscode-notebook-cell:/c%3A/Users/USUARIO%20DELL/Documents/Python%20Scripts/PROCESAMIENTO_LENGUAJE_NATURAL/PROJECT/PROJECT.ipynb#X15sZmlsZQ%3D%3D?line=5'>6</a>\u001b[0m                          dot_product \u001b[39m=\u001b[39;49m \u001b[39mTrue\u001b[39;49;00m, cosine \u001b[39m=\u001b[39;49m \u001b[39mTrue\u001b[39;49;00m)\n\u001b[0;32m      <a href='vscode-notebook-cell:/c%3A/Users/USUARIO%20DELL/Documents/Python%20Scripts/PROCESAMIENTO_LENGUAJE_NATURAL/PROJECT/PROJECT.ipynb#X15sZmlsZQ%3D%3D?line=6'>7</a>\u001b[0m         \u001b[39mprint\u001b[39m(\u001b[39m'\u001b[39m\u001b[39mSe completo\u001b[39m\u001b[39m'\u001b[39m, w)\n\u001b[0;32m      <a href='vscode-notebook-cell:/c%3A/Users/USUARIO%20DELL/Documents/Python%20Scripts/PROCESAMIENTO_LENGUAJE_NATURAL/PROJECT/PROJECT.ipynb#X15sZmlsZQ%3D%3D?line=7'>8</a>\u001b[0m     \u001b[39mexcept\u001b[39;00m \u001b[39mException\u001b[39;00m \u001b[39mas\u001b[39;00m e:\n",
      "File \u001b[1;32mc:\\Users\\USUARIO DELL\\Documents\\Python Scripts\\PROCESAMIENTO_LENGUAJE_NATURAL\\PROJECT\\nlp_functions\\word_association.py:129\u001b[0m, in \u001b[0;36msimilar_words\u001b[1;34m(word, vectors, aux_path, tf_idf, dot_product, cosine)\u001b[0m\n\u001b[0;32m    126\u001b[0m     s_dot_product(word, vectors, aux_path)\n\u001b[0;32m    128\u001b[0m \u001b[39mif\u001b[39;00m cosine:\n\u001b[1;32m--> 129\u001b[0m     s_cosine(word, vectors, aux_path)\n",
      "File \u001b[1;32mc:\\Users\\USUARIO DELL\\Documents\\Python Scripts\\PROCESAMIENTO_LENGUAJE_NATURAL\\PROJECT\\nlp_functions\\word_association.py:108\u001b[0m, in \u001b[0;36ms_cosine\u001b[1;34m(word, vectors, aux_path)\u001b[0m\n\u001b[0;32m    106\u001b[0m \u001b[39mfor\u001b[39;00m w \u001b[39min\u001b[39;00m vectors\u001b[39m.\u001b[39mkeys():\n\u001b[0;32m    107\u001b[0m     v2 \u001b[39m=\u001b[39m vectors[w]\n\u001b[1;32m--> 108\u001b[0m     similarities[w] \u001b[39m=\u001b[39m np\u001b[39m.\u001b[39;49mdot(v, v2) \u001b[39m/\u001b[39m np\u001b[39m.\u001b[39mlinalg\u001b[39m.\u001b[39mnorm(v) \u001b[39m*\u001b[39m np\u001b[39m.\u001b[39mlinalg\u001b[39m.\u001b[39mnorm(v2)\n\u001b[0;32m    109\u001b[0m similarities \u001b[39m=\u001b[39m (\u001b[39msorted\u001b[39m(similarities\u001b[39m.\u001b[39mitems(), key \u001b[39m=\u001b[39m \u001b[39mlambda\u001b[39;00m item: item[\u001b[39m1\u001b[39m], reverse \u001b[39m=\u001b[39m \u001b[39mTrue\u001b[39;00m))\n\u001b[0;32m    110\u001b[0m \u001b[39mwith\u001b[39;00m \u001b[39mopen\u001b[39m(\u001b[39m'\u001b[39m\u001b[39m./cosine/similar_to_\u001b[39m\u001b[39m'\u001b[39m \u001b[39m+\u001b[39m word \u001b[39m+\u001b[39m aux_path \u001b[39m+\u001b[39m \u001b[39m'\u001b[39m\u001b[39m.txt\u001b[39m\u001b[39m'\u001b[39m, \u001b[39m'\u001b[39m\u001b[39mw\u001b[39m\u001b[39m'\u001b[39m, encoding \u001b[39m=\u001b[39m \u001b[39m'\u001b[39m\u001b[39mutf-8\u001b[39m\u001b[39m'\u001b[39m) \u001b[39mas\u001b[39;00m f:\n",
      "File \u001b[1;32m<__array_function__ internals>:5\u001b[0m, in \u001b[0;36mdot\u001b[1;34m(*args, **kwargs)\u001b[0m\n",
      "\u001b[1;31mKeyboardInterrupt\u001b[0m: "
     ]
    }
   ],
   "source": [
    "contexts = wa.get_contexts(vocabulary, words)\n",
    "vectors = wa.get_probabilities(vocabulary, contexts)\n",
    "for w in vocabulary:\n",
    "    try:\n",
    "        wa.similar_words(w, vectors, aux_path = '_by_words', \n",
    "                         dot_product = True, cosine = True)\n",
    "        print('Se completo', w)\n",
    "    except Exception as e:\n",
    "        print('Ocurrió el siguiente error:', e, 'en la palabra', w)"
   ]
  },
  {
   "cell_type": "markdown",
   "id": "d7a69570",
   "metadata": {},
   "source": [
    "### Similarities by Sents "
   ]
  },
  {
   "cell_type": "code",
   "execution_count": 9,
   "id": "e9e811d1",
   "metadata": {},
   "outputs": [
    {
     "name": "stdout",
     "output_type": "stream",
     "text": [
      "Se completo abandonar\n",
      "Se completo abandono\n",
      "Se completo abarcar\n",
      "Se completo abarrotar\n",
      "Se completo abascal\n",
      "Se completo abasto\n",
      "Se completo abatir\n",
      "Se completo abbasso\n",
      "Se completo abdicar\n",
      "Se completo aberrantes\n",
      "Se completo abierto\n",
      "Se completo abitia\n",
      "Se completo abono\n",
      "Se completo abordaje\n",
      "Se completo aborigen\n",
      "Se completo abraham\n",
      "Se completo abrego\n",
      "Se completo abril\n",
      "Se completo abrir\n",
      "Se completo absalón\n",
      "Se completo absoluto\n",
      "Se completo absuelto\n",
      "Se completo absurdamente\n",
      "Se completo absurdo\n",
      "Se completo abuelo\n",
      "Se completo abundante\n",
      "Se completo abundar\n",
      "Se completo aburto\n",
      "Se completo abusar\n",
      "Se completo abuso\n",
      "Se completo ac\n",
      "Se completo acabado\n",
      "Se completo acabar\n",
      "Se completo acaparar\n",
      "Se completo acapulco\n",
      "Se completo acarreo\n",
      "Se completo acaso\n",
      "Se completo accesible\n",
      "Se completo acceso\n",
      "Se completo accidente\n",
      "Se completo accionar\n",
      "Se completo accionista\n",
      "Se completo acción\n",
      "Se completo acelerar\n",
      "Se completo acento\n",
      "Se completo acentuado\n",
      "Se completo aceptabilidad\n",
      "Se completo aceptar\n",
      "Se completo acercar\n",
      "Se completo acero\n",
      "Se completo acertado\n",
      "Se completo acierto\n",
      "Se completo aclaración\n",
      "Se completo aclarar\n",
      "Se completo acompañado\n",
      "Se completo acompañamiento\n",
      "Se completo acompañar\n",
      "Se completo aconsejable\n",
      "Se completo aconsejar\n",
      "Se completo acontecimiento\n",
      "Se completo acopio\n",
      "Se completo acoplamiento\n",
      "Se completo acoplar\n",
      "Se completo acorde\n",
      "Se completo acotar\n",
      "Se completo acrecentar\n",
      "Se completo acreditar\n",
      "Se completo acreedor\n",
      "Se completo actitud\n",
      "Se completo activar\n",
      "Se completo actividad\n",
      "Se completo activo\n",
      "Se completo acto\n",
      "Se completo actor\n",
      "Se completo actriz\n",
      "Se completo actuación\n",
      "Se completo actual\n",
      "Se completo actualidad\n",
      "Se completo actualizar\n",
      "Se completo actualmente\n",
      "Se completo actuar\n",
      "Se completo acudir\n",
      "Se completo acuerdo\n",
      "Se completo acumulación\n",
      "Se completo acumular\n",
      "Se completo acusación\n",
      "Se completo acusado\n",
      "Se completo acusar\n",
      "Se completo adaptar\n",
      "Se completo adecuadamente\n",
      "Se completo adecuado\n",
      "Se completo adelante\n",
      "Se completo además\n",
      "Se completo ades\n",
      "Se completo adeudos\n",
      "Se completo adicional\n"
     ]
    },
    {
     "ename": "KeyboardInterrupt",
     "evalue": "",
     "output_type": "error",
     "traceback": [
      "\u001b[1;31m---------------------------------------------------------------------------\u001b[0m",
      "\u001b[1;31mKeyboardInterrupt\u001b[0m                         Traceback (most recent call last)",
      "\u001b[1;32mc:\\Users\\USUARIO DELL\\Documents\\Python Scripts\\PROCESAMIENTO_LENGUAJE_NATURAL\\PROJECT\\PROJECT.ipynb Celda 15\u001b[0m in \u001b[0;36m<cell line: 3>\u001b[1;34m()\u001b[0m\n\u001b[0;32m      <a href='vscode-notebook-cell:/c%3A/Users/USUARIO%20DELL/Documents/Python%20Scripts/PROCESAMIENTO_LENGUAJE_NATURAL/PROJECT/PROJECT.ipynb#X20sZmlsZQ%3D%3D?line=2'>3</a>\u001b[0m \u001b[39mfor\u001b[39;00m w \u001b[39min\u001b[39;00m vocabulary:\n\u001b[0;32m      <a href='vscode-notebook-cell:/c%3A/Users/USUARIO%20DELL/Documents/Python%20Scripts/PROCESAMIENTO_LENGUAJE_NATURAL/PROJECT/PROJECT.ipynb#X20sZmlsZQ%3D%3D?line=3'>4</a>\u001b[0m     \u001b[39mtry\u001b[39;00m:\n\u001b[1;32m----> <a href='vscode-notebook-cell:/c%3A/Users/USUARIO%20DELL/Documents/Python%20Scripts/PROCESAMIENTO_LENGUAJE_NATURAL/PROJECT/PROJECT.ipynb#X20sZmlsZQ%3D%3D?line=4'>5</a>\u001b[0m         wa\u001b[39m.\u001b[39;49msimilar_words(w, vectors, aux_path \u001b[39m=\u001b[39;49m \u001b[39m'\u001b[39;49m\u001b[39m_by_sents\u001b[39;49m\u001b[39m'\u001b[39;49m, \n\u001b[0;32m      <a href='vscode-notebook-cell:/c%3A/Users/USUARIO%20DELL/Documents/Python%20Scripts/PROCESAMIENTO_LENGUAJE_NATURAL/PROJECT/PROJECT.ipynb#X20sZmlsZQ%3D%3D?line=5'>6</a>\u001b[0m                         dot_product \u001b[39m=\u001b[39;49m \u001b[39mTrue\u001b[39;49;00m, cosine \u001b[39m=\u001b[39;49m \u001b[39mTrue\u001b[39;49;00m)\n\u001b[0;32m      <a href='vscode-notebook-cell:/c%3A/Users/USUARIO%20DELL/Documents/Python%20Scripts/PROCESAMIENTO_LENGUAJE_NATURAL/PROJECT/PROJECT.ipynb#X20sZmlsZQ%3D%3D?line=6'>7</a>\u001b[0m         \u001b[39mprint\u001b[39m(\u001b[39m'\u001b[39m\u001b[39mSe completo\u001b[39m\u001b[39m'\u001b[39m, w)\n\u001b[0;32m      <a href='vscode-notebook-cell:/c%3A/Users/USUARIO%20DELL/Documents/Python%20Scripts/PROCESAMIENTO_LENGUAJE_NATURAL/PROJECT/PROJECT.ipynb#X20sZmlsZQ%3D%3D?line=7'>8</a>\u001b[0m     \u001b[39mexcept\u001b[39;00m \u001b[39mException\u001b[39;00m \u001b[39mas\u001b[39;00m e:\n",
      "File \u001b[1;32mc:\\Users\\USUARIO DELL\\Documents\\Python Scripts\\PROCESAMIENTO_LENGUAJE_NATURAL\\PROJECT\\nlp_functions\\word_association.py:129\u001b[0m, in \u001b[0;36msimilar_words\u001b[1;34m(word, vectors, aux_path, tf_idf, dot_product, cosine)\u001b[0m\n\u001b[0;32m    126\u001b[0m     s_dot_product(word, vectors, aux_path)\n\u001b[0;32m    128\u001b[0m \u001b[39mif\u001b[39;00m cosine:\n\u001b[1;32m--> 129\u001b[0m     s_cosine(word, vectors, aux_path)\n",
      "File \u001b[1;32mc:\\Users\\USUARIO DELL\\Documents\\Python Scripts\\PROCESAMIENTO_LENGUAJE_NATURAL\\PROJECT\\nlp_functions\\word_association.py:108\u001b[0m, in \u001b[0;36ms_cosine\u001b[1;34m(word, vectors, aux_path)\u001b[0m\n\u001b[0;32m    106\u001b[0m \u001b[39mfor\u001b[39;00m w \u001b[39min\u001b[39;00m vectors\u001b[39m.\u001b[39mkeys():\n\u001b[0;32m    107\u001b[0m     v2 \u001b[39m=\u001b[39m vectors[w]\n\u001b[1;32m--> 108\u001b[0m     similarities[w] \u001b[39m=\u001b[39m np\u001b[39m.\u001b[39mdot(v, v2) \u001b[39m/\u001b[39m np\u001b[39m.\u001b[39;49mlinalg\u001b[39m.\u001b[39;49mnorm(v) \u001b[39m*\u001b[39m np\u001b[39m.\u001b[39mlinalg\u001b[39m.\u001b[39mnorm(v2)\n\u001b[0;32m    109\u001b[0m similarities \u001b[39m=\u001b[39m (\u001b[39msorted\u001b[39m(similarities\u001b[39m.\u001b[39mitems(), key \u001b[39m=\u001b[39m \u001b[39mlambda\u001b[39;00m item: item[\u001b[39m1\u001b[39m], reverse \u001b[39m=\u001b[39m \u001b[39mTrue\u001b[39;00m))\n\u001b[0;32m    110\u001b[0m \u001b[39mwith\u001b[39;00m \u001b[39mopen\u001b[39m(\u001b[39m'\u001b[39m\u001b[39m./cosine/similar_to_\u001b[39m\u001b[39m'\u001b[39m \u001b[39m+\u001b[39m word \u001b[39m+\u001b[39m aux_path \u001b[39m+\u001b[39m \u001b[39m'\u001b[39m\u001b[39m.txt\u001b[39m\u001b[39m'\u001b[39m, \u001b[39m'\u001b[39m\u001b[39mw\u001b[39m\u001b[39m'\u001b[39m, encoding \u001b[39m=\u001b[39m \u001b[39m'\u001b[39m\u001b[39mutf-8\u001b[39m\u001b[39m'\u001b[39m) \u001b[39mas\u001b[39;00m f:\n",
      "File \u001b[1;32m<__array_function__ internals>:5\u001b[0m, in \u001b[0;36mnorm\u001b[1;34m(*args, **kwargs)\u001b[0m\n",
      "File \u001b[1;32mc:\\Users\\USUARIO DELL\\anaconda3\\lib\\site-packages\\numpy\\linalg\\linalg.py:2530\u001b[0m, in \u001b[0;36mnorm\u001b[1;34m(x, ord, axis, keepdims)\u001b[0m\n\u001b[0;32m   2528\u001b[0m     sqnorm \u001b[39m=\u001b[39m dot(x\u001b[39m.\u001b[39mreal, x\u001b[39m.\u001b[39mreal) \u001b[39m+\u001b[39m dot(x\u001b[39m.\u001b[39mimag, x\u001b[39m.\u001b[39mimag)\n\u001b[0;32m   2529\u001b[0m \u001b[39melse\u001b[39;00m:\n\u001b[1;32m-> 2530\u001b[0m     sqnorm \u001b[39m=\u001b[39m dot(x, x)\n\u001b[0;32m   2531\u001b[0m ret \u001b[39m=\u001b[39m sqrt(sqnorm)\n\u001b[0;32m   2532\u001b[0m \u001b[39mif\u001b[39;00m keepdims:\n",
      "File \u001b[1;32m<__array_function__ internals>:5\u001b[0m, in \u001b[0;36mdot\u001b[1;34m(*args, **kwargs)\u001b[0m\n",
      "\u001b[1;31mKeyboardInterrupt\u001b[0m: "
     ]
    }
   ],
   "source": [
    "contexts = wa.get_contexts_sents(vocabulary, sents)\n",
    "vectors = wa.get_probabilities(vocabulary, contexts)\n",
    "for w in vocabulary:\n",
    "    try:\n",
    "        wa.similar_words(w, vectors, aux_path = '_by_sents', \n",
    "                        dot_product = True, cosine = True)\n",
    "        print('Se completo', w)\n",
    "    except Exception as e:\n",
    "        print('Ocurrió el siguiente error:', e, 'en la palabra', w)"
   ]
  }
 ],
 "metadata": {
  "kernelspec": {
   "display_name": "Python 3.9.12 ('base')",
   "language": "python",
   "name": "python3"
  },
  "language_info": {
   "codemirror_mode": {
    "name": "ipython",
    "version": 3
   },
   "file_extension": ".py",
   "mimetype": "text/x-python",
   "name": "python",
   "nbconvert_exporter": "python",
   "pygments_lexer": "ipython3",
   "version": "3.9.12"
  },
  "vscode": {
   "interpreter": {
    "hash": "cd1fd7730a3ff7811bc6623d31c907c7b97c986d3e82d3b9938e7dcbaa66e63f"
   }
  }
 },
 "nbformat": 4,
 "nbformat_minor": 5
}
