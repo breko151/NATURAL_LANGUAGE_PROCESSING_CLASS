{
 "cells": [
  {
   "cell_type": "markdown",
   "id": "465a6aef",
   "metadata": {},
   "source": [
    "# Similarity\n",
    "**Suárez Pérez Juan Pablo**"
   ]
  },
  {
   "cell_type": "markdown",
   "id": "71f0d776",
   "metadata": {},
   "source": [
    "## Text Processing "
   ]
  },
  {
   "cell_type": "code",
   "execution_count": 1,
   "id": "5af1ae4d",
   "metadata": {},
   "outputs": [],
   "source": [
    "# Import the libraries needed\n",
    "from nlp_functions import text_processing as tp\n",
    "from nlp_functions import word_association as wa"
   ]
  },
  {
   "cell_type": "code",
   "execution_count": 2,
   "id": "530b2e9e",
   "metadata": {},
   "outputs": [],
   "source": [
    "# Clean the corpus\n",
    "tp.clean_corpus('./../EXCELSIOR_100_files/', './new_corpus/')"
   ]
  },
  {
   "cell_type": "code",
   "execution_count": 3,
   "id": "fef26468",
   "metadata": {},
   "outputs": [],
   "source": [
    "# Get clean corpus\n",
    "text = tp.get_clean_text('./new_corpus/clean_corpus.txt')"
   ]
  },
  {
   "cell_type": "markdown",
   "id": "e3de761e",
   "metadata": {},
   "source": [
    "### Normalization "
   ]
  },
  {
   "cell_type": "code",
   "execution_count": 4,
   "id": "ec16f44b",
   "metadata": {},
   "outputs": [],
   "source": [
    "# Tokenize the text\n",
    "words = tp.word_tokenize(text)\n",
    "sents = tp.sentence_tokenize(text)"
   ]
  },
  {
   "cell_type": "code",
   "execution_count": 5,
   "id": "a6d088c5",
   "metadata": {},
   "outputs": [],
   "source": [
    "# Delete stop words\n",
    "words = tp.delete_stop_words(words, './nlp_functions/stopwords_and_lemmas/stopwords_es.txt')\n",
    "sents = tp.delete_stop_words_sents(sents, './nlp_functions/stopwords_and_lemmas/stopwords_es.txt')"
   ]
  },
  {
   "cell_type": "code",
   "execution_count": 6,
   "id": "ac165198",
   "metadata": {},
   "outputs": [],
   "source": [
    "# Lemmatize\n",
    "words = tp.lemmatize(words, './nlp_functions/stopwords_and_lemmas/generate.txt')\n",
    "sents = tp.lemmatize_sents(sents, './nlp_functions/stopwords_and_lemmas/generate.txt')"
   ]
  },
  {
   "cell_type": "code",
   "execution_count": 7,
   "id": "bfc7734f",
   "metadata": {},
   "outputs": [],
   "source": [
    "# Get Vocabulary\n",
    "vocabulary = tp.get_vocabulary(words)"
   ]
  },
  {
   "cell_type": "markdown",
   "id": "8d7c6ae6",
   "metadata": {},
   "source": [
    "## Numeric Representation "
   ]
  },
  {
   "cell_type": "markdown",
   "id": "928db43e",
   "metadata": {},
   "source": [
    "### Similarities by Words"
   ]
  },
  {
   "cell_type": "code",
   "execution_count": null,
   "id": "97903ace",
   "metadata": {},
   "outputs": [],
   "source": [
    "contexts = wa.get_contexts(vocabulary, words)\n",
    "vectors = wa.get_vectors(vocabulary, contexts)\n",
    "for w in vocabulary:\n",
    "    try:\n",
    "        wa.similar_words(w, vectors, aux_path = '_by_words', \n",
    "                         dot_product = True, cosine = True)\n",
    "        print('Se completo', w)\n",
    "    except Exception as e:\n",
    "        print('Ocurrió el siguiente error:', e, 'en la palabra', w)"
   ]
  },
  {
   "cell_type": "code",
   "execution_count": null,
   "id": "84f3359a",
   "metadata": {},
   "outputs": [],
   "source": [
    "probs = wa.get_vectors(vocabulary, contexts, prob = True)\n",
    "for w in vocabulary:\n",
    "    try:\n",
    "        wa.similar_words(w, probs, aux_path = '_by_words_prob', \n",
    "                         dot_product = True, cosine = True)\n",
    "        print('Se completo', w)\n",
    "    except Exception as e:\n",
    "        print('Ocurrió el siguiente error:', e, 'en la palabra', w)"
   ]
  },
  {
   "cell_type": "markdown",
   "id": "d7a69570",
   "metadata": {},
   "source": [
    "### Similarities by Sents "
   ]
  },
  {
   "cell_type": "code",
   "execution_count": null,
   "id": "e9e811d1",
   "metadata": {},
   "outputs": [],
   "source": [
    "contexts = wa.get_contexts_sents(vocabulary, sents)\n",
    "vectors = wa.get_vectors(vocabulary, contexts)\n",
    "for w in vocabulary:\n",
    "    try:\n",
    "        wa.similar_words(w, vectors, aux_path = '_by_sents', \n",
    "                        dot_product = True, cosine = True)\n",
    "        print('Se completo', w)\n",
    "    except Exception as e:\n",
    "        print('Ocurrió el siguiente error:', e, 'en la palabra', w)"
   ]
  },
  {
   "cell_type": "code",
   "execution_count": null,
   "id": "970b2561",
   "metadata": {},
   "outputs": [],
   "source": [
    "probs = wa.get_vectors(vocabulary, contexts, prob = True)\n",
    "for w in vocabulary:\n",
    "    try:\n",
    "        wa.similar_words(w, probs, aux_path = '_by_sents_prob', \n",
    "                        dot_product = True, cosine = True)\n",
    "        print('Se completo', w)\n",
    "    except Exception as e:\n",
    "        print('Ocurrió el siguiente error:', e, 'en la palabra', w)"
   ]
  },
  {
   "cell_type": "markdown",
   "id": "08f55f9f",
   "metadata": {},
   "source": [
    "### Final "
   ]
  },
  {
   "cell_type": "code",
   "execution_count": 8,
   "id": "583f62b2",
   "metadata": {},
   "outputs": [],
   "source": [
    "# Words\n",
    "contexts_1 = wa.get_contexts(vocabulary, words)\n",
    "probs_1 = wa.get_vectors(vocabulary, contexts_1, prob = True)\n",
    "# Sentences\n",
    "contexts_2 = wa.get_contexts_sents(vocabulary, sents)\n",
    "probs_2 = wa.get_vectors(vocabulary, contexts_2, prob = True)"
   ]
  },
  {
   "cell_type": "code",
   "execution_count": 10,
   "id": "6229f549",
   "metadata": {},
   "outputs": [
    {
     "name": "stdout",
     "output_type": "stream",
     "text": [
      "Se completo empresa palabras\n",
      "Se completo empresa oraciones\n"
     ]
    }
   ],
   "source": [
    "word = \"empresa\"\n",
    "try:\n",
    "    # Words\n",
    "    wa.similar_words(word, probs_1, aux_path = '_by_words_prob_end', \n",
    "                    dot_product = True, cosine = True)\n",
    "    print('Se completo', word, 'palabras')\n",
    "    # Sents\n",
    "    wa.similar_words(word, probs_2, aux_path = '_by_sents_prob_end', \n",
    "                    dot_product = True, cosine = True)\n",
    "    print('Se completo', word, 'oraciones')\n",
    "except Exception as e:\n",
    "    print('Ocurrió el siguiente error:', e, 'en la palabra', word)"
   ]
  },
  {
   "cell_type": "code",
   "execution_count": null,
   "id": "d24fce95",
   "metadata": {},
   "outputs": [],
   "source": [
    "sents[1]"
   ]
  }
 ],
 "metadata": {
  "kernelspec": {
   "display_name": "Python 3 (ipykernel)",
   "language": "python",
   "name": "python3"
  },
  "language_info": {
   "codemirror_mode": {
    "name": "ipython",
    "version": 3
   },
   "file_extension": ".py",
   "mimetype": "text/x-python",
   "name": "python",
   "nbconvert_exporter": "python",
   "pygments_lexer": "ipython3",
   "version": "3.9.12"
  },
  "vscode": {
   "interpreter": {
    "hash": "cd1fd7730a3ff7811bc6623d31c907c7b97c986d3e82d3b9938e7dcbaa66e63f"
   }
  }
 },
 "nbformat": 4,
 "nbformat_minor": 5
}
