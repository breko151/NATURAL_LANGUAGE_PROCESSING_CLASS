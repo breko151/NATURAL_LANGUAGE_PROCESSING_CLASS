{
 "cells": [
  {
   "cell_type": "markdown",
   "id": "f614f04d",
   "metadata": {},
   "source": [
    "# Mining Topics\n",
    "**Suárez Pérez Juan Pablo**"
   ]
  },
  {
   "cell_type": "markdown",
   "id": "8f3ae1e1",
   "metadata": {},
   "source": [
    "## Text Processing "
   ]
  },
  {
   "cell_type": "code",
   "execution_count": 1,
   "id": "aaeb7df6",
   "metadata": {},
   "outputs": [],
   "source": [
    "# Import the libraries needed\n",
    "from nlp_functions import text_processing as tp\n",
    "from nlp_functions import word_association as wa\n",
    "from nlp_functions import article_segmentation as arse\n",
    "from nlp_functions import mining_topics as mt\n",
    "import numpy as np\n",
    "from gensim import corpora\n",
    "import gensim"
   ]
  },
  {
   "cell_type": "markdown",
   "id": "9d74f45b",
   "metadata": {},
   "source": [
    "## Mining Articles and Titles"
   ]
  },
  {
   "cell_type": "code",
   "execution_count": 2,
   "id": "b0faad0d",
   "metadata": {},
   "outputs": [],
   "source": [
    "titles = arse.get_titles('./../EXCELSIOR_100_files/', './titles/', 0)"
   ]
  },
  {
   "cell_type": "code",
   "execution_count": 3,
   "id": "9d65f169",
   "metadata": {},
   "outputs": [],
   "source": [
    "articles = arse.get_articles('./../EXCELSIOR_100_files/', 0)"
   ]
  },
  {
   "cell_type": "markdown",
   "id": "6313617c",
   "metadata": {},
   "source": [
    "### Normalize articles"
   ]
  },
  {
   "cell_type": "code",
   "execution_count": 4,
   "id": "4b7ee4f3",
   "metadata": {},
   "outputs": [],
   "source": [
    "tokenize_articles = list()\n",
    "for article in articles:\n",
    "    tokenize_articles.append(tp.word_tokenize(article))"
   ]
  },
  {
   "cell_type": "code",
   "execution_count": 5,
   "id": "ff328e43",
   "metadata": {},
   "outputs": [],
   "source": [
    "clean_articles = list()\n",
    "for article in tokenize_articles:\n",
    "    clean_articles.append(tp.delete_stop_words(article, './nlp_functions/stopwords_and_lemmas/stopwords_es.txt'))"
   ]
  },
  {
   "cell_type": "code",
   "execution_count": 6,
   "id": "e61bc78a",
   "metadata": {},
   "outputs": [],
   "source": [
    "lemmatize_articles = list()\n",
    "for article in clean_articles:\n",
    "    lemmatize_articles.append(tp.lemmatize(article, './nlp_functions/stopwords_and_lemmas/generate.txt'))"
   ]
  },
  {
   "cell_type": "markdown",
   "id": "dc935589",
   "metadata": {},
   "source": [
    "## Mining Topics"
   ]
  },
  {
   "cell_type": "markdown",
   "id": "6d722211",
   "metadata": {},
   "source": [
    "## Distribution of Topics in Documents"
   ]
  },
  {
   "cell_type": "markdown",
   "id": "14a6ae5e",
   "metadata": {},
   "source": [
    "#### General Page"
   ]
  },
  {
   "cell_type": "code",
   "execution_count": 7,
   "id": "0fb6dea7",
   "metadata": {},
   "outputs": [],
   "source": [
    "dictionary = corpora.Dictionary(lemmatize_articles)"
   ]
  },
  {
   "cell_type": "code",
   "execution_count": 8,
   "id": "98f093ec",
   "metadata": {},
   "outputs": [],
   "source": [
    "doc_term_matrix = [dictionary.doc2bow(doc) for doc in lemmatize_articles]"
   ]
  },
  {
   "cell_type": "code",
   "execution_count": 9,
   "id": "d9cecfe1",
   "metadata": {},
   "outputs": [],
   "source": [
    "Lda = gensim.models.ldamodel.LdaModel"
   ]
  },
  {
   "cell_type": "code",
   "execution_count": 10,
   "id": "ef93f6cd",
   "metadata": {},
   "outputs": [],
   "source": [
    "ldamodel = Lda(doc_term_matrix, num_topics=3, id2word = dictionary, passes=500)"
   ]
  },
  {
   "cell_type": "code",
   "execution_count": 11,
   "id": "0961321e",
   "metadata": {},
   "outputs": [
    {
     "name": "stdout",
     "output_type": "stream",
     "text": [
      "[(0, '0.007*\"poder\" + 0.005*\"empresa\" + 0.005*\"si\" + 0.005*\"hacer\" + 0.004*\"año\"'), (1, '0.006*\"millón\" + 0.006*\"poder\" + 0.006*\"año\" + 0.005*\"financiero\" + 0.005*\"méxico\"'), (2, '0.006*\"gobierno\" + 0.005*\"peso\" + 0.004*\"tierra\" + 0.004*\"millón\" + 0.004*\"agrario\"')]\n"
     ]
    }
   ],
   "source": [
    "print(ldamodel.print_topics(num_topics=3, num_words=5))"
   ]
  },
  {
   "cell_type": "markdown",
   "id": "d31c3194",
   "metadata": {},
   "source": [
    "#### Article 2"
   ]
  },
  {
   "cell_type": "code",
   "execution_count": 12,
   "id": "5c315ae0",
   "metadata": {},
   "outputs": [],
   "source": [
    "article2 = articles[1]"
   ]
  },
  {
   "cell_type": "code",
   "execution_count": 13,
   "id": "63f6430b",
   "metadata": {},
   "outputs": [],
   "source": [
    "article2_tokens = tp.sentence_tokenize(article2)"
   ]
  },
  {
   "cell_type": "code",
   "execution_count": 14,
   "id": "20b1ea08",
   "metadata": {},
   "outputs": [],
   "source": [
    "article2_clean = tp.delete_stop_words_sents(article2_tokens, './nlp_functions/stopwords_and_lemmas/stopwords_es.txt')"
   ]
  },
  {
   "cell_type": "code",
   "execution_count": 15,
   "id": "913ca980",
   "metadata": {},
   "outputs": [],
   "source": [
    "article2_lemmas = tp.lemmatize_sents(article2_clean, './nlp_functions/stopwords_and_lemmas/generate.txt')"
   ]
  },
  {
   "cell_type": "code",
   "execution_count": 16,
   "id": "e739c0c0",
   "metadata": {},
   "outputs": [],
   "source": [
    "dictionary_art2 = corpora.Dictionary(article2_lemmas)"
   ]
  },
  {
   "cell_type": "code",
   "execution_count": 17,
   "id": "b47b5d1f",
   "metadata": {},
   "outputs": [],
   "source": [
    "doc_term_matrix_art2 = [dictionary_art2.doc2bow(doc) for doc in article2_lemmas]"
   ]
  },
  {
   "cell_type": "code",
   "execution_count": 18,
   "id": "4a268cbf",
   "metadata": {},
   "outputs": [],
   "source": [
    "ldamodel = Lda(doc_term_matrix_art2, num_topics=3, id2word = dictionary_art2, passes=500)"
   ]
  },
  {
   "cell_type": "code",
   "execution_count": 19,
   "id": "0a0091aa",
   "metadata": {},
   "outputs": [
    {
     "name": "stdout",
     "output_type": "stream",
     "text": [
      "[(0, '0.023*\"duce\" + 0.018*\"italia\" + 0.018*\"grande\" + 0.012*\"italiana\" + 0.012*\"moción\"'), (1, '0.020*\"millón\" + 0.020*\"momento\" + 0.014*\"scalfaro\" + 0.014*\"mes\" + 0.014*\"dólar\"'), (2, '0.024*\"mussolini\" + 0.017*\"romo\" + 0.016*\"julio\" + 0.016*\"palacio\" + 0.016*\"herido\"')]\n"
     ]
    }
   ],
   "source": [
    "print(ldamodel.print_topics(num_topics=3, num_words=5))"
   ]
  }
 ],
 "metadata": {
  "kernelspec": {
   "display_name": "Python 3 (ipykernel)",
   "language": "python",
   "name": "python3"
  },
  "language_info": {
   "codemirror_mode": {
    "name": "ipython",
    "version": 3
   },
   "file_extension": ".py",
   "mimetype": "text/x-python",
   "name": "python",
   "nbconvert_exporter": "python",
   "pygments_lexer": "ipython3",
   "version": "3.9.12"
  },
  "vscode": {
   "interpreter": {
    "hash": "cd1fd7730a3ff7811bc6623d31c907c7b97c986d3e82d3b9938e7dcbaa66e63f"
   }
  }
 },
 "nbformat": 4,
 "nbformat_minor": 5
}
