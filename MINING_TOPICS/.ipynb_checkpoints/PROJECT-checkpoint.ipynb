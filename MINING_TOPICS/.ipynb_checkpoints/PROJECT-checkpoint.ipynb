{
 "cells": [
  {
   "cell_type": "markdown",
   "id": "f614f04d",
   "metadata": {},
   "source": [
    "# Similarity by BM25\n",
    "**Suárez Pérez Juan Pablo**"
   ]
  },
  {
   "cell_type": "markdown",
   "id": "8f3ae1e1",
   "metadata": {},
   "source": [
    "## Text Processing "
   ]
  },
  {
   "cell_type": "code",
   "execution_count": 1,
   "id": "aaeb7df6",
   "metadata": {},
   "outputs": [],
   "source": [
    "# Import the libraries needed\n",
    "from nlp_functions import text_processing as tp\n",
    "from nlp_functions import word_association as wa\n",
    "from nlp_functions import article_segmentation as arse\n",
    "from nlp_functions import mining_topics as mt"
   ]
  },
  {
   "cell_type": "code",
   "execution_count": 2,
   "id": "76c92ded",
   "metadata": {},
   "outputs": [],
   "source": [
    "# Clean the corpus\n",
    "tp.clean_corpus('./../EXCELSIOR_100_files/', './new_corpus/', 1)"
   ]
  },
  {
   "cell_type": "code",
   "execution_count": 3,
   "id": "b3aaafc3",
   "metadata": {},
   "outputs": [],
   "source": [
    "# Get clean corpus\n",
    "    # Delete HTML Tags.\n",
    "    # Lower words.\n",
    "text = tp.get_clean_text('./new_corpus/clean_e960402_mod_corpus.txt')"
   ]
  },
  {
   "cell_type": "code",
   "execution_count": 4,
   "id": "3a4bff3d",
   "metadata": {},
   "outputs": [],
   "source": [
    "# Sentences segmentation\n",
    "# Split Sentences\n",
    "# Delete Special Caracters\n",
    "sents = tp.sentence_tokenize(text)"
   ]
  },
  {
   "cell_type": "code",
   "execution_count": 5,
   "id": "b7d36bb9",
   "metadata": {},
   "outputs": [],
   "source": [
    "# Delete Stop Words\n",
    "clean_sents = tp.delete_stop_words_sents(sents, './nlp_functions/stopwords_and_lemmas/stopwords_es.txt')"
   ]
  },
  {
   "cell_type": "code",
   "execution_count": 6,
   "id": "f95889b8",
   "metadata": {},
   "outputs": [],
   "source": [
    "# Lemmatize\n",
    "lemmatize_sents = tp.lemmatize_sents(clean_sents, './nlp_functions/stopwords_and_lemmas/generate.txt')"
   ]
  },
  {
   "cell_type": "code",
   "execution_count": 7,
   "id": "385506a3",
   "metadata": {},
   "outputs": [
    {
     "name": "stdout",
     "output_type": "stream",
     "text": [
      "Vocabulary size: 4770\n"
     ]
    }
   ],
   "source": [
    "# Get Vocabulary\n",
    "vocabulary = tp.get_vocabulary_by_sents(lemmatize_sents)"
   ]
  },
  {
   "cell_type": "markdown",
   "id": "9d74f45b",
   "metadata": {},
   "source": [
    "## Mining Articles and Titles"
   ]
  },
  {
   "cell_type": "code",
   "execution_count": 9,
   "id": "b0faad0d",
   "metadata": {},
   "outputs": [],
   "source": [
    "titles = arse.get_titles('./../EXCELSIOR_100_files/', './titles/', 1)"
   ]
  },
  {
   "cell_type": "code",
   "execution_count": 10,
   "id": "9d65f169",
   "metadata": {},
   "outputs": [],
   "source": [
    "articles = arse.get_articles('./../EXCELSIOR_100_files/', 1)"
   ]
  },
  {
   "cell_type": "markdown",
   "id": "6313617c",
   "metadata": {},
   "source": [
    "### Normalize articles"
   ]
  },
  {
   "cell_type": "code",
   "execution_count": 11,
   "id": "4b7ee4f3",
   "metadata": {},
   "outputs": [],
   "source": [
    "tokenize_articles = list()\n",
    "for article in articles:\n",
    "    tokenize_articles.append(tp.sentence_tokenize(article))"
   ]
  },
  {
   "cell_type": "code",
   "execution_count": 12,
   "id": "ff328e43",
   "metadata": {},
   "outputs": [],
   "source": [
    "clean_articles = list()\n",
    "for article in tokenize_articles:\n",
    "    clean_articles.append(tp.delete_stop_words_sents(article, './nlp_functions/stopwords_and_lemmas/stopwords_es.txt'))"
   ]
  },
  {
   "cell_type": "code",
   "execution_count": null,
   "id": "e61bc78a",
   "metadata": {},
   "outputs": [],
   "source": [
    "lemmatize_articles = list()\n",
    "for article in clean_articles:\n",
    "    lemmatize_articles.append(tp.lemmatize_sents(article, './nlp_functions/stopwords_and_lemmas/generate.txt'))"
   ]
  },
  {
   "cell_type": "markdown",
   "id": "dc935589",
   "metadata": {},
   "source": [
    "## Mining Topics"
   ]
  },
  {
   "cell_type": "code",
   "execution_count": null,
   "id": "994b2238",
   "metadata": {},
   "outputs": [],
   "source": [
    "most_freq_words_prob = mt.get_most_freq_words_prob(lemmatize_sents, vocabulary)"
   ]
  },
  {
   "cell_type": "code",
   "execution_count": null,
   "id": "eef93ba3",
   "metadata": {},
   "outputs": [],
   "source": [
    "most_freq_words = mt.get_most_freq_words(lemmatize_sents, vocabulary) "
   ]
  },
  {
   "cell_type": "code",
   "execution_count": null,
   "id": "4ff45f55",
   "metadata": {},
   "outputs": [],
   "source": [
    "context = wa.get_contexts_sents(vocabulary, lemmatize_sents)\n",
    "bm25_vectors = wa.get_vectors(vocabulary, context)\n",
    "idf = wa.get_idf(bm25_vectors)"
   ]
  },
  {
   "cell_type": "code",
   "execution_count": null,
   "id": "9747cc3b",
   "metadata": {},
   "outputs": [],
   "source": [
    "most_freq_words_tf_idf = mt.get_most_freq_words_tf_idf(idf, most_freq_words_prob, vocabulary)"
   ]
  },
  {
   "cell_type": "markdown",
   "id": "6d722211",
   "metadata": {},
   "source": [
    "## Distribution of Topics in Documents"
   ]
  },
  {
   "cell_type": "code",
   "execution_count": null,
   "id": "dadafaf9",
   "metadata": {},
   "outputs": [],
   "source": [
    "topics = ['méxico', 'gobierno', 'internet', 'política', 'dólar']\n",
    "dist_topics = mt.get_distribution(titles, lemmatize_articles, topics)"
   ]
  },
  {
   "cell_type": "code",
   "execution_count": null,
   "id": "2d1366c5",
   "metadata": {},
   "outputs": [],
   "source": [
    "for k, v in dist_topics.items():\n",
    "    if k[-2:] == '\\n':\n",
    "        print(k[:-2])\n",
    "    else:\n",
    "        print(k)\n",
    "    for k2, v2 in v.items():\n",
    "        print('\\t', k2, ':', v2)"
   ]
  }
 ],
 "metadata": {
  "kernelspec": {
   "display_name": "Python 3 (ipykernel)",
   "language": "python",
   "name": "python3"
  },
  "language_info": {
   "codemirror_mode": {
    "name": "ipython",
    "version": 3
   },
   "file_extension": ".py",
   "mimetype": "text/x-python",
   "name": "python",
   "nbconvert_exporter": "python",
   "pygments_lexer": "ipython3",
   "version": "3.9.12"
  },
  "vscode": {
   "interpreter": {
    "hash": "cd1fd7730a3ff7811bc6623d31c907c7b97c986d3e82d3b9938e7dcbaa66e63f"
   }
  }
 },
 "nbformat": 4,
 "nbformat_minor": 5
}
