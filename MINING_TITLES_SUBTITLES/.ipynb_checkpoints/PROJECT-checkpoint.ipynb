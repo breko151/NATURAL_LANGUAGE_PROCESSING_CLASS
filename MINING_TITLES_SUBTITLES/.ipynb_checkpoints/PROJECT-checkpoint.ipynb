{
 "cells": [
  {
   "cell_type": "markdown",
   "id": "dd4f69ea",
   "metadata": {},
   "source": [
    "# Mining Titles and SubTitles\n",
    "**Suárez Pérez Juan Pablo**"
   ]
  },
  {
   "cell_type": "code",
   "execution_count": 1,
   "id": "d8927e5e",
   "metadata": {},
   "outputs": [],
   "source": [
    "# Import the libraries needed\n",
    "from nlp_functions import text_processing as tp"
   ]
  },
  {
   "cell_type": "markdown",
   "id": "1d33c113",
   "metadata": {},
   "source": [
    "## Text Processing"
   ]
  },
  {
   "cell_type": "markdown",
   "id": "7611e816",
   "metadata": {},
   "source": [
    "### Get Titles"
   ]
  },
  {
   "cell_type": "code",
   "execution_count": 2,
   "id": "23f1beae",
   "metadata": {},
   "outputs": [],
   "source": [
    "# Get Titles from Page 0\n",
    "page0_titles = tp.get_titles('./../EXCELSIOR_100_files/', './titles/')"
   ]
  },
  {
   "cell_type": "markdown",
   "id": "79b0ec9e",
   "metadata": {},
   "source": [
    "### Get  SubTitles"
   ]
  },
  {
   "cell_type": "code",
   "execution_count": 3,
   "id": "8a4e2d54",
   "metadata": {},
   "outputs": [],
   "source": [
    "# Get SubTitles from Page 0\n",
    "page0_subtitles = tp.get_subtitles('./../EXCELSIOR_100_files/', './subtitles/')"
   ]
  },
  {
   "cell_type": "markdown",
   "id": "23725b6c",
   "metadata": {},
   "source": [
    "### Get Articles"
   ]
  },
  {
   "cell_type": "code",
   "execution_count": 4,
   "id": "aa044525",
   "metadata": {},
   "outputs": [],
   "source": [
    "page0_articles = tp.get_articles('./../EXCELSIOR_100_files/')"
   ]
  }
 ],
 "metadata": {
  "kernelspec": {
   "display_name": "Python 3 (ipykernel)",
   "language": "python",
   "name": "python3"
  },
  "language_info": {
   "codemirror_mode": {
    "name": "ipython",
    "version": 3
   },
   "file_extension": ".py",
   "mimetype": "text/x-python",
   "name": "python",
   "nbconvert_exporter": "python",
   "pygments_lexer": "ipython3",
   "version": "3.9.12"
  },
  "vscode": {
   "interpreter": {
    "hash": "cd1fd7730a3ff7811bc6623d31c907c7b97c986d3e82d3b9938e7dcbaa66e63f"
   }
  }
 },
 "nbformat": 4,
 "nbformat_minor": 5
}
