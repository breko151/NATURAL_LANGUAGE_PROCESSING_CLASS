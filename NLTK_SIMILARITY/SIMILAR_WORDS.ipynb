{
 "cells": [
  {
   "cell_type": "markdown",
   "id": "853b1d88",
   "metadata": {},
   "source": [
    "# Similar Words with NLTK\n",
    "**Suárez Pérez Juan Pablo**"
   ]
  },
  {
   "cell_type": "markdown",
   "id": "b4f9b9c7",
   "metadata": {},
   "source": [
    "We can get similar word with function similar of NLTK."
   ]
  },
  {
   "cell_type": "code",
   "execution_count": 1,
   "id": "86cca1a4",
   "metadata": {},
   "outputs": [],
   "source": [
    "# The necessary libraries\n",
    "import sys\n",
    "import io\n",
    "import nltk\n",
    "from nlp_functions import text_processing as tp\n",
    "from nlp_functions import word_association as wa"
   ]
  },
  {
   "cell_type": "markdown",
   "id": "004180ba",
   "metadata": {},
   "source": [
    "## Text Processing "
   ]
  },
  {
   "cell_type": "code",
   "execution_count": 2,
   "id": "e83fdfaa",
   "metadata": {},
   "outputs": [],
   "source": [
    "# Clean the corpus\n",
    "tp.clean_corpus('./../EXCELSIOR_100_files/', './new_corpus/')\n",
    "# Get clean corpus\n",
    "text = tp.get_clean_text('./new_corpus/clean_corpus.txt')"
   ]
  },
  {
   "cell_type": "markdown",
   "id": "eb111818",
   "metadata": {},
   "source": [
    "### Normalization"
   ]
  },
  {
   "cell_type": "code",
   "execution_count": 3,
   "id": "f0e8c993",
   "metadata": {},
   "outputs": [],
   "source": [
    "# Tokenize the text\n",
    "words = tp.word_tokenize(text)\n",
    "sents = tp.sentence_tokenize(text)"
   ]
  },
  {
   "cell_type": "code",
   "execution_count": 4,
   "id": "88216878",
   "metadata": {},
   "outputs": [],
   "source": [
    "# Delete stop words\n",
    "words = tp.delete_stop_words(words, './nlp_functions/stopwords_and_lemmas/stopwords_es.txt')\n",
    "sents = tp.delete_stop_words_sents(sents, './nlp_functions/stopwords_and_lemmas/stopwords_es.txt')"
   ]
  },
  {
   "cell_type": "code",
   "execution_count": 5,
   "id": "fc1c7642",
   "metadata": {},
   "outputs": [],
   "source": [
    "# Lemmatize\n",
    "words = tp.lemmatize(words, './nlp_functions/stopwords_and_lemmas/generate.txt')\n",
    "sents = tp.lemmatize_sents(sents, './nlp_functions/stopwords_and_lemmas/generate.txt')"
   ]
  },
  {
   "cell_type": "code",
   "execution_count": 6,
   "id": "c4512893",
   "metadata": {},
   "outputs": [],
   "source": [
    "text = nltk.Text(words)"
   ]
  },
  {
   "cell_type": "code",
   "execution_count": 7,
   "id": "a3106598",
   "metadata": {},
   "outputs": [],
   "source": [
    "def similar_words_NLTK(text, word):\n",
    "    \n",
    "    orig_stdout =sys.stdout\n",
    "    out = io.StringIO()\n",
    "    sys.stdout = out\n",
    "    \n",
    "    text.similar(word)\n",
    "    \n",
    "    storable_output = out.getvalue()\n",
    "    sys.stdout = orig_stdout\n",
    "    \n",
    "    similar_words = storable_output\n",
    "    similar_words = sorted(similar_words.split())\n",
    "    \n",
    "    return similar_words"
   ]
  },
  {
   "cell_type": "code",
   "execution_count": 8,
   "id": "c387a9ba",
   "metadata": {},
   "outputs": [],
   "source": [
    "similar_words = similar_words_NLTK(text, 'acción')"
   ]
  },
  {
   "cell_type": "code",
   "execution_count": 9,
   "id": "fe8b82d8",
   "metadata": {},
   "outputs": [
    {
     "data": {
      "text/plain": [
       "[]"
      ]
     },
     "execution_count": 9,
     "metadata": {},
     "output_type": "execute_result"
    }
   ],
   "source": [
    "similar_words"
   ]
  }
 ],
 "metadata": {
  "kernelspec": {
   "display_name": "Python 3 (ipykernel)",
   "language": "python",
   "name": "python3"
  },
  "language_info": {
   "codemirror_mode": {
    "name": "ipython",
    "version": 3
   },
   "file_extension": ".py",
   "mimetype": "text/x-python",
   "name": "python",
   "nbconvert_exporter": "python",
   "pygments_lexer": "ipython3",
   "version": "3.9.12"
  }
 },
 "nbformat": 4,
 "nbformat_minor": 5
}
