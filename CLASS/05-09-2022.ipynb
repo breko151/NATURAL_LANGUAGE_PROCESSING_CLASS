{
 "cells": [
  {
   "cell_type": "markdown",
   "id": "f9224abb",
   "metadata": {},
   "source": [
    "# Clase 31/08/2022\n",
    "**Suárez Pérez Juan Pablo**"
   ]
  },
  {
   "cell_type": "markdown",
   "id": "1a51bc44",
   "metadata": {},
   "source": [
    "### Preprocesamiento de texto\n",
    "    Proceso de Tokenización, Lematización, Limpieza y Normalización.\n",
    "### Representación numérica de texto\n",
    "    Pseudo Document: Son las palabras del contexto.\n",
    "    Ventana: Cuántas palabras se escogen a los lados de la palabras deseadas.\n",
    "    Vocabulary = sorted(list(set(words))).\n",
    "    Para cada palabra dentro del vocabulario, realizar proceso de representación númerica.\n",
    "    documentos: contexts[w1]\n",
    "    vectorizar: documentos"
   ]
  },
  {
   "cell_type": "markdown",
   "id": "aeb5cc9e",
   "metadata": {},
   "source": [
    "## El ejercicio está en la carpeta de Normalization"
   ]
  }
 ],
 "metadata": {
  "kernelspec": {
   "display_name": "Python 3.9.12 ('base')",
   "language": "python",
   "name": "python3"
  },
  "language_info": {
   "codemirror_mode": {
    "name": "ipython",
    "version": 3
   },
   "file_extension": ".py",
   "mimetype": "text/x-python",
   "name": "python",
   "nbconvert_exporter": "python",
   "pygments_lexer": "ipython3",
   "version": "3.9.12"
  },
  "vscode": {
   "interpreter": {
    "hash": "cd1fd7730a3ff7811bc6623d31c907c7b97c986d3e82d3b9938e7dcbaa66e63f"
   }
  }
 },
 "nbformat": 4,
 "nbformat_minor": 5
}
