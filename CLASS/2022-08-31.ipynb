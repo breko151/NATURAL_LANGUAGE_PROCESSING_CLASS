{
 "cells": [
  {
   "cell_type": "markdown",
   "id": "50e615d2",
   "metadata": {},
   "source": [
    "# Clase 31/08/2022\n",
    "**Suárez Pérez Juan Pablo**"
   ]
  },
  {
   "cell_type": "markdown",
   "id": "63096a85",
   "metadata": {},
   "source": [
    "**WorldNet**: (Inglés) Marcar relaciones entre palabras, no solo para tener lista de palabras..."
   ]
  },
  {
   "cell_type": "code",
   "execution_count": 1,
   "id": "b2cf2d48",
   "metadata": {},
   "outputs": [],
   "source": [
    "from nltk.corpus import wordnet as wn"
   ]
  },
  {
   "cell_type": "code",
   "execution_count": 2,
   "id": "dc2e4071",
   "metadata": {},
   "outputs": [
    {
     "data": {
      "text/plain": [
       "[Synset('computer.n.01'), Synset('calculator.n.01')]"
      ]
     },
     "execution_count": 2,
     "metadata": {},
     "output_type": "execute_result"
    }
   ],
   "source": [
    "wn.synsets('computer')"
   ]
  },
  {
   "cell_type": "code",
   "execution_count": 3,
   "id": "b8233970",
   "metadata": {},
   "outputs": [
    {
     "data": {
      "text/plain": [
       "['computer',\n",
       " 'computing_machine',\n",
       " 'computing_device',\n",
       " 'data_processor',\n",
       " 'electronic_computer',\n",
       " 'information_processing_system']"
      ]
     },
     "execution_count": 3,
     "metadata": {},
     "output_type": "execute_result"
    }
   ],
   "source": [
    "wn.synset('computer.n.01').lemma_names()"
   ]
  },
  {
   "cell_type": "code",
   "execution_count": 4,
   "id": "7c108549",
   "metadata": {},
   "outputs": [
    {
     "data": {
      "text/plain": [
       "['calculator', 'reckoner', 'figurer', 'estimator', 'computer']"
      ]
     },
     "execution_count": 4,
     "metadata": {},
     "output_type": "execute_result"
    }
   ],
   "source": [
    "wn.synset('calculator.n.01').lemma_names()"
   ]
  },
  {
   "cell_type": "code",
   "execution_count": 5,
   "id": "6d8e1ac8",
   "metadata": {},
   "outputs": [],
   "source": [
    "computer = wn.synset('computer.n.01')\n",
    "types_of_computer = computer.hyponyms()"
   ]
  },
  {
   "cell_type": "code",
   "execution_count": 6,
   "id": "3f980cc0",
   "metadata": {},
   "outputs": [
    {
     "data": {
      "text/plain": [
       "[Synset('analog_computer.n.01'),\n",
       " Synset('digital_computer.n.01'),\n",
       " Synset('home_computer.n.01'),\n",
       " Synset('node.n.08'),\n",
       " Synset('number_cruncher.n.02'),\n",
       " Synset('pari-mutuel_machine.n.01'),\n",
       " Synset('predictor.n.03'),\n",
       " Synset('server.n.03'),\n",
       " Synset('turing_machine.n.01'),\n",
       " Synset('web_site.n.01')]"
      ]
     },
     "execution_count": 6,
     "metadata": {},
     "output_type": "execute_result"
    }
   ],
   "source": [
    "types_of_computer"
   ]
  },
  {
   "cell_type": "code",
   "execution_count": 7,
   "id": "bc32f25a",
   "metadata": {},
   "outputs": [
    {
     "data": {
      "text/plain": [
       "['Turing_machine',\n",
       " 'analog_computer',\n",
       " 'analogue_computer',\n",
       " 'client',\n",
       " 'digital_computer',\n",
       " 'guest',\n",
       " 'home_computer',\n",
       " 'host',\n",
       " 'internet_site',\n",
       " 'node',\n",
       " 'number_cruncher',\n",
       " 'pari-mutuel_machine',\n",
       " 'predictor',\n",
       " 'server',\n",
       " 'site',\n",
       " 'totalisator',\n",
       " 'totaliser',\n",
       " 'totalizator',\n",
       " 'totalizer',\n",
       " 'web_site',\n",
       " 'website']"
      ]
     },
     "execution_count": 7,
     "metadata": {},
     "output_type": "execute_result"
    }
   ],
   "source": [
    "sorted([lemma for synset in types_of_computer for lemma in synset.lemma_names()])"
   ]
  },
  {
   "cell_type": "code",
   "execution_count": 8,
   "id": "c31ea189",
   "metadata": {},
   "outputs": [
    {
     "data": {
      "text/plain": [
       "[Synset('accelerator.n.01'),\n",
       " Synset('air_bag.n.01'),\n",
       " Synset('auto_accessory.n.01'),\n",
       " Synset('automobile_engine.n.01'),\n",
       " Synset('automobile_horn.n.01'),\n",
       " Synset('buffer.n.06'),\n",
       " Synset('bumper.n.02'),\n",
       " Synset('car_door.n.01'),\n",
       " Synset('car_mirror.n.01'),\n",
       " Synset('car_seat.n.01'),\n",
       " Synset('car_window.n.01'),\n",
       " Synset('fender.n.01'),\n",
       " Synset('first_gear.n.01'),\n",
       " Synset('floorboard.n.02'),\n",
       " Synset('gasoline_engine.n.01'),\n",
       " Synset('glove_compartment.n.01'),\n",
       " Synset('grille.n.02'),\n",
       " Synset('high_gear.n.01'),\n",
       " Synset('hood.n.09'),\n",
       " Synset('luggage_compartment.n.01'),\n",
       " Synset('rear_window.n.01'),\n",
       " Synset('reverse.n.02'),\n",
       " Synset('roof.n.02'),\n",
       " Synset('running_board.n.01'),\n",
       " Synset('stabilizer_bar.n.01'),\n",
       " Synset('sunroof.n.01'),\n",
       " Synset('tail_fin.n.02'),\n",
       " Synset('third_gear.n.01'),\n",
       " Synset('window.n.02')]"
      ]
     },
     "execution_count": 8,
     "metadata": {},
     "output_type": "execute_result"
    }
   ],
   "source": [
    "wn.synset('automobile.n.01').part_meronyms()"
   ]
  },
  {
   "cell_type": "code",
   "execution_count": 9,
   "id": "8f75a060",
   "metadata": {},
   "outputs": [
    {
     "data": {
      "text/plain": [
       "[Synset('aves.n.01'), Synset('flock.n.02')]"
      ]
     },
     "execution_count": 9,
     "metadata": {},
     "output_type": "execute_result"
    }
   ],
   "source": [
    "wn.synset('bird.n.01').member_holonyms()"
   ]
  }
 ],
 "metadata": {
  "kernelspec": {
   "display_name": "Python 3.9.12 ('base')",
   "language": "python",
   "name": "python3"
  },
  "language_info": {
   "codemirror_mode": {
    "name": "ipython",
    "version": 3
   },
   "file_extension": ".py",
   "mimetype": "text/x-python",
   "name": "python",
   "nbconvert_exporter": "python",
   "pygments_lexer": "ipython3",
   "version": "3.9.12"
  },
  "vscode": {
   "interpreter": {
    "hash": "cd1fd7730a3ff7811bc6623d31c907c7b97c986d3e82d3b9938e7dcbaa66e63f"
   }
  }
 },
 "nbformat": 4,
 "nbformat_minor": 5
}
