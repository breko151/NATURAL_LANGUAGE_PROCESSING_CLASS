{
 "cells": [
  {
   "cell_type": "markdown",
   "id": "c34e73b3",
   "metadata": {},
   "source": [
    "# Clase 24/08/2022\n",
    "**Suárez Pérez Juan Pablo**"
   ]
  },
  {
   "cell_type": "code",
   "execution_count": 1,
   "id": "6a8bd335",
   "metadata": {},
   "outputs": [
    {
     "name": "stdout",
     "output_type": "stream",
     "text": [
      "Hi\n",
      "<class 'str'>\n"
     ]
    }
   ],
   "source": [
    "# Creamos una Cadena, imprimimos su contendio y el tipo de objeto que es.\n",
    "cadena = 'Hi'\n",
    "print(cadena)\n",
    "print(type(cadena))"
   ]
  },
  {
   "cell_type": "code",
   "execution_count": 2,
   "id": "6396f864",
   "metadata": {},
   "outputs": [
    {
     "name": "stdout",
     "output_type": "stream",
     "text": [
      "*** Introductory Examples for the NLTK Book ***\n",
      "Loading text1, ..., text9 and sent1, ..., sent9\n",
      "Type the name of the text or sentence to view it.\n",
      "Type: 'texts()' or 'sents()' to list the materials.\n",
      "text1: Moby Dick by Herman Melville 1851\n",
      "text2: Sense and Sensibility by Jane Austen 1811\n",
      "text3: The Book of Genesis\n",
      "text4: Inaugural Address Corpus\n",
      "text5: Chat Corpus\n",
      "text6: Monty Python and the Holy Grail\n",
      "text7: Wall Street Journal\n",
      "text8: Personals Corpus\n",
      "text9: The Man Who Was Thursday by G . K . Chesterton 1908\n"
     ]
    }
   ],
   "source": [
    "# Importamos biblioteca nltk.\n",
    "from nltk.book import *"
   ]
  },
  {
   "cell_type": "markdown",
   "id": "34a502f1",
   "metadata": {},
   "source": [
    "### Text 5 "
   ]
  },
  {
   "cell_type": "code",
   "execution_count": 3,
   "id": "17d44c5f",
   "metadata": {},
   "outputs": [
    {
     "data": {
      "text/plain": [
       "<Text: Chat Corpus>"
      ]
     },
     "execution_count": 3,
     "metadata": {},
     "output_type": "execute_result"
    }
   ],
   "source": [
    "# Imprimimos al objeto text5.\n",
    "text5"
   ]
  },
  {
   "cell_type": "code",
   "execution_count": 4,
   "id": "9e1571e2",
   "metadata": {},
   "outputs": [
    {
     "name": "stdout",
     "output_type": "stream",
     "text": [
      "Displaying 21 of 21 matches:\n",
      " wats are they ? PART yes .. 2 lists great ty piff i aint tellin you u know the\n",
      "ome lol U31 JOIN you passed the test great self esteem ! Hi U9 ... hi U31 ! Hi \n",
      "he obbts off just got home from work great night LOL It is in my world hi U37 o\n",
      "i am young night U25 *hugs* U11 have great night U31 hugs where you going U25 ?\n",
      "back from the doc U20 hiya U35 thats great U32 Hi everyone come in sit smoke ar\n",
      "has an awesome pic hope all is doing great lets go huskers Hiya U43 how have yo\n",
      " U20 has an awesome pic too :) Doing great U43 -- thanks for asking -- can you \n",
      "those were the last numbers yes i 'm great U32 ;) . ACTION winks @ U28 . seriou\n",
      "e came back .. lol Yeah , he 's back great to hear U16 U35 who ?? He 's nick is\n",
      "ruises and swelling DONT they become great weapons too lol U13 U19 , will be th\n",
      "there next weekend thinks ...... wow great legs hi U50 i 'm on lunch , whats on\n",
      "ART I just got Ico , it 's kickass . great puzzles . so basically for 30 days y\n",
      "mospheric adventure together , it 's great . I love co op . PART nice U66 JOIN \n",
      "ART i U35 hi U35 you know its been a great year here , first the Cardnials win \n",
      " lol ty U7 JOIN lol U66 hi U70 doing great U48 ..... ty chuckles too U7 JOIN U7\n",
      "s she gained 30 lbs while on paxil ! Great till you busted caps on mah eyes man\n",
      " U95 im rich james biatch it makes a great lube is f**kalicious in a pinch its \n",
      "i still see my hellos yeah i is U102 great to see you again did u fart cuz u bl\n",
      "time to ride .. take care ... have a great night .. talk soon .. stay safe , ki\n",
      "sorry , U52 ... did n't see ya doing great here U49 lol lol oh man its chilly t\n",
      "0 not me no PART JOIN PART omg it 's great we make it e-v-e-r-y where ... ! sou\n"
     ]
    }
   ],
   "source": [
    "# Buscamos parte del text5 que coincidan con la palabra 'great'.\n",
    "text5.concordance('great')"
   ]
  },
  {
   "cell_type": "code",
   "execution_count": 5,
   "id": "0fd507d7",
   "metadata": {},
   "outputs": [
    {
     "name": "stdout",
     "output_type": "stream",
     "text": [
      "Displaying 25 of 33 matches:\n",
      ".. has been the grammar lesson of the day courtesy of : U84 ! PART JOIN yes U11\n",
      " lost connection so U11 how was youer day its election season ooo a scorpion li\n",
      "U15 Hey U9 what 's the flavour of the day U9 i had a very intersting blueberry \n",
      "o me if i get scared right during the day of course you do n't babe right field\n",
      "12 well let me get have another 12 hr day tomorrow at work LMAO @ 80 No i am yo\n",
      "U25 have to work in the mornign 12 hr day bye U25 ! U11 see u are still here lo\n",
      "U30 I see PART hi U19 bored ? man the day is slipping away do something guess h\n",
      "h cup o coffee , lol hi U30 heee good day to you U16 ........ :-) j/k relax don\n",
      "hda . PART hi U19 fock JOIN beautiful day here metallica ? kool just got back f\n",
      "ked to him in almost a week hows your day goin U13 lol U52 , lucky . back .... \n",
      "=) I 'll take big barks over cool any day oOo congrats ?? LOL U34 yes !!! diggi\n",
      "or U28 ? looks like it might be an ok day , I 'm going to take the moped out fo\n",
      " even :) yup , gonna be a good riding day omg it 's horrible yes i am here ohhh\n",
      "y U32 muahhh hahah U28 may I ?? every day is tuesday in his world anyone wanna \n",
      "31 bye U11 see yah U11 .. have a good day no the police were fantastic and all \n",
      "like to be romantic because the other day was romantic and at the end he knew w\n",
      "then I passed it ... ewwwwwww PART g' day U6 sits down and waits for the pervin\n",
      "ey U86 . interesting name bout once a day someone thinks im female by name some\n",
      "o games kellogs is giving out free 30 day gamefly subscriptions JOIN I ca n't e\n",
      "hello U121 that involves havin a good day . later do it PART I just finished my\n",
      "T JOIN well omg PART PART JOIN JOIN 1 day we will be ...... PART awww sad U69 a\n",
      " U21 .. stick to at least 3 girls per day please come on barbie lets go party w\n",
      "o ) lol U18 ok easy one who sings bad day ? what was willie nelson s nick name \n",
      "r a few more min . geesh !!! still in day clothes .. geesh PART well ......... \n",
      " I am comfy hehe good idea U66 . busy day yeppers U68 . ACTION always comfy in \n"
     ]
    }
   ],
   "source": [
    "# Buscamos parte del text5 que coincidan con la palabra 'day'.\n",
    "text5.concordance('day')"
   ]
  },
  {
   "cell_type": "code",
   "execution_count": 6,
   "id": "cbf7c555",
   "metadata": {},
   "outputs": [
    {
     "name": "stdout",
     "output_type": "stream",
     "text": [
      "Displaying 11 of 11 matches:\n",
      "d to ... Slip away ... Fade away ... Days away I ... Still feel you ... Touchi\n",
      "fer JOIN lmao I do ... just always 2 days too late ( after I finish meeting wi\n",
      " lol Well humanity is terrible these days hi U37 , yes i sleep lol U3 .... :) \n",
      "feel superior Ugh , my b-day is in 5 days =( PART LOL U35 no ur nawt yup your \n",
      " great puzzles . so basically for 30 days you can rent out as many games as yo\n",
      ". Mp3 . ..(.. Bone Thugs N Harmony - Days Of Our Lives . -...)...- S.M.R. <3 .\n",
      "l love it U69 . ACTION remembers the days i used to call U65 U65 U65 . lmaooo \n",
      "! U989 ( U989 @ U989 ) Last seen : 2 days , 18 hours , 51 minutes ago . * on M\n",
      "ll chilly ? its one of our loveliest days in ages here in MD PART only 60 here\n",
      "0 ? i 've already put in 32 hrs in 3 days this week thats when i have to be in\n",
      "U34 U819 ( U819 @ U819 Last seen : 2 days , 1 hour , 12 minutes ago . U34 <33 \n"
     ]
    }
   ],
   "source": [
    "# Buscamos parte del text5 que coincidan con la palabra 'days'.\n",
    "text5.concordance('days')"
   ]
  },
  {
   "cell_type": "markdown",
   "id": "1d57a92c",
   "metadata": {},
   "source": [
    "### Text 7 "
   ]
  },
  {
   "cell_type": "code",
   "execution_count": 7,
   "id": "248cd4c8",
   "metadata": {},
   "outputs": [
    {
     "data": {
      "text/plain": [
       "<Text: Wall Street Journal>"
      ]
     },
     "execution_count": 7,
     "metadata": {},
     "output_type": "execute_result"
    }
   ],
   "source": [
    "# Imprimimos al objeto text7.\n",
    "text7"
   ]
  },
  {
   "cell_type": "code",
   "execution_count": 8,
   "id": "7f8fa12c",
   "metadata": {},
   "outputs": [
    {
     "name": "stdout",
     "output_type": "stream",
     "text": [
      "Displaying 3 of 3 matches:\n",
      "d also had discarded their Uzi-model arms for the first time since early June \n",
      " or seeing the company fall into the arms of a rival . *-2 Given *-3 that choi\n",
      "en-Speaker Jim Wright was discussing arms control in Moscow with Mikhail Gorba\n"
     ]
    }
   ],
   "source": [
    "# Buscamos parte del text7 que coincidan con la palabra 'arms'.\n",
    "text7.concordance('arms')"
   ]
  },
  {
   "cell_type": "markdown",
   "id": "ecad8631",
   "metadata": {},
   "source": [
    "### Text 1 "
   ]
  },
  {
   "cell_type": "code",
   "execution_count": 9,
   "id": "c98be6a3",
   "metadata": {},
   "outputs": [
    {
     "name": "stdout",
     "output_type": "stream",
     "text": [
      "Displaying 22 of 22 matches:\n",
      "t ' s just as I thought , he ' s a terrible bedfellow ; he ' s been in a fight\n",
      "g a gallant ship beating against a terrible storm off a lee coast of black roc\n",
      "My song for ever shall record That terrible , that joyful hour ; I give the gl\n",
      " time eluded him . Alarmed at this terrible outburst between the two principal\n",
      "ven crawl to land ! Terrors of the terrible ! is all this agony so vain ? Take\n",
      "a man so organized , and with such terrible experiences and remembrances as he\n",
      "of the very body of all surprising terrible events ,-- as the smitten tree giv\n",
      ", and that to the quick , with the terrible casualty which had overtaken him .\n",
      "ions , and coupled with any object terrible in itself , to heighten that terro\n",
      "ces this crowning attribute of the terrible . From its snowy aspect , the gaun\n",
      "groves -- why is this phantom more terrible than all the whooping imps of the \n",
      "ng the terror of objects otherwise terrible ; nor to the unimaginative mind is\n",
      "iences of the fishery there hung a terrible prestige of perilousness about suc\n",
      " Main of America , our ship felt a terrible shock , which put our men in such \n",
      "imself of the course of the ship . Terrible old man ! thought Starbuck with a \n",
      "ehow and somewhere ; else the most terrible jeopardy would involve all hands .\n",
      "urther hunting of the whale . This terrible event clothed the archangel with a\n",
      "with impaling force . But far more terrible is it to behold , when fathoms dow\n",
      "or bottom . Meantime , there was a terrible tumult . Looking over the side , t\n",
      " , the ladies often cause the most terrible duels among their rival admirers ;\n",
      " We all struck out . To escape his terrible flailings , I seized hold of my ha\n",
      "eat of his sweatings , he caught a terrible chill which lapsed into a fever ; \n"
     ]
    }
   ],
   "source": [
    "# Buscamos parte del text1 que coincidan con la palabra 'terrible'.\n",
    "text1.concordance('terrible')"
   ]
  },
  {
   "cell_type": "markdown",
   "id": "4d755f55",
   "metadata": {},
   "source": [
    "### Función similar() "
   ]
  },
  {
   "cell_type": "code",
   "execution_count": 10,
   "id": "6c1013a9",
   "metadata": {},
   "outputs": [
    {
     "name": "stdout",
     "output_type": "stream",
     "text": [
      "world whale whales sea thing boat oil way ship captain air matter\n",
      "storm deck harpoon nose by body brain he\n"
     ]
    }
   ],
   "source": [
    "# Buscamos palabras del text1 similares a la palabra 'terrible'.\n",
    "text1.similar('terrible')"
   ]
  },
  {
   "cell_type": "code",
   "execution_count": 11,
   "id": "595bfa32",
   "metadata": {},
   "outputs": [
    {
     "name": "stdout",
     "output_type": "stream",
     "text": [
      "said settled at that only more sent ill married made enough done gone\n",
      "better divided advisable taken best doubted open\n"
     ]
    }
   ],
   "source": [
    "# Buscamos palabras del text2 similares a la palabra 'terrible'.\n",
    "text2.similar('terrible')"
   ]
  },
  {
   "cell_type": "code",
   "execution_count": 12,
   "id": "d056c54f",
   "metadata": {},
   "outputs": [
    {
     "name": "stdout",
     "output_type": "stream",
     "text": [
      "sad\n"
     ]
    }
   ],
   "source": [
    "# Buscamos palabras del text5 similares a la palabra 'terrible'.\n",
    "text5.similar('terrible')"
   ]
  },
  {
   "cell_type": "code",
   "execution_count": 13,
   "id": "e072db5f",
   "metadata": {},
   "outputs": [
    {
     "name": "stdout",
     "output_type": "stream",
     "text": [
      "great\n"
     ]
    }
   ],
   "source": [
    "# Buscamos palabras del text6 similares a la palabra 'terrible'.\n",
    "text6.similar('terrible')"
   ]
  },
  {
   "cell_type": "markdown",
   "id": "7c96042a",
   "metadata": {},
   "source": [
    "### Función common_contexts() "
   ]
  },
  {
   "cell_type": "code",
   "execution_count": 14,
   "id": "37ca1fda",
   "metadata": {},
   "outputs": [
    {
     "name": "stdout",
     "output_type": "stream",
     "text": [
      "was_join\n"
     ]
    }
   ],
   "source": [
    "# Buscamos frases donde aparezcan las palabras 'terrible' y 'sad' detro del text5.\n",
    "text5.common_contexts(['terrible', 'sad'])"
   ]
  },
  {
   "cell_type": "code",
   "execution_count": 15,
   "id": "2de4cb0e",
   "metadata": {},
   "outputs": [
    {
     "name": "stdout",
     "output_type": "stream",
     "text": [
      "in_peril\n"
     ]
    }
   ],
   "source": [
    "# Buscamos frases donde aparezcan las palabras 'terrible' y 'great' detro del text6.\n",
    "text6.common_contexts(['terrible', 'great'])"
   ]
  },
  {
   "cell_type": "markdown",
   "id": "c5caaae8",
   "metadata": {},
   "source": [
    "### Función dispersion_plot() "
   ]
  },
  {
   "cell_type": "code",
   "execution_count": 16,
   "id": "50d5364f",
   "metadata": {},
   "outputs": [
    {
     "data": {
      "image/png": "[encoded data removed]",
      "text/plain": [
       "<Figure size 432x288 with 1 Axes>"
      ]
     },
     "metadata": {
      "needs_background": "light"
     },
     "output_type": "display_data"
    }
   ],
   "source": [
    "# Creamos una gráfica de dispersión de una serie de palabras dentro del text7.\n",
    "text7.dispersion_plot(['bank', 'day', 'great', 'president', 'meeting', 'money', 'debt', 'speak'])"
   ]
  },
  {
   "cell_type": "markdown",
   "id": "39733182",
   "metadata": {},
   "source": [
    "### Palabras dentro de un texto"
   ]
  },
  {
   "cell_type": "code",
   "execution_count": 17,
   "id": "281da9e4",
   "metadata": {},
   "outputs": [
    {
     "data": {
      "text/plain": [
       "45010"
      ]
     },
     "execution_count": 17,
     "metadata": {},
     "output_type": "execute_result"
    }
   ],
   "source": [
    "# Imprimimos la cantidad de palabras existentes en el text5.\n",
    "len(text5)"
   ]
  },
  {
   "cell_type": "code",
   "execution_count": 18,
   "id": "25c42897",
   "metadata": {},
   "outputs": [
    {
     "data": {
      "text/plain": [
       "6066"
      ]
     },
     "execution_count": 18,
     "metadata": {},
     "output_type": "execute_result"
    }
   ],
   "source": [
    "# Imprimimos la cantidad de tipos de palabra existentes en el text5.\n",
    "len(set(text5))"
   ]
  },
  {
   "cell_type": "code",
   "execution_count": 19,
   "id": "69f4cb0f",
   "metadata": {},
   "outputs": [
    {
     "data": {
      "text/plain": [
       "['',\n",
       " '!',\n",
       " '!!',\n",
       " '!!!',\n",
       " '!!!!',\n",
       " '!!!!!',\n",
       " '!!!!!!',\n",
       " '!!!!!!!',\n",
       " '!!!!!!!!',\n",
       " '!!!!!!!!!',\n",
       " '!!!!!!!!!!',\n",
       " '!!!!!!!!!!!',\n",
       " '!!!!!!!!!!!!!',\n",
       " '!!!!!!!!!!!!!!!!',\n",
       " '!!!!!!!!!!!!!!!!!!!!!!',\n",
       " '!!!!!!!!!!!!!!!!!!!!!!!',\n",
       " '!!!!!!!!!!!!!!!!!!!!!!!!!!!',\n",
       " '!!!!!!!!!!!!!!!!!!!!!!!!!!!!',\n",
       " '!!!!!!!!!!!!!!!!!!!!!!!!!!!!!!!!!!!!!!!!!!!!!!!!!!!!!!',\n",
       " '!!!!!!.',\n",
       " '!!!!!.',\n",
       " '!!!!....',\n",
       " '!!!.',\n",
       " '!!.',\n",
       " '!!...',\n",
       " '!.',\n",
       " '!...',\n",
       " '!=',\n",
       " '!?',\n",
       " '!??',\n",
       " '!???',\n",
       " '\"',\n",
       " '\"...',\n",
       " '\"?',\n",
       " '\"s',\n",
       " '#',\n",
       " '###',\n",
       " '####',\n",
       " '#14-19teens',\n",
       " '#40sPlus',\n",
       " '#prideIsland',\n",
       " '#prideisland',\n",
       " '#talkcity-20s',\n",
       " '#talkcity_adults',\n",
       " '$',\n",
       " '$$',\n",
       " '$27',\n",
       " '&',\n",
       " '&^',\n",
       " \"'\",\n",
       " \"''\",\n",
       " \"'.\",\n",
       " \"'d\",\n",
       " \"'ello\",\n",
       " \"'ll\",\n",
       " \"'m\",\n",
       " \"'n'\",\n",
       " \"'re\",\n",
       " \"'s\",\n",
       " \"'ve\",\n",
       " '(',\n",
       " '( o Y o )',\n",
       " '(((',\n",
       " '((((',\n",
       " '(((((',\n",
       " '((((((',\n",
       " '(((((((',\n",
       " '((((((((',\n",
       " '(((((((((',\n",
       " '((((((((((',\n",
       " '(((((((((((',\n",
       " '((((((((((((',\n",
       " '(((((((((((((',\n",
       " '((((((((((((((',\n",
       " '(((((((((((((((',\n",
       " '(((((((((((((((((',\n",
       " '((((((((((((((((((',\n",
       " '((((((((((((((((((((',\n",
       " '(((((((((((((((((((((',\n",
       " '(((((((((((((((((((((((',\n",
       " '((((((((((((((((((((((((',\n",
       " '(((((((((((((((((((((((((',\n",
       " '((((((((((((((((((((((((((',\n",
       " '(((((..',\n",
       " '(*&(^',\n",
       " '(.',\n",
       " '(__I__)',\n",
       " ')',\n",
       " ')))',\n",
       " '))))',\n",
       " ')))))',\n",
       " ')))))))',\n",
       " '))))))))',\n",
       " ')))))))))',\n",
       " '))))))))))',\n",
       " ')))))))))))',\n",
       " '))))))))))))',\n",
       " ')))))))))))))',\n",
       " '))))))))))))))',\n",
       " ')))))))))))))))',\n",
       " ')))))))))))))))))',\n",
       " ')))))))))))))))))))',\n",
       " ')))))))))))))))))))))',\n",
       " '))))))))))))))))))))))',\n",
       " '))))))))))))))))))))))))))))',\n",
       " ')))))))))))))))))))))))))))))))',\n",
       " ')?',\n",
       " '*',\n",
       " '******',\n",
       " '*VBS*',\n",
       " '*WOW*',\n",
       " '*blush*',\n",
       " '*drools*',\n",
       " '*grins*',\n",
       " '*hugs*',\n",
       " '*smewchies*',\n",
       " '*sniffs*',\n",
       " '*spank*',\n",
       " '*waves*',\n",
       " '+',\n",
       " '+*+*+*+*',\n",
       " '++',\n",
       " ',',\n",
       " ',,',\n",
       " ',,,',\n",
       " ',,,,',\n",
       " ',,,,,',\n",
       " ',,,,,,,',\n",
       " ',,,,,,,,,,,',\n",
       " '-',\n",
       " '-(',\n",
       " '--',\n",
       " '-------------',\n",
       " '--------------------',\n",
       " '--------->',\n",
       " '-->',\n",
       " '-...)...-',\n",
       " '-17',\n",
       " '-21',\n",
       " '-6',\n",
       " '-_-',\n",
       " '-o',\n",
       " '-s',\n",
       " '-stay-',\n",
       " '.',\n",
       " '. .',\n",
       " '. . .',\n",
       " '. ...',\n",
       " '.(.',\n",
       " '.(..(.vMp3 v1.7.4.).)',\n",
       " '.(..(.vMp3 vi.p.t.)..).',\n",
       " '.)',\n",
       " '.).',\n",
       " '..',\n",
       " '.. .',\n",
       " '..(..',\n",
       " '...',\n",
       " '....',\n",
       " '.....',\n",
       " '......',\n",
       " '.......',\n",
       " '........',\n",
       " '.........',\n",
       " '..........',\n",
       " '...........',\n",
       " '............',\n",
       " '.............',\n",
       " '................',\n",
       " '..................',\n",
       " '...................',\n",
       " '....................',\n",
       " '........................',\n",
       " '..............................',\n",
       " '.45',\n",
       " '.:',\n",
       " '.;)',\n",
       " '.A.n.a.c.?.n.?.a.',\n",
       " '.op.',\n",
       " '.owner.',\n",
       " '/',\n",
       " '//',\n",
       " '//www.wunderground.com/cgi-bin/findweather/getForecast?query=95953#FIR',\n",
       " '0',\n",
       " '05.',\n",
       " '06.',\n",
       " '1',\n",
       " '1-900-anal-sex',\n",
       " '1.98',\n",
       " '1.99',\n",
       " '10',\n",
       " '100',\n",
       " '100%',\n",
       " '1012.',\n",
       " '1016.',\n",
       " '102.6',\n",
       " '10:49',\n",
       " '10th',\n",
       " '11',\n",
       " '12',\n",
       " '12%',\n",
       " '1200',\n",
       " '121.7',\n",
       " '1299',\n",
       " '13',\n",
       " '138',\n",
       " '14',\n",
       " '14-16',\n",
       " '147.7',\n",
       " '15',\n",
       " '16',\n",
       " '16.',\n",
       " '17',\n",
       " '18',\n",
       " '185',\n",
       " '18ST',\n",
       " '19',\n",
       " '1900',\n",
       " '1930',\n",
       " '1980',\n",
       " '1985',\n",
       " '1996',\n",
       " '1cos',\n",
       " '2',\n",
       " '2.3',\n",
       " '20',\n",
       " '20.',\n",
       " '2006',\n",
       " '20S',\n",
       " '20s',\n",
       " '21',\n",
       " '22',\n",
       " '220',\n",
       " '224',\n",
       " '23',\n",
       " '24',\n",
       " '246',\n",
       " '247',\n",
       " '25',\n",
       " '26',\n",
       " '27',\n",
       " '28',\n",
       " '280',\n",
       " '28147',\n",
       " '29',\n",
       " '29.88.',\n",
       " '295',\n",
       " '29803',\n",
       " '2:55',\n",
       " '2DAY',\n",
       " '2Pac',\n",
       " '2nd',\n",
       " '3',\n",
       " '30',\n",
       " '30.',\n",
       " '30.00.',\n",
       " '300',\n",
       " '31',\n",
       " '32',\n",
       " '33',\n",
       " '3333333',\n",
       " '33982',\n",
       " '34',\n",
       " '35',\n",
       " '36',\n",
       " '360',\n",
       " '37',\n",
       " '38',\n",
       " '39',\n",
       " '39.3',\n",
       " '396',\n",
       " '3:45',\n",
       " '3~<-..4@.',\n",
       " '4',\n",
       " '4.20',\n",
       " '41',\n",
       " '423',\n",
       " '43',\n",
       " '43.',\n",
       " '45',\n",
       " '45.5',\n",
       " '453',\n",
       " '46',\n",
       " '46.',\n",
       " '47',\n",
       " '47.',\n",
       " '49',\n",
       " '4:03',\n",
       " '5',\n",
       " '50',\n",
       " '51',\n",
       " '53',\n",
       " '55',\n",
       " '55%',\n",
       " '55.',\n",
       " '56',\n",
       " '56.',\n",
       " '57',\n",
       " '57401',\n",
       " '579',\n",
       " '59',\n",
       " '59%',\n",
       " '6',\n",
       " '60',\n",
       " '60s',\n",
       " '64.8',\n",
       " '65%',\n",
       " '68%',\n",
       " '69',\n",
       " '6:38',\n",
       " '6:41',\n",
       " '6:51',\n",
       " '6:53',\n",
       " '7',\n",
       " '70%',\n",
       " '700',\n",
       " '73%',\n",
       " '73042',\n",
       " '75',\n",
       " '75%',\n",
       " '76%',\n",
       " '77',\n",
       " '7:45',\n",
       " '8',\n",
       " '80',\n",
       " '8082653953',\n",
       " '818',\n",
       " '85%',\n",
       " '9',\n",
       " '9.53',\n",
       " '90',\n",
       " '92129',\n",
       " '92780',\n",
       " '93',\n",
       " '93%',\n",
       " '95953',\n",
       " '98.5',\n",
       " '98.6',\n",
       " '99',\n",
       " '99701',\n",
       " '99703',\n",
       " '9:10',\n",
       " ':',\n",
       " ':(',\n",
       " ':)',\n",
       " ':):):)',\n",
       " ':-(',\n",
       " ':-)',\n",
       " ':-@',\n",
       " ':-o',\n",
       " ':.',\n",
       " ':/',\n",
       " ':@',\n",
       " ':D',\n",
       " ':O',\n",
       " ':P',\n",
       " ':]',\n",
       " ':beer:',\n",
       " ':blush:',\n",
       " ':love:',\n",
       " ':o *',\n",
       " ':p',\n",
       " ':tongue:',\n",
       " ':|',\n",
       " ';',\n",
       " '; ..',\n",
       " ';)',\n",
       " ';-(',\n",
       " ';-)',\n",
       " ';0',\n",
       " ';]',\n",
       " ';p',\n",
       " '<',\n",
       " '<,',\n",
       " '<-',\n",
       " '<--',\n",
       " '<---',\n",
       " '<----',\n",
       " '<----------',\n",
       " '<3',\n",
       " \"<3's\",\n",
       " '<33',\n",
       " '<333',\n",
       " '<3333',\n",
       " '<33333',\n",
       " '<333333333',\n",
       " '<3333333333333333',\n",
       " '<33333333333333333',\n",
       " '<<',\n",
       " '<<<',\n",
       " '<<<<',\n",
       " '<<<<,',\n",
       " '<<<<<',\n",
       " '<<<<<<',\n",
       " '<<<<<<,',\n",
       " '<<<<<<<',\n",
       " '<<<<<<<<<<<<<<',\n",
       " '<empty>',\n",
       " '<perk>',\n",
       " '<~~~',\n",
       " '=',\n",
       " \"='s\",\n",
       " '=(',\n",
       " '=)',\n",
       " '=-\\\\',\n",
       " '=/',\n",
       " '=D',\n",
       " '=O',\n",
       " '=[',\n",
       " '=]',\n",
       " '=p',\n",
       " '>',\n",
       " '>.>',\n",
       " '>.>->',\n",
       " '>:->',\n",
       " '>>>',\n",
       " '>>>>>>>>>>',\n",
       " '>>>>>>>>>>>',\n",
       " '>>>>>>>>>>>>',\n",
       " '>?',\n",
       " '>_>',\n",
       " '?',\n",
       " '?!',\n",
       " '?!?!',\n",
       " '?!?!?',\n",
       " \"?'\",\n",
       " '?.',\n",
       " '?..',\n",
       " '?....',\n",
       " '??',\n",
       " '??!!',\n",
       " '??!?!??!',\n",
       " '???',\n",
       " '????',\n",
       " '?????',\n",
       " '??????',\n",
       " '???????',\n",
       " '????????',\n",
       " '?????????',\n",
       " '??@',\n",
       " '@',\n",
       " '@$$',\n",
       " \"@-,'~\",\n",
       " \"@..3-,'~.\",\n",
       " 'A',\n",
       " 'ABOUT',\n",
       " 'ACTION',\n",
       " 'AFK',\n",
       " 'AGAIN',\n",
       " 'AHAHH',\n",
       " 'AHAHHA',\n",
       " 'AHHAH',\n",
       " 'AI',\n",
       " 'AKDT',\n",
       " 'AKST',\n",
       " 'ALL',\n",
       " 'AM',\n",
       " 'AND',\n",
       " 'ANY',\n",
       " 'ANYONE',\n",
       " 'AOL.COM',\n",
       " 'ARE',\n",
       " 'AROUND',\n",
       " 'ASS',\n",
       " 'AWAY',\n",
       " 'Aberdeen',\n",
       " 'About',\n",
       " 'Ack',\n",
       " 'Actually',\n",
       " 'Added',\n",
       " 'Advisory',\n",
       " 'Again',\n",
       " 'Ah',\n",
       " 'Ahh',\n",
       " 'Ahhh',\n",
       " 'Ahhhh',\n",
       " 'Aiken',\n",
       " 'Alaska',\n",
       " 'Albany',\n",
       " 'Almost',\n",
       " 'Always',\n",
       " 'Amazingness',\n",
       " 'American',\n",
       " 'Americans',\n",
       " 'Amy',\n",
       " 'An',\n",
       " 'And',\n",
       " 'Any',\n",
       " 'Anyone',\n",
       " 'Anyway',\n",
       " 'Apocalypse',\n",
       " 'Apparently',\n",
       " 'Are',\n",
       " 'Ark',\n",
       " 'Arkansas',\n",
       " 'As',\n",
       " 'Ask',\n",
       " 'At',\n",
       " 'Average',\n",
       " 'Aw',\n",
       " 'Away',\n",
       " 'Aww',\n",
       " 'Awww',\n",
       " 'B',\n",
       " 'BAAAAALLLLLLLLIIIIIIINNNNNNNNNNN',\n",
       " 'BE',\n",
       " 'BIG',\n",
       " 'BLONDES',\n",
       " 'BOOTS',\n",
       " 'BOOTY',\n",
       " 'BOY',\n",
       " 'BUT',\n",
       " 'BUt',\n",
       " 'BYE',\n",
       " 'Back',\n",
       " 'Barbieee',\n",
       " 'Barometer',\n",
       " 'Beach',\n",
       " 'Because',\n",
       " 'Been',\n",
       " 'Ben',\n",
       " 'Benjamin',\n",
       " 'Better',\n",
       " 'Bible',\n",
       " 'Biiiiiitch',\n",
       " 'Biographys',\n",
       " 'Birdgang',\n",
       " 'Bloooooooood',\n",
       " 'Bloooooooooood',\n",
       " 'Bloooooooooooood',\n",
       " 'Bone',\n",
       " 'Bonus',\n",
       " 'Books',\n",
       " 'Boone',\n",
       " 'Booyah',\n",
       " 'Borat',\n",
       " 'Born',\n",
       " 'Box',\n",
       " 'Boyz',\n",
       " 'Break',\n",
       " 'Breaking',\n",
       " 'Broken',\n",
       " 'Bud',\n",
       " 'Burger',\n",
       " 'But',\n",
       " 'Bwhaha',\n",
       " 'Bye',\n",
       " 'C',\n",
       " 'CA',\n",
       " 'CALI',\n",
       " 'CAN',\n",
       " 'CAPS',\n",
       " 'CDT',\n",
       " 'CHAT',\n",
       " 'CHATHIDE',\n",
       " 'CHIPS',\n",
       " 'CHOCO',\n",
       " 'CO',\n",
       " 'COM',\n",
       " 'COME',\n",
       " 'CSI',\n",
       " 'CST',\n",
       " 'CT',\n",
       " 'CUZ',\n",
       " 'California',\n",
       " 'Came',\n",
       " 'Can',\n",
       " 'CanEhda',\n",
       " 'Cardinals',\n",
       " 'Cardnials',\n",
       " 'Cards',\n",
       " 'Care',\n",
       " 'Carolina',\n",
       " 'Catterick',\n",
       " 'Ceiling',\n",
       " 'Chamillionaire',\n",
       " 'Change',\n",
       " 'Changing',\n",
       " 'Chat',\n",
       " 'Check',\n",
       " 'Checked',\n",
       " 'Cheeeez',\n",
       " 'Chica',\n",
       " 'Chickens',\n",
       " 'Children',\n",
       " 'China',\n",
       " 'Chingy',\n",
       " 'Chop',\n",
       " 'Chris',\n",
       " 'Christianity',\n",
       " 'Ciara',\n",
       " 'City',\n",
       " 'Cleveland',\n",
       " 'Clock',\n",
       " 'Coincidence',\n",
       " 'Come',\n",
       " 'Compliments',\n",
       " 'Connected',\n",
       " 'Connecticutt',\n",
       " 'Considerably',\n",
       " 'Constitution',\n",
       " 'Cookies',\n",
       " 'Cool',\n",
       " 'Could',\n",
       " 'Course',\n",
       " 'Covered',\n",
       " 'Cradle',\n",
       " 'Craig',\n",
       " 'Crazy',\n",
       " 'Cream',\n",
       " 'Cry',\n",
       " 'Ct',\n",
       " 'Ctrl',\n",
       " 'Cum',\n",
       " 'Current',\n",
       " 'Cute',\n",
       " 'Cyber',\n",
       " 'D',\n",
       " 'DAMN',\n",
       " 'DAamn',\n",
       " 'DELIGHTFUL',\n",
       " 'DETROIT',\n",
       " 'DING',\n",
       " 'DIRTY',\n",
       " 'DJ',\n",
       " 'DO',\n",
       " 'DOES',\n",
       " 'DOING',\n",
       " 'DON',\n",
       " 'DONT',\n",
       " 'DOWNS',\n",
       " 'DVD',\n",
       " 'Dakota',\n",
       " 'Damn',\n",
       " 'Dang',\n",
       " 'Daniel',\n",
       " 'Daveeee',\n",
       " 'David',\n",
       " 'Dawn',\n",
       " 'Dawnstar',\n",
       " 'Days',\n",
       " 'Death',\n",
       " 'Deep',\n",
       " 'Define',\n",
       " 'Denver',\n",
       " 'Depends',\n",
       " 'Devil',\n",
       " 'Dew',\n",
       " 'Diary',\n",
       " 'Did',\n",
       " 'Diego',\n",
       " 'Dipset',\n",
       " 'Dixie',\n",
       " 'Do',\n",
       " 'Does',\n",
       " 'Doing',\n",
       " 'Dokken',\n",
       " 'Dolls',\n",
       " 'Dood',\n",
       " 'Down',\n",
       " 'Downy',\n",
       " 'Dr',\n",
       " 'Dr.',\n",
       " 'Dreams',\n",
       " 'Drew',\n",
       " 'Drive',\n",
       " 'Drop',\n",
       " 'Dude',\n",
       " 'Dustin',\n",
       " 'Dying',\n",
       " 'ELSE',\n",
       " 'ENOUGH',\n",
       " 'EST',\n",
       " 'EVEN',\n",
       " 'EVERYTHING',\n",
       " 'Earth',\n",
       " 'Easily',\n",
       " 'Eastern',\n",
       " 'Eddie',\n",
       " 'Edgewood',\n",
       " 'Eggs',\n",
       " 'Elev',\n",
       " 'Elle',\n",
       " 'End',\n",
       " 'Eticket',\n",
       " 'Evanescence',\n",
       " 'Even',\n",
       " 'Everyone',\n",
       " 'Everytime',\n",
       " 'Evil',\n",
       " 'Eyes',\n",
       " 'F',\n",
       " 'F5',\n",
       " 'FACE',\n",
       " 'FEMALE',\n",
       " 'FF',\n",
       " 'FINE',\n",
       " 'FL',\n",
       " 'FOLKS',\n",
       " 'FROM',\n",
       " 'Fade',\n",
       " 'Fails',\n",
       " 'Fairbanks',\n",
       " 'Favorite',\n",
       " 'Females',\n",
       " 'Fergalicious',\n",
       " 'Fergie',\n",
       " 'Fetish',\n",
       " 'Fighting',\n",
       " 'Figured',\n",
       " 'Filth',\n",
       " 'Finally',\n",
       " 'Finding',\n",
       " 'Finger',\n",
       " 'Fingers',\n",
       " 'First',\n",
       " 'Fisher',\n",
       " 'Fishers',\n",
       " 'Fix',\n",
       " 'Fixed',\n",
       " 'Flames',\n",
       " 'Flatts',\n",
       " 'Florida',\n",
       " 'Foley',\n",
       " 'Food',\n",
       " 'For',\n",
       " 'Fort',\n",
       " 'Foxwoods',\n",
       " 'FreesBee',\n",
       " 'Friday',\n",
       " 'From',\n",
       " 'Froogle',\n",
       " 'G',\n",
       " 'G-Mobile',\n",
       " 'GA',\n",
       " 'GIRL',\n",
       " 'GIRLS',\n",
       " 'GN',\n",
       " 'GNG',\n",
       " 'GOING',\n",
       " 'GOOD',\n",
       " 'GUYS',\n",
       " 'Gay',\n",
       " 'Geographic',\n",
       " 'Get',\n",
       " 'Ghetto',\n",
       " 'Girl',\n",
       " 'Go',\n",
       " 'God',\n",
       " 'Good',\n",
       " 'Gorda',\n",
       " 'Gosh',\n",
       " 'Gothic',\n",
       " 'Gracemont',\n",
       " 'Great',\n",
       " 'Greetings',\n",
       " 'GrlZ',\n",
       " 'Groups',\n",
       " 'Gs',\n",
       " 'Guess',\n",
       " 'Guy',\n",
       " 'H',\n",
       " 'H0rny',\n",
       " 'HAHA',\n",
       " 'HAHAHA',\n",
       " 'HALO',\n",
       " 'HAVE',\n",
       " 'HE',\n",
       " 'HELLO',\n",
       " 'HERE',\n",
       " 'HEY',\n",
       " 'HHEEYYYYYYYYYYYYYYYYYYYYYYYYYYYYYYYYYYYYYYYYYYYYYYY',\n",
       " 'HI',\n",
       " 'HOT',\n",
       " 'HOTT',\n",
       " 'HOW',\n",
       " 'HUGE',\n",
       " 'HUH',\n",
       " 'Ha',\n",
       " 'Haha',\n",
       " 'Hahaaaa',\n",
       " 'Hahhaa',\n",
       " 'Hail',\n",
       " 'Hallo',\n",
       " 'Hand',\n",
       " 'Hard',\n",
       " 'Harmony',\n",
       " 'Have',\n",
       " 'Hay',\n",
       " 'He',\n",
       " 'Hello',\n",
       " 'Help',\n",
       " 'Her',\n",
       " 'Here',\n",
       " 'Hero',\n",
       " 'Hey',\n",
       " 'Heya',\n",
       " 'Heys',\n",
       " 'Heyy',\n",
       " 'Heyyy',\n",
       " 'Heyyyyyyy',\n",
       " 'Hi',\n",
       " 'High',\n",
       " 'Highway',\n",
       " 'Hill',\n",
       " 'History',\n",
       " 'Hiya',\n",
       " 'Hmm',\n",
       " 'Hold',\n",
       " 'Holla',\n",
       " 'Holland',\n",
       " 'HolocaustYourMom',\n",
       " 'Holy',\n",
       " 'Home',\n",
       " 'Horace',\n",
       " 'Hott',\n",
       " 'How',\n",
       " 'Howdy',\n",
       " 'Hug',\n",
       " 'Hughes',\n",
       " 'Hugs',\n",
       " 'Huh',\n",
       " 'Humidity',\n",
       " 'Hummmm',\n",
       " 'Hungry',\n",
       " 'I',\n",
       " 'ID',\n",
       " 'IF',\n",
       " 'II',\n",
       " 'IL',\n",
       " 'IM',\n",
       " 'IN',\n",
       " 'INTERESTING',\n",
       " 'IRC',\n",
       " 'IS',\n",
       " 'IT',\n",
       " 'Ico',\n",
       " 'Id',\n",
       " 'If',\n",
       " 'Im',\n",
       " 'Ima',\n",
       " 'Images',\n",
       " 'In',\n",
       " 'In.',\n",
       " 'Indeed',\n",
       " 'Indiantown',\n",
       " 'Iowa',\n",
       " 'Is',\n",
       " 'It',\n",
       " 'Its',\n",
       " 'Ive',\n",
       " 'JESUS',\n",
       " 'JOIN',\n",
       " 'JRZ',\n",
       " 'JTo',\n",
       " 'JUST',\n",
       " 'Jam',\n",
       " 'James',\n",
       " 'Jane',\n",
       " 'Jason',\n",
       " 'Jayse',\n",
       " 'Jerketts',\n",
       " 'Jess',\n",
       " 'Jesus',\n",
       " 'Jeter',\n",
       " 'Joe',\n",
       " 'Joey',\n",
       " 'John',\n",
       " 'Jon',\n",
       " 'Jones',\n",
       " 'Jonesboro',\n",
       " 'Jordison',\n",
       " 'Joshy',\n",
       " 'Judy',\n",
       " 'Just',\n",
       " 'Justin',\n",
       " 'K',\n",
       " 'K-Fed',\n",
       " 'KNOW',\n",
       " 'Kansas',\n",
       " 'Kellogs',\n",
       " 'Kent',\n",
       " 'Kentucky',\n",
       " 'Kewl',\n",
       " 'Kick',\n",
       " 'Kids',\n",
       " 'King',\n",
       " 'Kiss',\n",
       " 'Kittie',\n",
       " 'KoOL',\n",
       " 'Kold',\n",
       " 'LA',\n",
       " 'LATE',\n",
       " 'LATER',\n",
       " 'LAst',\n",
       " 'LIVE',\n",
       " 'LIX',\n",
       " 'LMAO',\n",
       " 'LOL',\n",
       " 'LOLOLOLLL',\n",
       " 'LONG',\n",
       " 'LONLEY',\n",
       " 'LOUD',\n",
       " 'LOUDER',\n",
       " 'LOVES',\n",
       " 'LOl',\n",
       " 'LPN',\n",
       " 'Ladies',\n",
       " 'Laguna',\n",
       " 'Lampert',\n",
       " 'Last',\n",
       " 'Laters',\n",
       " 'Lay',\n",
       " 'Lee',\n",
       " 'Leeches',\n",
       " 'Length',\n",
       " 'Let',\n",
       " 'Lets',\n",
       " 'Liam',\n",
       " 'Lies',\n",
       " 'Life',\n",
       " 'Like',\n",
       " 'Lil',\n",
       " 'Lime',\n",
       " 'Lion',\n",
       " 'Lithium',\n",
       " 'Little',\n",
       " 'Live',\n",
       " 'Lives',\n",
       " 'Living',\n",
       " 'Lmao',\n",
       " 'Lmfao',\n",
       " 'LoL',\n",
       " 'LoVe',\n",
       " 'Lol',\n",
       " 'London',\n",
       " 'Long',\n",
       " 'Look',\n",
       " 'Looking',\n",
       " 'Lord',\n",
       " 'Louisville',\n",
       " 'Lousiana',\n",
       " 'Love',\n",
       " 'Lovely',\n",
       " 'LuverZ',\n",
       " 'M',\n",
       " 'MAN',\n",
       " 'MATCH',\n",
       " 'MD',\n",
       " 'ME',\n",
       " 'MISHAP',\n",
       " 'MODE',\n",
       " 'MORE',\n",
       " 'MOUTH',\n",
       " 'MP3',\n",
       " 'MRIs',\n",
       " 'MSN',\n",
       " 'MUAH',\n",
       " 'MY',\n",
       " 'Maidstone',\n",
       " 'Male',\n",
       " 'Man',\n",
       " 'Maps',\n",
       " 'Marlaya',\n",
       " 'Martian',\n",
       " 'Marvin',\n",
       " 'Mary',\n",
       " 'Matt',\n",
       " 'Max',\n",
       " 'Maybe',\n",
       " 'Me',\n",
       " 'Meep',\n",
       " 'Meh',\n",
       " 'Memory',\n",
       " 'Men',\n",
       " 'Mercy',\n",
       " 'Messaging',\n",
       " 'Metallica',\n",
       " 'Michigan',\n",
       " 'Midwest',\n",
       " 'Mine',\n",
       " 'Mmm',\n",
       " 'Mo',\n",
       " 'Mom',\n",
       " 'Money',\n",
       " 'Mono',\n",
       " 'Mooooooooooooooooooooooooooo',\n",
       " 'Morgan',\n",
       " 'Mp3',\n",
       " 'Ms',\n",
       " 'MsUtah',\n",
       " 'Muahz',\n",
       " 'Music',\n",
       " 'My',\n",
       " 'N',\n",
       " 'N\"T',\n",
       " \"N'T\",\n",
       " 'NAME',\n",
       " 'NC',\n",
       " 'NICK',\n",
       " 'NIght',\n",
       " ...]"
      ]
     },
     "execution_count": 19,
     "metadata": {},
     "output_type": "execute_result"
    }
   ],
   "source": [
    "# Imprimimos los tipos de palabra por orden.\n",
    "sorted(set(text5))"
   ]
  },
  {
   "cell_type": "code",
   "execution_count": 20,
   "id": "4b0d587e",
   "metadata": {},
   "outputs": [
    {
     "data": {
      "text/plain": [
       "4.39259927797834"
      ]
     },
     "execution_count": 20,
     "metadata": {},
     "output_type": "execute_result"
    }
   ],
   "source": [
    "# Imprimos la diversidad léxica, es decir cuantas palabras del text8 \n",
    "# corresponden a los tipos de palabra del text8 en promedio.\n",
    "len(text8) / len(set(text8))"
   ]
  },
  {
   "cell_type": "code",
   "execution_count": 21,
   "id": "d8cc9872",
   "metadata": {},
   "outputs": [
    {
     "data": {
      "text/plain": [
       "7.420046158918563"
      ]
     },
     "execution_count": 21,
     "metadata": {},
     "output_type": "execute_result"
    }
   ],
   "source": [
    "# Imprimos la diversidad léxica, es decir cuantas palabras del text5 \n",
    "# corresponden a los tipos de palabra del text5 en promedio.\n",
    "len(text5) / len(set(text5))"
   ]
  },
  {
   "cell_type": "code",
   "execution_count": 22,
   "id": "69014270",
   "metadata": {},
   "outputs": [
    {
     "data": {
      "text/plain": [
       "13.502044830977896"
      ]
     },
     "execution_count": 22,
     "metadata": {},
     "output_type": "execute_result"
    }
   ],
   "source": [
    "# Imprimos la diversidad léxica, es decir cuantas palabras del text1 \n",
    "# corresponden a los tipos de palabra del text1 en promedio.\n",
    "len(text1) / len(set(text1))"
   ]
  },
  {
   "cell_type": "code",
   "execution_count": 23,
   "id": "e111b6df",
   "metadata": {},
   "outputs": [
    {
     "name": "stdout",
     "output_type": "stream",
     "text": [
      "<class 'nltk.probability.FreqDist'>\n"
     ]
    }
   ],
   "source": [
    "# Obtenemos las frecuencias de palabras del text6.\n",
    "fdist6 = FreqDist(text6)\n",
    "print(type(fdist6))"
   ]
  },
  {
   "cell_type": "code",
   "execution_count": 24,
   "id": "ce8001a6",
   "metadata": {},
   "outputs": [
    {
     "data": {
      "text/plain": [
       "FreqDist({':': 1197, '.': 816, '!': 801, ',': 731, \"'\": 421, '[': 319, ']': 312, 'the': 299, 'I': 255, 'ARTHUR': 225, ...})"
      ]
     },
     "execution_count": 24,
     "metadata": {},
     "output_type": "execute_result"
    }
   ],
   "source": [
    "# Imprimimos los tipos de palabra junto con sus distribuciones. \n",
    "fdist6"
   ]
  },
  {
   "cell_type": "code",
   "execution_count": 25,
   "id": "38a33cb1",
   "metadata": {},
   "outputs": [],
   "source": [
    "# Otra forma de obtener los tipos de palabra del text6.\n",
    "v = fdist6.keys()"
   ]
  },
  {
   "cell_type": "code",
   "execution_count": 26,
   "id": "82e9def7",
   "metadata": {},
   "outputs": [
    {
     "data": {
      "text/plain": [
       "dict_keys(['SCENE', '1', ':', '[', 'wind', ']', 'clop', 'KING', 'ARTHUR', 'Whoa', 'there', '!', 'SOLDIER', '#', 'Halt', 'Who', 'goes', '?', 'It', 'is', 'I', ',', 'Arthur', 'son', 'of', 'Uther', 'Pendragon', 'from', 'the', 'castle', 'Camelot', '.', 'King', 'Britons', 'defeator', 'Saxons', 'sovereign', 'all', 'England', 'Pull', 'other', 'one', 'am', '...', 'and', 'this', 'my', 'trusty', 'servant', 'Patsy', 'We', 'have', 'ridden', 'length', 'breadth', 'land', 'in', 'search', 'knights', 'who', 'will', 'join', 'me', 'court', 'at', 'must', 'speak', 'with', 'your', 'lord', 'master', 'What', 'Ridden', 'on', 'a', 'horse', 'Yes', 'You', \"'\", 're', 'using', 'coconuts', 've', 'got', 'two', 'empty', 'halves', 'coconut', 'you', 'bangin', 'em', 'together', 'So', 'since', 'snows', 'winter', 'covered', 'through', 'kingdom', 'Mercea', '--', 'Where', 'd', 'get', 'found', 'them', 'Found', 'In', 'The', 's', 'tropical', 'do', 'mean', 'Well', 'temperate', 'zone', 'swallow', 'may', 'fly', 'south', 'sun', 'or', 'house', 'martin', 'plover', 'seek', 'warmer', 'climes', 'yet', 'these', 'are', 'not', 'strangers', 'to', 'our', 'Are', 'suggesting', 'migrate', 'Not', 'They', 'could', 'be', 'carried', 'A', 'carrying', 'grip', 'it', 'by', 'husk', 'question', 'where', 'he', 'grips', 'simple', 'weight', 'ratios', 'five', 'ounce', 'bird', 'carry', 'pound', 'doesn', 't', 'matter', 'Will', 'go', 'tell', 'that', 'Court', 'here', 'Listen', 'order', 'maintain', 'air', '-', 'speed', 'velocity', 'needs', 'beat', 'its', 'wings', 'forty', 'three', 'times', 'every', 'second', 'right', 'Please', 'Am', 'm', 'interested', '2', 'an', 'African', 'Oh', 'yeah', 'maybe', 'but', 'European', 'That', 'point', 'agree', 'ask', 'if', 'wants', '?!', 'But', 'then', 'course', 'swallows', 'non', 'migratory', 'they', 'couldn', 'bring', 'back', 'anyway', 'Wait', 'minute', 'Supposing', 'No', 'line', 'just', 'use', 'strand', 'creeper', 'held', 'under', 'dorsal', 'guiding', 'feathers', 'why', 'thud', 'clang', 'CART', 'MASTER', 'Bring', 'out', 'dead', 'cough', '...]', '[...', 'Ninepence', 'rewr', '!]', 'CUSTOMER', 'Here', 'DEAD', 'PERSON', 'Nothing', 'ninepence', 'Ere', 'He', 'says', 'isn', 'soon', 'very', 'ill', 'getting', 'better', 'll', 'stone', 'moment', 'can', 'take', 'him', 'like', 'against', 'regulations', 'don', 'want', 'cart', 'such', 'baby', 'feel', 'fine', 'us', 'favor', 'hang', 'around', 'couple', 'minutes', 'won', 'long', 'Robinson', 'lost', 'nine', 'today', 'when', 'next', 'round', 'Thursday', 'think', 'for', 'walk', 'fooling', 'anyone', 'know', 'Look', 'something', 'singing', 'happy', 'whop', 'Ah', 'thanks', 'much', 'See', 'Right', 'All', 'howl', 'dunno', 'Must', 'king', 'Why', 'hasn', 'shit', 'over', '3', 'music', 'stops', 'Old', 'woman', 'DENNIS', 'Man', 'Sorry', 'knight', 'live', 'thirty', 'seven', 'what', 'old', 'call', \"'.\", 'say', 'Dennis', 'didn', 'were', 'called', 'bother', 'find', 'did', 'sorry', 'about', \"',\", 'behind', 'looked', 'object', 'automatically', 'treat', 'inferior', 'eh', 'nice', 'And', 'how', 'By', 'exploiting', 'workers', 'anging', 'outdated', 'imperialist', 'dogma', 'which', 'perpetuates', 'economic', 'social', 'differences', 'society', 'If', 'ever', 'going', 'any', 'progress', 'WOMAN', 'some', 'lovely', 'filth', 'down', 'How', 'good', 'lady', 'we', 'had', 'thought', 'autonomous', 'collective', 'yourself', 'living', 'dictatorship', 'self', 'perpetuating', 'autocracy', 'working', 'classes', 'bringing', 'class', 'into', 'again', 'only', 'people', 'would', 'hear', 'please', 'haste', 'lives', 'Then', 'told', 'anarcho', 'syndicalist', 'commune', 'turns', 'act', 'as', 'sort', 'executive', 'officer', 'week', 'decision', 'ratified', 'special', 'bi', 'weekly', 'meeting', 'see', 'majority', 'case', 'purely', 'internal', 'affairs', ',--', 'Be', 'quiet', 'thirds', 'more', 'major', 'Order', 'does', 'Heh', 'vote', 'kings', 'become', 'Lady', 'Lake', 'angels', 'sing', 'her', 'arm', 'clad', 'purest', 'shimmering', 'samite', 'aloft', 'Excalibur', 'bosom', 'water', 'signifying', 'Divine', 'Providence', 'was', 'strange', 'women', 'lying', 'ponds', 'distributing', 'swords', 'no', 'basis', 'system', 'government', 'Supreme', 'power', 'derives', 'mandate', 'masses', 'farcical', 'aquatic', 'ceremony', 'expect', 'wield', 'supreme', 'cause', 'watery', 'tart', 'threw', 'sword', 'Shut', 'up', 'went', 'saying', 'emperor', 'because', 'moistened', 'bint', 'lobbed', 'scimitar', 'put', 'away', 'now', 'violence', 'inherent', 'Come', 'Help', 'help', 'being', 'repressed', 'Bloody', 'peasant', 'give', 'Did', 'repressing', 'saw', '4', 'BLACK', 'KNIGHT', 'Aaagh', 'GREEN', 'Ooh', 'stab', 'Aagh', 'Agh', '!,', 'oh', 'etc', 'Aaaaaah', 'Aaaaaaaaah', 'woosh', 'kills', 'scrape', 'Umm', 'fight', 'strength', 'many', 'men', 'Sir', 'Knight', 'pause', 'finest', 'bravest', 'proved', 'worthy', 'make', 'sad', 'None', 'shall', 'pass', 'quarrel', 'cross', 'bridge', 'die', 'command', 'stand', 'aside', 'move', 'man', 'Aaah', 'hiyaah', 'chops', 'left', 'off', 'Now', 'adversary', 'Tis', 'scratch', 'Your', 'worse', 'liar', 'pansy', 'Huyah', 'Hiyaah', 'Aaaaaaaah', 'Victory', 'mine', 'kneeling', 'thank', 'Thee', 'Lord', 'Thy', 'mer', 'Hah', 'clunk', 'Have', 'kick', 'Eh', 'indeed', 'brave', 'enough', 'stupid', 'bastard', 'arms', 'Just', 'flesh', 'wound', 'stop', 'Chicken', 'Chickennn', 'leg', 'bleed', 'invincible', 'looney', 'Black', 'always', 'triumphs', 'last', 'draw', 'Running', 'yellow', 'bastards', 'coming', 'bite', 'legs', '5', 'MONKS', 'chanting', 'Pie', 'Iesu', 'domine', 'dona', 'eis', 'requiem', 'bonk', 'CROWD', 'witch', 'Burn', 'VILLAGER', 'May', 'burn', 'BEDEVERE', 'she', 'She', 'looks', 'Yeah', 'forward', 'WITCH', 'Uh', 'dressed', 'Augh', 'nose', 'false', 'hat', 'Yeaaah', 'Yeaah', 'dress', 'VILLAGERS', 'bit', 'has', 'wart', 'RANDOM', 'makes', 'turned', 'newt', 'Quiet', 'There', 'ways', 'telling', 'whether', 'Tell', 'witches', 'apart', 'More', 'Shh', 'Wood', 'B', '--...', 'made', 'wood', 'Good', 'heh', 'Build', 'also', 'bridges', 'True', 'Uhh', 'Does', 'sink', 'floats', 'Throw', 'pond', 'Bread', 'Apples', 'small', 'rocks', 'Cider', 'gra', 'gravy', 'Cherries', 'Mud', 'Churches', 'Lead', 'duck', 'Oooh', 'Exactly', 'logically', 'weighs', 'same', 'therefore', 'Use', 'quack', 'largest', 'scales', 'Ohh', 'Ahh', 'Remove', 'supports', 'creak', 'fair', 'cop', 'so', 'wise', 'science', 'My', 'liege', 'come', 'Round', 'Table', 'honored', 'name', 'Bedevere', 'dub', 'NARRATOR', 'first', 'illustrious', 'names', 'follow', 'Lancelot', 'Brave', ';', 'Gallahad', 'Pure', 'Robin', 'quite', 'nearly', 'fought', 'Dragon', 'Angnor', 'stood', 'vicious', 'Bristol', 'personally', 'wet', 'himself', 'Battle', 'Badon', 'Hill', 'aptly', 'named', 'appearing', 'film', 'Together', 'formed', 'band', 'whose', 'deeds', 'retold', 'throughout', 'centuries', 'Knights', '6', 'SIR', 'earth', 'banana', 'shaped', 'This', 'new', 'learning', 'amazes', 'Explain', 'sheep', 'bladders', 'employed', 'prevent', 'earthquakes', 'certainly', 'sir', 'LAUNCELOT', 'trumpets', 'GALAHAD', 'PATSY', 'model', 'bid', 'welcome', 'home', 'Let', 'ride', 'medieval', 'hall', 'KNIGHTS', 'table', 'dance', 'e', 'er', 'able', 'routines', 'chorus', 'scenes', 'With', 'footwork', 'impeccable', 'dine', 'well', 'eat', 'ham', 'jam', 'spam', 'lot', 'dancing', 'Our', 'shows', 'formidable', 'given', 'rhymes', 'unsingable', 'opera', 'mad', 'diaphragm', 'dungeon', 'PRISONER', 'clap', 'tap', 'war', 'tough', 'Quite', 'indefatigable', 'Between', 'quests', 'sequin', 'vests', 'impersonate', 'Clark', 'Gable', 'busy', 'life', 'MAN', 'push', 'pram', 'outdoors', 'let', 'silly', 'place', '7', 'boom', 'GOD', 'grovel', 'One', 'thing', 'groveling', 'apologise', 'Every', 'time', 'try', 'talk', 'someone', 'forgive', 'doing', 'averting', 'eyes', 'O', 'those', 'miserable', 'Psalms', 'depressing', 'knock', 'task', 'example', 'dark', 'idea', 'Course', 'Behold', 'Holy', 'Grail', 'sacred', 'grail', 'purpose', 'quest', 'blessing', 'God', 'praised', '8', 'horn', 'Hallo', 'FRENCH', 'GUARD', 'Allo', 'eet', 'Guy', 'de', 'Loimbard', 'Go', 'been', 'charged', 'food', 'shelter', 'night', 'keen', 'already', 'sure', 'yes', '(', '.)', 'u', 'um', 'look', 'Of', 'English', 'types', 'French', 'outrageous', 'accent', 'Mind', 'own', 'business', 'show', 'force', 'frighten', 'pig', 'dogs', 'boil', 'bottom', 'sons', 'person', 'blow', 'k', 'nnnnniggets', 'Thpppppt', 'Thppt', 'wanna', 'headed', 'animal', 'trough', 'wiper', 'fart', 'general', 'direction', 'mother', 'hamster', 'father', 'smelt', 'elderberries', 'Is', 'else', 'taunt', 'sniff', 'chance', 'than', 'reasonable', 'Fetchez', 'la', 'vache', 'OTHER', 'Quoi', '!)', 'mooo', 'commands', 'twong', 'mooooooo', 'Jesus', 'Christ', 'Charge', 'mayhem', 'Hey', 'dad', 'Run', 'Thppppt', 'GUARDS', 'taunting', 'Fiends', 'tear', 'plan', 'later', 'bang', 'squeak', 'rrrr', 'drilllll', 'sawwwww', 'crash', 'whispering', 'C', 'est', 'un', 'lapin', 'bois', 'Un', 'cadeau', 'present', 'Oui', 'oui', 'Hurry', 'On', 'y', 'va', 'Bon', 'magne', 'Over', 'clllank', 'happens', 'uh', 'Launcelot', 'Galahad', 'wait', 'until', 'nightfall', 'leap', 'rabbit', 'taking', 'surprise', 'totally', 'unarmed', 'leaps', 'U', 'Um', 'l', 'i', 'built', 'large', 'wooden', 'badger', 'clank', 'CRASH', 'haw', 'Haw', '..', '9', 'clack', 'VOICE', 'Picture', 'Schools', 'eight', 'DIRECTOR', 'Action', 'HISTORIAN', 'Defeat', 'seems', 'utterly', 'disheartened', 'ferocity', 'took', 'completely', 'became', 'convinced', 'strategy', 'required', 'brought', 'successful', 'conclusion', 'having', 'consulted', 'his', 'closest', 'decided', 'should', 'separate', 'individually', 'Aaaah', 'slash', 'S', 'WIFE', 'Frank', '10', 'Tale', 'each', 'their', 'rode', 'north', 'forest', 'Ewing', 'accompanied', 'favorite', 'minstrels', 'MINSTREL', 'Bravely', 'bold', 'forth', 'afraid', 'killed', 'nasty', 'least', 'scared', 'mashed', 'pulp', 'Or', 'gouged', 'elbows', 'broken', 'To', 'kneecaps', 'split', 'body', 'burned', 'limbs', 'hacked', 'mangled', 'His', 'head', 'smashed', 'heart', 'cut', 'liver', 'removed', 'bowels', 'unplugged', 'nostrils', 'raped', 'pen', 'ROBIN', 'lads', 'Looks', 'dirty', 'work', 'afoot', 'Anarcho', 'syndicalism', 'way', 'preserving', 'freedom', 'forget', 'haven', 'mud', 'ALL', 'HEADS', 'art', 'thou', 'n', 'nobody', 'really', 'j', 'ju', 'passing', 'oo', 'nothing', 'p', 'W', 'actually', 'LEFT', 'HEAD', 'kill', 'MIDDLE', 'Shall', 'RIGHT', 'shut', 'Perhaps', 'quick', 'Get', 'headoff', 'Yapping', 'lucky', 'snore', 'Anyway', 'bad', 'breath', 'brush', 'teeth', 'bitching', 'tea', 'biscuits', 'buggered', 'scarper', 'ran', 'When', 'danger', 'reared', 'ugly', 'bravely', 'tail', 'fled', 'gallantly', 'chickened', 'feet', 'never', 'retreat', 'lies', 'Bravest', 'CARTOON', 'CHARACTER', 'heeh', 'ooh', 'twang', 'CHARACTERS', 'Wayy', 'splash', 'Ho', 'ho', 'Woa', 'wayy', 'Forgive', 'asking', 'Oooo', '11', 'Open', 'door', 'open', 'thump', 'GIRLS', 'Hello', 'ZOOT', 'Welcome', 'gentle', 'Castle', 'Anthrax', 'attend', 'need', 'keepers', 'tired', 'rest', 'awhile', 'Midget', 'Crapper', 'MIDGET', 'CRAPPER', 'Zoot', 'Prepare', 'bed', 'guest', 'Thank', 'Away', 'varletesses', 'beds', 'warm', 'soft', 'big', 'handsome', 'Chaste', 'Mine', 'suffered', 'delirious', 'seen', 'ungallant', 'refuse', 'hospitality', 'seem', 'dull', 'compared', 'yours', 'score', 'young', 'blondes', 'brunettes', 'between', 'sixteen', 'nineteen', 'half', 'protect', 'lonely', 'bathing', 'dressing', 'undressing', 'making', 'exciting', 'underwear', 'used', 'Nay', 'lie', 'wounded', 'doctors', 'immediately', 'Lie', 'PIGLET', 'trouble', 'basic', 'medical', 'training', 'Doctor', 'Piglet', 'Winston', 'Practice', 'WINSTON', 'Try', 'relax', 'absolutely', 'necessary', 'examine', 'wrong', 'cannot', 'sworn', 'chastity', 'Back', 'At', 'once', 'Torment', 'longer', 'DINGO', 'identical', 'twin', 'sister', 'Dingo', 'excuse', 'Bad', 'wicked', 'naughty', 'setting', 'alight', 'beacon', 'remembered', 'problem', 'real', 'evil', 'pay', 'penalty', 'Do', 'scene', 'worried', 'boys', 'writing', 'glad', 'previous', 'ours', 'visually', 'committed', 'wasn', 'string', 'pussy', 'jokes', 'OLD', 'TIM', 'THE', 'ENCHANTER', 'ARMY', 'OF', 'enjoying', 'sigh', 'punishment', 'tie', 'spank', 'spanking', 'after', 'spanked', 'deal', 'AMAZING', 'STUNNER', 'LOVELY', 'tonight', 'oral', 'sex', 'stay', 'hello', 'Quick', 'great', 'peril', 'Silence', 'foul', 'temptress', 'cover', 'escape', 'tackle', 'single', 'handed', 'Really', 'Honestly', 'cope', 'handle', 'easily', 'defeat', 'hundred', 'fifty', 'nick', 'terrible', 'face', 'too', 'perilous', 'duty', 'sample', 'little', 'unhealthy', 'bet', 'gay', 'saved', 'almost', 'certain', 'temptation', 'still', 'nearer', 'Meanwhile', 'flight', 'discovered', 'unladen', 'obviously', 'laden', 'flights', 'four', 'birds', 'walking', 'dragging', 'twenty', 'smashing', 'acting', 'discovers', 'vital', 'clue', 'aren', 'although', 'starling', 'oooh', '12', 'hee', 'ha', 'Hee', 'enchanter', 'whom', 'Ha', 'knows', 'cave', 'entered', 'beyond', 'Gorge', 'Eternal', 'Peril', 'crossed', 'Seek', 'Bridge', 'Death', 'leads', '13', 'spooky', 'NI', 'Ni', 'Say', \"'!\", 'words', 'Peng', 'Neee', 'wom', 'Those', 'seldom', 'tale', 'demand', 'sacrifice', 'travellers', 'woods', 'Ow', 'ni', 'appease', 'shrubbery', 'dramatic', 'chord', 'PARTY', 'return', 'alive', 'expensive', 'Hmm', 'hmm', 'Great', 'scott', 'Hm', 'mumble', 'SUN', 'Ay', 'Thsss', 'Ayy', 'Stop', 'Clear', 'bells', 'weather', '14', 'FATHER', 'day', 'lad', 'PRINCE', 'HERBERT', 'curtains', 'stretched', 'hills', 'valleys', 'Mother', 'Father', 'b', 'started', 'swamp', 'Other', 'said', 'daft', 'build', 'sank', 'third', 'fell', 'fourth', 'stayed', 'gonna', 'strongest', 'islands', 'rather', 'Rather', 'song', 'while', 'listen', 'married', 'girl', 'owns', 'biggest', 'tracts', 'Britain', 'Alice', 'Herbert', 'Erbert', 'bloody', 'Don', 'beautiful', 'rich', 'huge', 'o', 'marry', 'Cut', 'marrying', 'Princess', 'Lucky', 'smack', 'Guards', 'Make', 'Prince', 'leave', 'room', 'even', 'Hic', 'Until', 'enter', 'anything', 'entering', 'Leaving', 'uhh', 'w', 'ehh', 'Alright', 'remember', 'N', 'keep', 'meant', 'seemed', 'havin', 'guard', 'clear', 'problems', 'noise', 'suit', 'glass', 'scribble', 'fold', '15', 'taken', 'Concorde', 'CONCORDE', 'Most', 'kind', 'Steady', 'Uuh', 'thwonk', 'Message', 'fwump', 'Speak', 'whoever', 'finds', 'note', 'imprisoned', 'wishes', 'rescue', 'Tall', 'Tower', 'Swamp', \".'\", 'cry', 'distress', 'sign', 'died', 'vain', 'mortally', 'c', 'pull', 'Actually', 'sweet', 'Stay', 'send', 'accomplished', 'daring', 'heroic', 'particular', 'Idiom', 'Farewell', '16', 'inside', 'PRINCESS', 'LUCKY', 'giggle', 'outside', 'GUEST', 'Morning', 'SENTRY', 'ptoo', 'Hiyya', 'Huy', 'GUESTS', 'Aah', 'Hiyah', 'Hyy', 'Hya', 'allowed', 'aaugh', 'behold', 'humble', 'terribly', 'hadn', 'knew', 'somewhere', 'jump', 'conclusions', 'guards', 'cost', 'pounds', 'awfully', 'explain', 'everything', 'rope', 'ready', 'wedding', 'guests', 'understand', 'bride', 'Didn', 'dear', 'kicked', 'chest', 'fortune', 'riding', 'Very', 'country', 'Would', 'drink', 'understanding', 'thonk', 'idiom', 'sometimes', 'worry', 'splat', '17', 'crying', 'main', 'knocked', 'hell', 'Hold', 'most', 'everyone', 'best', 'yelling', 'influential', 'auntie', 'supposed', 'occasion', 'bicker', 'argue', 'witness', 'union', 'joyful', 'bond', 'holy', 'wedlock', 'Unfortunately', 'fallen', 'death', 'gained', 'daughter', 'For', 'tragic', 'Since', 'near', 'fatal', 'wounding', 'recover', 'suddenly', 'felt', 'icy', 'hand', 'upon', 'BRIDE', 'Uugh', 'legally', 'binding', 'sense', 'merger', 'dangerous', 'creep', 'uuup', 'Quickly', 'Dramatically', 'Heee', 'Hoa', 'Hoo', 'wonderful', 'Excuse', 'Could', 'somebody', '18', 'crone', 'anywhere', 'town', 'buy', 'CRONE', 'sent', 'Aggh', 'Never', 'shrubberies', 'friend', 'worst', 'assist', 'voluntarily', 'Nu', 'properly', 'ROGER', 'SHRUBBER', 'Erm', 'ruffians', 'ladies', 'pestilence', 'Even', 'arrange', 'design', 'considerable', 'stress', 'period', 'history', \"'?\", 'Shrubberies', 'trade', 'shrubber', 'Roger', 'Shrubber', 'sell', '19', 'laurels', 'particularly', 'Ecky', 'ecky', 'pikang', 'zoop', 'boing', 'goodem', 'zoo', 'owli', 'zhiv', 'Therefore', 'test', 'Til', 'Recently', 'Said', 'Firstly', 'another', 'beside', 'slightly', 'higher', 'level', 'effect', 'path', 'running', 'middle', 'mightiest', 'tree', 'herring', 'done', 'Aaaugh', 'word', 'suffice', 'Aaaaugh', 'wouldn', 'vary', 'far', 'Packing', 'packing', 'sneaking', 'buggering', 'chickening', 'pissing', 'throwing', 'sponge', 'Surely', 'Far', 'looking', 'set', 'spoken', 'Beyond', 'met', 'rejoicing', 'Yay', 'frozen', 'Nador', 'forced', 'high', 'pitched', 'Eee', 'year', 'passed', 'shivering', 'Winter', 'changed', 'Spring', 'Mmm', 'Summer', 'gave', 'miss', 'straight', 'Autumn', 'snap', 'Waa', '20', 'Forward', 'manner', 'summon', 'fire', 'without', 'flint', 'tinder', 'known', 'Tim', 'Greetings', 'Enchanter', 'zoosh', 'hidden', 'pweeng', 'Yup', 'Ages', 'Umhm', 'helpful', 'Fine', 'waste', 'suppose', 'might', '...?', 'g', 'Y', 'Splendid', 'Caerbannog', 'wherein', 'carved', 'mystic', 'runes', 'rock', 'Olfin', 'Bedwere', 'Rheged', 'plain', 'resting', 'Follow', 'ye', 'valor', 'entrance', 'guarded', 'creature', 'cruel', 'lived', 'Bones', 'full', 'strewn', 'lair', 'doubt', 'courage', 'further', 'awaits', 'pointy', 'eccentric', 'performance', '21', 'whinny', 'nervous', 'sire', 'foot', 'Dis', 'mount', 'Keep', 'Too', 'late', 'sod', 'worked', 'ordinary', 'tempered', 'rodent', 'tit', 'soiled', 'armor', 'streak', 'mile', 'wide', 'killer', 'stuffed', 'mate', 'mangy', 'scots', 'git', 'warning', 'nibble', 'bum', 'sharp', 'bones', 'Bors', 'Chop', 'BORS', 'Silly', 'bleeder', 'stew', 'comin', 'warned', 'harmless', 'bunny', 'lose', 'Gawain', 'Ector', 'Three', 'risk', 'frontal', 'assault', 'dynamite', 'confuse', 'run', 'change', 'mistake', 'Like', 'bows', 'Hand', 'Grenade', 'Antioch', 'relics', 'Brother', 'Maynard', 'carries', 'donaeis', 'eisrequiem', 'Consult', 'Book', 'Armaments', 'BROTHER', 'MAYNARD', 'Chapter', 'Two', 'verses', 'Nine', 'Twenty', 'SECOND', 'Saint', 'Attila', 'raised', 'grenade', \",'\", 'bless', 'thy', 'mayest', 'thine', 'enemies', 'tiny', 'bits', 'mercy', 'grin', 'feast', 'lambs', 'sloths', 'carp', 'anchovies', 'orangutans', 'breakfast', 'cereals', 'fruit', 'bats', 'chu', 'Skip', 'spake', 'First', 'shalt', 'Pin', 'count', 'less', 'number', 'counting', 'Four', 'nor', 'either', 'excepting', 'proceed', 'Five', 'Once', 'reached', 'lobbest', 'towards', 'foe', 'sight', 'snuff', 'Amen', '22', 'language', 'scholar', 'Aramaic', 'Joseph', 'Arimathea', 'reads', 'valiant', 'pure', 'spirit', 'uuggggggh', \"'...\", 'carving', 'dying', 'carve', 'aaggggh', 'dictating', 'Aauuggghhh', 'Aaauggh', 'Camaaaaaargue', 'France', 'Isn', 'Aauuuves', 'Cornwall', 'Ives', 'Iiiives', 'Iiiiives', 'Oooohoohohooo', 'Aauuuuugh', 'throat', 'Aauuugh', 'Oooooooh', 'alarm', 'aaaah', 'aaaaaah', 'roar', 'legendary', 'Beast', 'Aaauugh', 'eats', 'awaaay', 'awaaaaay', 'As', 'horrendous', 'lunged', 'hopeless', 'animator', 'attack', 'ANIMATOR', 'Ulk', 'cartoon', 'continue', '23', 'gurgle', 'keeper', 'asks', 'traveller', 'questions', 'answers', 'safety', 'cast', 'answer', 'feint', 'east', 'Hang', 'watch', 'pray', 'luck', 'BRIDGEKEEPER', 'ere', 'side', 'Ask', 'bridgekeeper', 'color', 'Blue', 'Off', 'easy', 'approacheth', 'capital', 'Assyria', 'Auuuuuuuugh', 'yel', 'auuuuuuuugh', 'An', 'Huh', 'things', 'suspenseful', 'intermission', 'resumes', '24', 'police', 'radio', 'ethereal', 'end', 'Almighty', 'Thou', 'hast', 'vouchsafed', 'baaaa', 'dappy', 'niggets', 'Monsieur', 'brain', 'fellows', 'outwit', 'dare', 'profane', 'presence', 'doors', 'Himself', 'guided', 'mac', 'unclog', 'window', 'dresser', 'clever', 'folk', 'knees', 'bent', 'advancing', 'behaviour', 'wave', 'private', 'parts', 'aunties', 'cheesy', 'electric', 'donkey', 'biters', 'wetting', 'burst', 'pimples', 'opening', 'request', 'brained', 'wipers', 'bottoms', 'glory', 'laughing', 'settles', 'depart', 'approaching', 'arrows', 'tops', 'heads', 'castanets', 'testicles', 'haaa', 'Walk', 'ignore', 'remain', 'gone', 'illegitimate', 'faced', 'bugger', 'ain', 'heard', 'nnniggets', 'Thpppt', 'Stand', 'silence', 'persons', 'Dappy', 'Today', 'blood', 'avenged', 'hoo', 'til', 'returns', 'chosen', 'Hooray', 'siren', 'ones', 'INSPECTOR', 'Anybody', 'armed', 'OFFICER', 'along', 'Put', 'van', 'Which', 'blanket', 'hospital', 'Riiight', 'offensive', 'weapon', 'Everything', 'sonny', 'pack', 'CAMERAMAN'])"
      ]
     },
     "execution_count": 26,
     "metadata": {},
     "output_type": "execute_result"
    }
   ],
   "source": [
    "# Imprimimos los tipos de palabra del text6.\n",
    "v"
   ]
  },
  {
   "cell_type": "code",
   "execution_count": 27,
   "id": "3efe984c",
   "metadata": {},
   "outputs": [
    {
     "data": {
      "text/plain": [
       "3"
      ]
     },
     "execution_count": 27,
     "metadata": {},
     "output_type": "execute_result"
    }
   ],
   "source": [
    "# Contamos cuantas veces aparece la palabra 'wind' en el text6.\n",
    "text6.count('wind')"
   ]
  },
  {
   "cell_type": "code",
   "execution_count": 28,
   "id": "9a7efb5e",
   "metadata": {},
   "outputs": [
    {
     "data": {
      "text/plain": [
       "3"
      ]
     },
     "execution_count": 28,
     "metadata": {},
     "output_type": "execute_result"
    }
   ],
   "source": [
    "# Contamos cuantas veces aparece la palabra 'wind' en el text6.\n",
    "fdist6['wind']"
   ]
  },
  {
   "cell_type": "markdown",
   "id": "440cc3a3",
   "metadata": {},
   "source": [
    "### Ejercicios "
   ]
  },
  {
   "cell_type": "markdown",
   "id": "78ad888c",
   "metadata": {},
   "source": [
    "**1. <i>text6</i>: Gráfica freciencia cumulativas de las 20 palabras más frecuentes.**"
   ]
  },
  {
   "cell_type": "code",
   "execution_count": 29,
   "id": "a7de82c8",
   "metadata": {},
   "outputs": [
    {
     "data": {
      "image/png": "[encoded data removed]",
      "text/plain": [
       "<Figure size 432x288 with 1 Axes>"
      ]
     },
     "metadata": {
      "needs_background": "light"
     },
     "output_type": "display_data"
    },
    {
     "data": {
      "text/plain": [
       "<AxesSubplot:xlabel='Samples', ylabel='Cumulative Counts'>"
      ]
     },
     "execution_count": 29,
     "metadata": {},
     "output_type": "execute_result"
    }
   ],
   "source": [
    "fdist6.plot(20, cumulative = True)"
   ]
  },
  {
   "cell_type": "markdown",
   "id": "af5aea81",
   "metadata": {},
   "source": [
    "**2. <i>text5</i>: Imprimir todas las palabras con longitud > 30.** "
   ]
  },
  {
   "cell_type": "code",
   "execution_count": 30,
   "id": "34118a52",
   "metadata": {},
   "outputs": [
    {
     "data": {
      "text/plain": [
       "['huuuuuuuuuuuuuuuuuuuuuuuuuuuuuuuuuuugZ',\n",
       " ')))))))))))))))))))))))))))))))',\n",
       " 'cooooooooookiiiiiiiiiiiieeeeeeeeeeee',\n",
       " 'wooooooooooooohoooooooooooooooo',\n",
       " 'oooooooooooooonnnnnnnnnnnneeeeeeeeeeeeeeesssssssss',\n",
       " 'hahahahahahahahahahahahahahahaha',\n",
       " 'http://forums.talkcity.com/tc-adults/start ',\n",
       " 'mmmmmmmmiiiiiiiiinnnnnnnnneeeeeeee',\n",
       " 'miiiiiiiiiiiiinnnnnnnnnnneeeeeeeeee',\n",
       " 'wheeeeeeeeeeeeeeeeeeeeeeeeeeeeeeeeee',\n",
       " 'HHEEYYYYYYYYYYYYYYYYYYYYYYYYYYYYYYYYYYYYYYYYYYYYYYY',\n",
       " '//www.wunderground.com/cgi-bin/findweather/getForecast?query=95953#FIR',\n",
       " 'backfrontsidewaysandallaroundtheworld',\n",
       " '!!!!!!!!!!!!!!!!!!!!!!!!!!!!!!!!!!!!!!!!!!!!!!!!!!!!!!',\n",
       " 'BAAAAALLLLLLLLIIIIIIINNNNNNNNNNN',\n",
       " 'llloooozzzzeeerrrrzzzzzzzzzzzzzzzzzzzzzzzzzzzzzzzzzzzzzzzzzzzzzzzzz']"
      ]
     },
     "execution_count": 30,
     "metadata": {},
     "output_type": "execute_result"
    }
   ],
   "source": [
    "V = set(text5)\n",
    "words = [v for v in V if len(v) > 30]\n",
    "words"
   ]
  },
  {
   "cell_type": "code",
   "execution_count": 31,
   "id": "2dd21d58",
   "metadata": {},
   "outputs": [
    {
     "data": {
      "text/plain": [
       "16"
      ]
     },
     "execution_count": 31,
     "metadata": {},
     "output_type": "execute_result"
    }
   ],
   "source": [
    "len(words)"
   ]
  }
 ],
 "metadata": {
  "kernelspec": {
   "display_name": "Python 3.9.12 ('base')",
   "language": "python",
   "name": "python3"
  },
  "language_info": {
   "codemirror_mode": {
    "name": "ipython",
    "version": 3
   },
   "file_extension": ".py",
   "mimetype": "text/x-python",
   "name": "python",
   "nbconvert_exporter": "python",
   "pygments_lexer": "ipython3",
   "version": "3.9.12"
  },
  "vscode": {
   "interpreter": {
    "hash": "cd1fd7730a3ff7811bc6623d31c907c7b97c986d3e82d3b9938e7dcbaa66e63f"
   }
  }
 },
 "nbformat": 4,
 "nbformat_minor": 5
}
