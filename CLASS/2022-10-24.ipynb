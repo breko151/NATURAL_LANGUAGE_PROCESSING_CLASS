{
 "cells": [
  {
   "cell_type": "markdown",
   "id": "f3842a68",
   "metadata": {},
   "source": [
    "# Clase 24/10/2022\n",
    "**Suárez Pérez Juan Pablo**"
   ]
  },
  {
   "cell_type": "markdown",
   "id": "e877f88c",
   "metadata": {},
   "source": [
    "Term Frequency Wight se realiza antes de la normalización de los vectores, esto con el objetivo de disminuir la importancia de las palabras que más se repiten dentro de un vector\n",
    "$$y=\\frac{(k+1)x}{x+k}$$\n",
    "$$y=log(1+x)$$\n",
    "k: regula el tamaño de castigo de palabras frecuentes"
   ]
  },
  {
   "cell_type": "markdown",
   "id": "ffbbab1f",
   "metadata": {},
   "source": [
    "$$y=BM25+Solución de longitud diferente de documentos$$"
   ]
  },
  {
   "cell_type": "markdown",
   "id": "857a32e9",
   "metadata": {},
   "source": [
    "IDF Weighting: Penalización de Términos Populares\n",
    "$$IDF(W) = log[\\frac{(M+1)}{k}]$$"
   ]
  },
  {
   "cell_type": "markdown",
   "id": "63c48b05",
   "metadata": {},
   "source": [
    "$$(tf_1xidf_1, tf_2xidf_2, ..., tf_nxidf_n)$$\n",
    "Despues se normaliza..."
   ]
  },
  {
   "cell_type": "markdown",
   "id": "7222bdaa",
   "metadata": {},
   "source": [
    "BM25 Paradigmatic Relation Mining, usado para normalización de contextos."
   ]
  },
  {
   "cell_type": "markdown",
   "id": "408cc347",
   "metadata": {},
   "source": [
    "$$BM25(w_i, d1)=\\frac{(k+1)c(w_i, d1)}{c(w_i,d1)+k(1-b+\\frac{b*|d1|}{avdl})}$$"
   ]
  },
  {
   "cell_type": "markdown",
   "id": "b3292dfb",
   "metadata": {},
   "source": [
    "$$x_i=y_i=\\frac{BM25(w_i,dl)}{\\sum BM25(w_j,dl)}$$"
   ]
  },
  {
   "cell_type": "markdown",
   "id": "1af31b99",
   "metadata": {},
   "source": [
    "$$Sim(d1, d2)=\\sum IDF(w_i)(x_i)(y_i)$$"
   ]
  },
  {
   "cell_type": "markdown",
   "id": "09320cad",
   "metadata": {},
   "source": [
    "Otra forma de hacerlo es:\n",
    "$$(BM25xidf_1, BM25xidf_2, ..., BM25xidf_n)$$\n",
    "Despues se normaliza..."
   ]
  }
 ],
 "metadata": {
  "kernelspec": {
   "display_name": "Python 3 (ipykernel)",
   "language": "python",
   "name": "python3"
  },
  "language_info": {
   "codemirror_mode": {
    "name": "ipython",
    "version": 3
   },
   "file_extension": ".py",
   "mimetype": "text/x-python",
   "name": "python",
   "nbconvert_exporter": "python",
   "pygments_lexer": "ipython3",
   "version": "3.9.12"
  }
 },
 "nbformat": 4,
 "nbformat_minor": 5
}
