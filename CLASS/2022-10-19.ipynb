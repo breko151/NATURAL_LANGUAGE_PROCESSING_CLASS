{
 "cells": [
  {
   "cell_type": "markdown",
   "id": "5197e74b",
   "metadata": {},
   "source": [
    "# Clase 19/10/2022\n",
    "**Suárez Pérez Juan Pablo**"
   ]
  },
  {
   "cell_type": "markdown",
   "id": "e75cfd46",
   "metadata": {},
   "source": [
    "# Versión 2 del programa de Similitud. \n",
    "1. Eliminar las etiquetas HTML...\n",
    "2. Segmentar en oraciones...\n",
    "3. Oracion.lower()...\n",
    "4. Oracion.split()...\n",
    "5. Etiquetación con POS(Spanish-tagger)->Guardar con tagger...  \n",
    "    a. UnigramTagger...  \n",
    "    b. RegexpTagger...  \n",
    "    c. DefaultTagger...\n",
    "6. Eliminar StopWords...\n",
    "7. Eliminar caracteres Especiales...\n",
    "8. Lematizar...  \n",
    "    a. Preparar Diccionario de Lemmas...\n",
    "9. Generar similitud."
   ]
  }
 ],
 "metadata": {
  "kernelspec": {
   "display_name": "Python 3 (ipykernel)",
   "language": "python",
   "name": "python3"
  },
  "language_info": {
   "codemirror_mode": {
    "name": "ipython",
    "version": 3
   },
   "file_extension": ".py",
   "mimetype": "text/x-python",
   "name": "python",
   "nbconvert_exporter": "python",
   "pygments_lexer": "ipython3",
   "version": "3.9.12"
  }
 },
 "nbformat": 4,
 "nbformat_minor": 5
}
