{
 "cells": [
  {
   "cell_type": "markdown",
   "id": "6f792a25",
   "metadata": {},
   "source": [
    "# Versión 2 del programa de Similitud. \n",
    "1. Eliminar las etiquetas HTML...\n",
    "2. Segmentar en oraciones.\n",
    "3. Oracion.lower().\n",
    "4. Oracion.strip().\n",
    "5. Etiquetación con POS(Spanish-tagger)->Guardar con tagger.  \n",
    "    a. UnigramTagger  \n",
    "    b. RegexpTagger  \n",
    "    c. DefaultTagger\n",
    "6. Eliminar StopWords.\n",
    "7. Eliminar caracteres Especiales.\n",
    "8. Lematizar.  \n",
    "    a. Preparar Diccionario de Lemmas\n",
    "9. Generar similitud."
   ]
  },
  {
   "cell_type": "code",
   "execution_count": null,
   "id": "6f0e569a",
   "metadata": {},
   "outputs": [],
   "source": [
    "#sent_tokenizer = nltk.data.load('nltk:tokenizers/pickle')\n",
    "#sentences = sent_tokenize\n",
    "#sentences = [s.split() for s in sentences]\n",
    "#sentences = [s.lower() for s in sentences]"
   ]
  }
 ],
 "metadata": {
  "kernelspec": {
   "display_name": "Python 3 (ipykernel)",
   "language": "python",
   "name": "python3"
  },
  "language_info": {
   "codemirror_mode": {
    "name": "ipython",
    "version": 3
   },
   "file_extension": ".py",
   "mimetype": "text/x-python",
   "name": "python",
   "nbconvert_exporter": "python",
   "pygments_lexer": "ipython3",
   "version": "3.9.12"
  }
 },
 "nbformat": 4,
 "nbformat_minor": 5
}
