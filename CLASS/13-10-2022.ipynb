{
 "cells": [
  {
   "cell_type": "markdown",
   "id": "c91cd348",
   "metadata": {},
   "source": [
    "# Para el programa de palabras similares"
   ]
  },
  {
   "cell_type": "markdown",
   "id": "17380f35",
   "metadata": {},
   "source": [
    "1. Texto Original: Cadena.\n",
    "2. Texto Preprocesado o Normalizado (Lista de Tokens Normalizados): \n",
    "    1. Eliminación de etiquetas.\n",
    "    2. Pasar a minúsculas.\n",
    "    3. Tokenización: \n",
    "        1. Con split().\n",
    "        2. Con nltk.word_tokenize().\n",
    "    4. Eliminación de caracteres que no son letras.\n",
    "    5. Eliminación de stopwords.\n",
    "    6. Lematización.\n",
    "    text = texto preprocesado = lista de tokens normalizados.\n",
    "    vocabulario = sorted(list(set(text)))\n",
    "Contextos = {}\n",
    "for v in vocabulario:\n",
    "    crear contexto a partir de text\n",
    "    Contextos[v] = contexto\n",
    "Vectorización de Contextos -> vectores de números (longitud = len(voabulario))\n",
    "for v in vocabulario:\n",
    "    contexto = Contexts[v]\n",
    "    for v in vocabulary\n",
    "        vector.append(contexto.count(v))\n",
    "        \n",
    "Calcular producto punto (coseno de ángulo entre vectores) de vectores con cada uno de los vectores, crear una lista con (palabra, valor del producto punto) ordenar la lista por valor del p.p. de mayor a menor.\n",
    "\n",
    "Normalización de Frecienciaas"
   ]
  }
 ],
 "metadata": {
  "kernelspec": {
   "display_name": "Python 3 (ipykernel)",
   "language": "python",
   "name": "python3"
  },
  "language_info": {
   "codemirror_mode": {
    "name": "ipython",
    "version": 3
   },
   "file_extension": ".py",
   "mimetype": "text/x-python",
   "name": "python",
   "nbconvert_exporter": "python",
   "pygments_lexer": "ipython3",
   "version": "3.9.12"
  }
 },
 "nbformat": 4,
 "nbformat_minor": 5
}
