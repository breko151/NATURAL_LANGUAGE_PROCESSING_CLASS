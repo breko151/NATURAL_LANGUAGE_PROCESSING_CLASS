{
 "cells": [
  {
   "cell_type": "markdown",
   "id": "dd4f69ea",
   "metadata": {},
   "source": [
    "# Syntagmatic Mutual Information\n",
    "**Suárez Pérez Juan Pablo**"
   ]
  },
  {
   "cell_type": "code",
   "execution_count": 1,
   "id": "d8927e5e",
   "metadata": {},
   "outputs": [],
   "source": [
    "# Import the libraries needed\n",
    "from nlp_functions import word_association as wa\n",
    "from nlp_functions import text_processing as tp"
   ]
  },
  {
   "cell_type": "markdown",
   "id": "1d33c113",
   "metadata": {},
   "source": [
    "## Text Processing"
   ]
  },
  {
   "cell_type": "code",
   "execution_count": 2,
   "id": "0fdb3304",
   "metadata": {},
   "outputs": [],
   "source": [
    "# Clean the corpus\n",
    "tp.clean_corpus('./../EXCELSIOR_100_files/', './new_corpus/')"
   ]
  },
  {
   "cell_type": "code",
   "execution_count": 3,
   "id": "f874e2a2",
   "metadata": {},
   "outputs": [],
   "source": [
    "# Get clean corpus\n",
    "text = tp.get_clean_text('./new_corpus/clean_e960401_mod_corpus.txt')"
   ]
  },
  {
   "cell_type": "code",
   "execution_count": 4,
   "id": "64263c76",
   "metadata": {},
   "outputs": [],
   "source": [
    "# Sentences segmentation\n",
    "sents = tp.sentence_tokenize(text)"
   ]
  },
  {
   "cell_type": "code",
   "execution_count": 5,
   "id": "b809066b",
   "metadata": {},
   "outputs": [],
   "source": [
    "# Delete Stop Words\n",
    "clean_sents = tp.delete_stop_words_sents(sents, './nlp_functions/stopwords_and_lemmas/stopwords_es.txt')"
   ]
  },
  {
   "cell_type": "code",
   "execution_count": 6,
   "id": "8da8b0b4",
   "metadata": {},
   "outputs": [],
   "source": [
    "# Lemmatize\n",
    "lemmatize_sents = tp.lemmatize_sents(clean_sents, './nlp_functions/stopwords_and_lemmas/generate.txt')"
   ]
  },
  {
   "cell_type": "code",
   "execution_count": 7,
   "id": "59499b95",
   "metadata": {},
   "outputs": [
    {
     "name": "stdout",
     "output_type": "stream",
     "text": [
      "Vocabulary size: 5471\n"
     ]
    }
   ],
   "source": [
    "# Get Vocabulaey\n",
    "vocabulary = tp.get_vocabulary_by_sents(lemmatize_sents)"
   ]
  },
  {
   "cell_type": "markdown",
   "id": "d870da58",
   "metadata": {},
   "source": [
    "## Numeric Representation "
   ]
  },
  {
   "cell_type": "code",
   "execution_count": 8,
   "id": "e4e3bb84",
   "metadata": {},
   "outputs": [
    {
     "name": "stdout",
     "output_type": "stream",
     "text": [
      "Proceso realizado con exito para: empresa\n"
     ]
    }
   ],
   "source": [
    "target = 'empresa'\n",
    "mutual_information = dict()\n",
    "try:\n",
    "    for word in vocabulary:\n",
    "        mutual_information[(word, target)] = wa.get_Mutual_Information(target, word, lemmatize_sents)\n",
    "    mutual_information = (sorted(mutual_information.items(), key = lambda item: item[1], reverse = True))\n",
    "    with open('./mutual_information/mutual_information_with_' + target + '.txt', 'w', encoding = 'utf-8') as f:\n",
    "        for item in mutual_information:\n",
    "            f.write(str(item) + '\\n')\n",
    "    print('Proceso realizado con exito para:', target)\n",
    "except Exception as e:\n",
    "    print('Ocurrió el siguiente error:', e)"
   ]
  }
 ],
 "metadata": {
  "kernelspec": {
   "display_name": "Python 3.9.12 ('base')",
   "language": "python",
   "name": "python3"
  },
  "language_info": {
   "codemirror_mode": {
    "name": "ipython",
    "version": 3
   },
   "file_extension": ".py",
   "mimetype": "text/x-python",
   "name": "python",
   "nbconvert_exporter": "python",
   "pygments_lexer": "ipython3",
   "version": "3.9.12"
  },
  "vscode": {
   "interpreter": {
    "hash": "cd1fd7730a3ff7811bc6623d31c907c7b97c986d3e82d3b9938e7dcbaa66e63f"
   }
  }
 },
 "nbformat": 4,
 "nbformat_minor": 5
}
