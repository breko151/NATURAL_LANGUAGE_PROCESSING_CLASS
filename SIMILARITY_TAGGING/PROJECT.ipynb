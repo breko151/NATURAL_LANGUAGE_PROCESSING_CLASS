{
 "cells": [
  {
   "cell_type": "markdown",
   "id": "3abf03d4",
   "metadata": {},
   "source": [
    "# Similarity by Tagging\n",
    "**Suárez Pérez Juan Pablo**"
   ]
  },
  {
   "cell_type": "markdown",
   "id": "a157f33a",
   "metadata": {},
   "source": [
    "## Text Processing "
   ]
  },
  {
   "cell_type": "code",
   "execution_count": 1,
   "id": "0c4d9689",
   "metadata": {},
   "outputs": [],
   "source": [
    "# Import the libraries needed\n",
    "from nlp_functions import text_processing as tp\n",
    "from nlp_functions import word_association as wa"
   ]
  },
  {
   "cell_type": "code",
   "execution_count": 2,
   "id": "4345fca5",
   "metadata": {},
   "outputs": [],
   "source": [
    "# Clean the corpus\n",
    "tp.clean_corpus('./../EXCELSIOR_100_files/', './new_corpus/')"
   ]
  },
  {
   "cell_type": "code",
   "execution_count": 3,
   "id": "c65e4b65",
   "metadata": {},
   "outputs": [],
   "source": [
    "# Get clean corpus\n",
    "    # Delete HTML Tags.\n",
    "    # Lower words.\n",
    "text = tp.get_clean_text('./new_corpus/clean_corpus.txt')"
   ]
  },
  {
   "cell_type": "code",
   "execution_count": 4,
   "id": "b7cb3bd7",
   "metadata": {},
   "outputs": [],
   "source": [
    "# Sentences segmentation\n",
    "# Split Sentences\n",
    "# Delete Special Caracters\n",
    "sents = tp.sentence_tokenize(text)"
   ]
  },
  {
   "cell_type": "code",
   "execution_count": 5,
   "id": "60ebef27",
   "metadata": {},
   "outputs": [],
   "source": [
    "# Delete Stop Words\n",
    "sents = tp.delete_stop_words_sents(sents, './nlp_functions/stopwords_and_lemmas/stopwords_es.txt')"
   ]
  },
  {
   "cell_type": "code",
   "execution_count": 6,
   "id": "a98e467d",
   "metadata": {},
   "outputs": [],
   "source": [
    "# Make tagger\n",
    "tp.make_and_save_spanish_tagger('./nlp_functions/stopwords_and_lemmas/spanish_tagger.pkl')"
   ]
  },
  {
   "cell_type": "code",
   "execution_count": 7,
   "id": "0b4f4926",
   "metadata": {},
   "outputs": [],
   "source": [
    "# Tag sentences\n",
    "tagged_sentences = tp.tag(sents, path = './nlp_functions/stopwords_and_lemmas/spanish_tagger.pkl')"
   ]
  },
  {
   "cell_type": "code",
   "execution_count": 8,
   "id": "f2987e95",
   "metadata": {},
   "outputs": [],
   "source": [
    "new_tagged_sentences = list()\n",
    "for sent in tagged_sentences:\n",
    "    new_sent = list()\n",
    "    for element in sent:\n",
    "        word = element[0]\n",
    "        tag = element[1]\n",
    "        new_sent.append((word, tag[0].lower()))\n",
    "    new_tagged_sentences.append(new_sent)"
   ]
  },
  {
   "cell_type": "code",
   "execution_count": 9,
   "id": "4f1291c7",
   "metadata": {},
   "outputs": [],
   "source": [
    "# Lemmatize\n",
    "lemmatize_tagged_sentences = tp.lemmatize_sents(new_tagged_sentences, './nlp_functions/stopwords_and_lemmas/generate.txt')"
   ]
  },
  {
   "cell_type": "code",
   "execution_count": 10,
   "id": "7c5b7636",
   "metadata": {},
   "outputs": [
    {
     "data": {
      "text/plain": [
       "6402"
      ]
     },
     "execution_count": 10,
     "metadata": {},
     "output_type": "execute_result"
    }
   ],
   "source": [
    "words = list()\n",
    "for sent in lemmatize_tagged_sentences:\n",
    "    for word in sent:\n",
    "        words.append(word)\n",
    "vocabulary = list(sorted(set(words)))\n",
    "len(vocabulary)"
   ]
  },
  {
   "cell_type": "code",
   "execution_count": 11,
   "id": "9f336a0a",
   "metadata": {},
   "outputs": [],
   "source": [
    "contexts = wa.get_contexts_sents(vocabulary, lemmatize_tagged_sentences)"
   ]
  },
  {
   "cell_type": "code",
   "execution_count": 12,
   "id": "864631c4",
   "metadata": {},
   "outputs": [],
   "source": [
    "vectors = wa.get_vectors(vocabulary, contexts, prob = True)"
   ]
  },
  {
   "cell_type": "code",
   "execution_count": 13,
   "id": "86a17998",
   "metadata": {},
   "outputs": [
    {
     "name": "stdout",
     "output_type": "stream",
     "text": [
      "Se completo abandonar oraciones\n"
     ]
    }
   ],
   "source": [
    "word = ('abandonar', 'v')\n",
    "try:\n",
    "    # Sents\n",
    "    wa.similar_words(word, vectors, aux_path = 'by_tagging', \n",
    "                    dot_product = True, cosine = True)\n",
    "    print('Se completo', word[0], 'oraciones')\n",
    "except Exception as e:\n",
    "    print('Ocurrió el siguiente error:', e, 'en la palabra', word[0])"
   ]
  },
  {
   "cell_type": "code",
   "execution_count": 14,
   "id": "07bbb22c",
   "metadata": {},
   "outputs": [
    {
     "name": "stdout",
     "output_type": "stream",
     "text": [
      "Se completo a oraciones\n"
     ]
    }
   ],
   "source": [
    "word = 'abandonar'\n",
    "try:\n",
    "    # Sents\n",
    "    wa.similar_words_better(word, vectors, vocabulary, aux_path = 'by_tagging', \n",
    "                    dot_product = True, cosine = True)\n",
    "    print('Se completo', word[0], 'oraciones')\n",
    "except Exception as e:\n",
    "    print('Ocurrió el siguiente error:', e, 'en la palabra', word[0])"
   ]
  }
 ],
 "metadata": {
  "kernelspec": {
   "display_name": "Python 3 (ipykernel)",
   "language": "python",
   "name": "python3"
  },
  "language_info": {
   "codemirror_mode": {
    "name": "ipython",
    "version": 3
   },
   "file_extension": ".py",
   "mimetype": "text/x-python",
   "name": "python",
   "nbconvert_exporter": "python",
   "pygments_lexer": "ipython3",
   "version": "3.9.12"
  }
 },
 "nbformat": 4,
 "nbformat_minor": 5
}
