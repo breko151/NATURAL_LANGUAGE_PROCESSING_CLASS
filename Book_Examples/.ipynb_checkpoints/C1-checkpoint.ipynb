{
 "cells": [
  {
   "cell_type": "markdown",
   "id": "ce473346",
   "metadata": {},
   "source": [
    "# CAPÍTULO 1 \n",
    "## NLP WITH PYTHON\n",
    "**Suárez Pérez Juan Pablo**"
   ]
  },
  {
   "cell_type": "markdown",
   "id": "72930a8b",
   "metadata": {},
   "source": [
    "### Operaciones Básicas"
   ]
  },
  {
   "cell_type": "code",
   "execution_count": 1,
   "id": "4dace4af",
   "metadata": {},
   "outputs": [
    {
     "data": {
      "text/plain": [
       "8"
      ]
     },
     "execution_count": 1,
     "metadata": {},
     "output_type": "execute_result"
    }
   ],
   "source": [
    "1 + 5 * 2 - 3"
   ]
  },
  {
   "cell_type": "code",
   "execution_count": 2,
   "id": "85085dde",
   "metadata": {},
   "outputs": [
    {
     "ename": "SyntaxError",
     "evalue": "invalid syntax (1278102326.py, line 1)",
     "output_type": "error",
     "traceback": [
      "\u001b[1;36m  Input \u001b[1;32mIn [2]\u001b[1;36m\u001b[0m\n\u001b[1;33m    1 +\u001b[0m\n\u001b[1;37m       ^\u001b[0m\n\u001b[1;31mSyntaxError\u001b[0m\u001b[1;31m:\u001b[0m invalid syntax\n"
     ]
    }
   ],
   "source": [
    "1 +"
   ]
  },
  {
   "cell_type": "markdown",
   "id": "30cae07e",
   "metadata": {},
   "source": [
    "### Iniciación con NLTK"
   ]
  },
  {
   "cell_type": "code",
   "execution_count": 3,
   "id": "57b295a0",
   "metadata": {},
   "outputs": [],
   "source": [
    "import nltk"
   ]
  },
  {
   "cell_type": "code",
   "execution_count": 4,
   "id": "47d90bff",
   "metadata": {},
   "outputs": [
    {
     "name": "stdout",
     "output_type": "stream",
     "text": [
      "showing info https://raw.githubusercontent.com/nltk/nltk_data/gh-pages/index.xml\n"
     ]
    },
    {
     "data": {
      "text/plain": [
       "True"
      ]
     },
     "execution_count": 4,
     "metadata": {},
     "output_type": "execute_result"
    }
   ],
   "source": [
    "nltk.download()"
   ]
  },
  {
   "cell_type": "code",
   "execution_count": 5,
   "id": "3084bcd9",
   "metadata": {},
   "outputs": [
    {
     "name": "stdout",
     "output_type": "stream",
     "text": [
      "*** Introductory Examples for the NLTK Book ***\n",
      "Loading text1, ..., text9 and sent1, ..., sent9\n",
      "Type the name of the text or sentence to view it.\n",
      "Type: 'texts()' or 'sents()' to list the materials.\n",
      "text1: Moby Dick by Herman Melville 1851\n",
      "text2: Sense and Sensibility by Jane Austen 1811\n",
      "text3: The Book of Genesis\n",
      "text4: Inaugural Address Corpus\n",
      "text5: Chat Corpus\n",
      "text6: Monty Python and the Holy Grail\n",
      "text7: Wall Street Journal\n",
      "text8: Personals Corpus\n",
      "text9: The Man Who Was Thursday by G . K . Chesterton 1908\n"
     ]
    }
   ],
   "source": [
    "from nltk.book import *"
   ]
  },
  {
   "cell_type": "markdown",
   "id": "a91ef96f",
   "metadata": {},
   "source": [
    "### Text "
   ]
  },
  {
   "cell_type": "code",
   "execution_count": 6,
   "id": "31cb55c0",
   "metadata": {},
   "outputs": [
    {
     "data": {
      "text/plain": [
       "<Text: Moby Dick by Herman Melville 1851>"
      ]
     },
     "execution_count": 6,
     "metadata": {},
     "output_type": "execute_result"
    }
   ],
   "source": [
    "text1"
   ]
  },
  {
   "cell_type": "code",
   "execution_count": 7,
   "id": "9cfc2ebe",
   "metadata": {},
   "outputs": [
    {
     "data": {
      "text/plain": [
       "<Text: Sense and Sensibility by Jane Austen 1811>"
      ]
     },
     "execution_count": 7,
     "metadata": {},
     "output_type": "execute_result"
    }
   ],
   "source": [
    "text2"
   ]
  },
  {
   "cell_type": "markdown",
   "id": "0ead38d6",
   "metadata": {},
   "source": [
    "### Función concordance() "
   ]
  },
  {
   "cell_type": "code",
   "execution_count": 8,
   "id": "9fa4cb90",
   "metadata": {},
   "outputs": [
    {
     "name": "stdout",
     "output_type": "stream",
     "text": [
      "Displaying 11 of 11 matches:\n",
      "ong the former , one was of a most monstrous size . ... This came towards us , \n",
      "ON OF THE PSALMS . \" Touching that monstrous bulk of the whale or ork we have r\n",
      "ll over with a heathenish array of monstrous clubs and spears . Some were thick\n",
      "d as you gazed , and wondered what monstrous cannibal and savage could ever hav\n",
      "that has survived the flood ; most monstrous and most mountainous ! That Himmal\n",
      "they might scout at Moby Dick as a monstrous fable , or still worse and more de\n",
      "th of Radney .'\" CHAPTER 55 Of the Monstrous Pictures of Whales . I shall ere l\n",
      "ing Scenes . In connexion with the monstrous pictures of whales , I am strongly\n",
      "ere to enter upon those still more monstrous stories of them which are to be fo\n",
      "ght have been rummaged out of this monstrous cabinet there is no telling . But \n",
      "of Whale - Bones ; for Whales of a monstrous size are oftentimes cast up dead u\n"
     ]
    }
   ],
   "source": [
    "text1.concordance('monstrous')"
   ]
  },
  {
   "cell_type": "code",
   "execution_count": 9,
   "id": "bc9b3e18",
   "metadata": {},
   "outputs": [
    {
     "name": "stdout",
     "output_type": "stream",
     "text": [
      "Displaying 25 of 79 matches:\n",
      ", however , and , as a mark of his affection for the three girls , he left them\n",
      "t . It was very well known that no affection was ever supposed to exist between\n",
      "deration of politeness or maternal affection on the side of the former , the tw\n",
      "d the suspicion -- the hope of his affection for me may warrant , without impru\n",
      "hich forbade the indulgence of his affection . She knew that his mother neither\n",
      "rd she gave one with still greater affection . Though her late conversation wit\n",
      " can never hope to feel or inspire affection again , and if her home be uncomfo\n",
      "m of the sense , elegance , mutual affection , and domestic comfort of the fami\n",
      ", and which recommended him to her affection beyond every thing else . His soci\n",
      "ween the parties might forward the affection of Mr . Willoughby , an equally st\n",
      " the most pointed assurance of her affection . Elinor could not be surprised at\n",
      "he natural consequence of a strong affection in a young and ardent mind . This \n",
      " opinion . But by an appeal to her affection for her mother , by representing t\n",
      " every alteration of a place which affection had established as perfect with hi\n",
      "e will always have one claim of my affection , which no other can possibly shar\n",
      "f the evening declared at once his affection and happiness . \" Shall we see you\n",
      "ause he took leave of us with less affection than his usual behaviour has shewn\n",
      "ness .\" \" I want no proof of their affection ,\" said Elinor ; \" but of their en\n",
      "onths , without telling her of his affection ;-- that they should part without \n",
      "ould be the natural result of your affection for her . She used to be all unres\n",
      "distinguished Elinor by no mark of affection . Marianne saw and listened with i\n",
      "th no inclination for expense , no affection for strangers , no profession , an\n",
      "till distinguished her by the same affection which once she had felt no doubt o\n",
      "al of her confidence in Edward ' s affection , to the remembrance of every mark\n",
      " was made ? Had he never owned his affection to yourself ?\" \" Oh , no ; but if \n"
     ]
    }
   ],
   "source": [
    "text2.concordance('affection')"
   ]
  },
  {
   "cell_type": "code",
   "execution_count": 10,
   "id": "12c50c88",
   "metadata": {},
   "outputs": [
    {
     "name": "stdout",
     "output_type": "stream",
     "text": [
      "Displaying 20 of 20 matches:\n",
      "re , for many generations , they had lived in so respectable a manner as to eng\n",
      "f this estate was a single man , who lived to a very advanced age , and who for\n",
      "ght have found it impossible to have lived together so long , had not a particu\n",
      "ge and handsome ; and the Middletons lived in a style of equal hospitality and \n",
      "two daughters , both of whom she had lived to see respectably married , and she\n",
      "\" \" As good a kind of fellow as ever lived , I assure you . A very decent shot \n",
      "sort of fellow , I believe , as ever lived ,\" repeated Sir John . \" I remember \n",
      " I know very little , though we have lived together for years ; but of Willough\n",
      "six or seven hundred a year ; but he lived at an expense to which that income c\n",
      "She thought it probable that as they lived in the same county , Mrs . Palmer mi\n",
      "and happy had it been if she had not lived to overcome those regrets which the \n",
      "vise or restrain her ( for my father lived only a few months after their marria\n",
      "ately to determine , that Edward who lived with his mother , must be asked as h\n",
      "g else for me again , so long as she lived ; but now she is quite come to , and\n",
      "She is a good - hearted girl as ever lived .-- Very well upon my word . That se\n",
      "ar relation of Mr . Palmer ' s , who lived a few miles on the other side of Bat\n",
      " I was quite overcome -- that if she lived , as I trusted she might , my greate\n",
      "gs of my heart !-- How should I have lived in YOUR remembrance !-- My mother to\n",
      "exceed the harmony in which they all lived together . What Edward had done to f\n",
      "pended on -- for he did neither . He lived to exert , and frequently to enjoy h\n"
     ]
    }
   ],
   "source": [
    "text2.concordance('lived')"
   ]
  },
  {
   "cell_type": "code",
   "execution_count": 11,
   "id": "de5f324f",
   "metadata": {},
   "outputs": [
    {
     "name": "stdout",
     "output_type": "stream",
     "text": [
      "Displaying 25 of 112 matches:\n",
      "eliance on the protection of Almighty God , I shall forthwith commence the duti\n",
      "humble , acknowledged dependence upon God and His overruling providence . We ha\n",
      "great office I must humbly invoke the God of our fathers for wisdom and firmnes\n",
      "d the same Bible and pray to the same God , and each invokes His aid against th\n",
      "hat any men should dare to ask a just God ' s assistance in wringing their brea\n",
      "offenses which , in the providence of God , must needs come , but which , havin\n",
      "butes which the believers in a living God always ascribe to Him ? Fondly do we \n",
      "war may speedily pass away . Yet , if God wills that it continue until all the \n",
      "r all , with firmness in the right as God gives us to see the right , let us st\n",
      "the prayers of the nation to Almighty God in behalf of this consummation . Fell\n",
      "r , they have \" followed the light as God gave them to see the light .\" They ar\n",
      "ess their fathers and their fathers ' God that the Union was preserved , that s\n",
      "the support and blessings of Almighty God . Fellow citizens , in the presence o\n",
      "ng the power and goodness of Almighty God , who presides over the destiny of na\n",
      "expect the favor and help of Almighty God -- that He will give to me wisdom , s\n",
      " suggestion to enterprise and labor . God has placed upon our head a diadem and\n",
      "urn than the pledge I now give before God and these witnesses of unreserved and\n",
      "han human life can escape the laws of God and nature . Manifestly nothing is mo\n",
      "and invoking the guidance of Almighty God . Our faith teaches that there is no \n",
      "re is no safer reliance than upon the God of our fathers , who has so singularl\n",
      "e the direction and favor of Almighty God . I should shrink from the duties thi\n",
      " devolve upon it , and in the fear of God will \" take occasion by the hand and \n",
      " citizens and the aid of the Almighty God in the discharge of my responsible du\n",
      "our heartstrings like some air out of God ' s own presence , where justice and \n",
      " forward - looking men , to my side . God helping me , I will not fail them , i\n"
     ]
    }
   ],
   "source": [
    "text4.concordance('god')"
   ]
  },
  {
   "cell_type": "code",
   "execution_count": 12,
   "id": "e8e029b2",
   "metadata": {},
   "outputs": [
    {
     "name": "stdout",
     "output_type": "stream",
     "text": [
      "Displaying 25 of 822 matches:\n",
      "ast PART 24 / m boo . 26 / m and sexy lol U115 boo . JOIN PART he drew a girl w\n",
      "ope he didnt draw a penis PART ewwwww lol & a head between her legs JOIN JOIN s\n",
      "a bowl i got a blunt an a bong ...... lol JOIN well , glad it worked out my cha\n",
      "e \" PART Hi U121 in ny . ACTION would lol @ U121 . . . but appearently she does\n",
      "30 make sure u buy a nice ring for U6 lol U7 Hi U115 . ACTION isnt falling for \n",
      " didnt ya hear !!!! PART JOIN geeshhh lol U6 PART hes deaf ppl here dont get it\n",
      "es nobody here i wanna misbeahve with lol JOIN so read it . thanks U7 .. Im hap\n",
      "ies want to chat can i talk to him !! lol U121 !!! forwards too lol JOIN ALL PE\n",
      "k to him !! lol U121 !!! forwards too lol JOIN ALL PErvs ... redirect to U121 '\n",
      " loves ME the most i love myself JOIN lol U44 how do u know that what ? jerkett\n",
      "ng wrong ... i can see it in his eyes lol U20 = fiance Jerketts lmao wtf yah I \n",
      "cooler by the minute what 'd I miss ? lol noo there too much work ! why not ?? \n",
      " that mean I want you ? U6 hello room lol U83 and this .. has been the grammar \n",
      " the rule he 's in PM land now though lol ah ok i wont bug em then someone wann\n",
      "flight to hell :) lmao bbl maybe PART LOL lol U7 it was me , U83 hahah U83 ! 80\n",
      "ht to hell :) lmao bbl maybe PART LOL lol U7 it was me , U83 hahah U83 ! 808265\n",
      "082653953 K-Fed got his ass kicked .. Lol . ACTION laughs . i got a first class\n",
      " . i got a first class ticket to hell lol U7 JOIN any texas girls in here ? any\n",
      " . whats up U155 i was only kidding . lol he 's a douchebag . Poor U121 i 'm bo\n",
      " ??? sits with U30 Cum to my shower . lol U121 . ACTION U1370 watches his nads \n",
      " ur nad with a stick . ca u U23 ewwww lol *sniffs* ewwwwww PART U115 ! owww spl\n",
      "ACTION is resisting . ur female right lol U115 beeeeehave Remember the LAst tim\n",
      "pm's me . charge that is 1.99 / min . lol @ innocent hahah lol .... yeah LOLOLO\n",
      " is 1.99 / min . lol @ innocent hahah lol .... yeah LOLOLOLLL U12 thats not nic\n",
      "s . lmao no U115 Check my record . :) Lol lick em U7 U23 how old r u lol Way to\n"
     ]
    }
   ],
   "source": [
    "text5.concordance('lol')"
   ]
  },
  {
   "cell_type": "markdown",
   "id": "4e6bd5ad",
   "metadata": {},
   "source": [
    "### Función similar()"
   ]
  },
  {
   "cell_type": "code",
   "execution_count": 13,
   "id": "c7abef04",
   "metadata": {},
   "outputs": [
    {
     "name": "stdout",
     "output_type": "stream",
     "text": [
      "true contemptible christian abundant few part mean careful puzzled\n",
      "mystifying passing curious loving wise doleful gamesome singular\n",
      "delightfully perilous fearless\n"
     ]
    }
   ],
   "source": [
    "text1.similar('monstrous')"
   ]
  },
  {
   "cell_type": "code",
   "execution_count": 14,
   "id": "124e69ae",
   "metadata": {},
   "outputs": [
    {
     "name": "stdout",
     "output_type": "stream",
     "text": [
      "very so exceedingly heartily a as good great extremely remarkably\n",
      "sweet vast amazingly\n"
     ]
    }
   ],
   "source": [
    "text2.similar('monstrous')"
   ]
  },
  {
   "cell_type": "markdown",
   "id": "76eb65cb",
   "metadata": {},
   "source": [
    "### Función common_contexts()"
   ]
  },
  {
   "cell_type": "code",
   "execution_count": 15,
   "id": "f23d72a4",
   "metadata": {},
   "outputs": [
    {
     "name": "stdout",
     "output_type": "stream",
     "text": [
      "am_glad a_pretty a_lucky is_pretty be_glad\n"
     ]
    }
   ],
   "source": [
    "text2.common_contexts([\"monstrous\", \"very\"])"
   ]
  },
  {
   "cell_type": "markdown",
   "id": "6d47ecbb",
   "metadata": {},
   "source": [
    "### Función dispersion_plot()"
   ]
  },
  {
   "cell_type": "code",
   "execution_count": 16,
   "id": "f08e7586",
   "metadata": {},
   "outputs": [
    {
     "data": {
      "image/png": "[encoded data removed]",
      "text/plain": [
       "<Figure size 432x288 with 1 Axes>"
      ]
     },
     "metadata": {
      "needs_background": "light"
     },
     "output_type": "display_data"
    }
   ],
   "source": [
    "text4.dispersion_plot([\"citizens\", \"democracy\", \"freedom\", \"duties\", \"America\"])"
   ]
  },
  {
   "cell_type": "markdown",
   "id": "6ac1880a",
   "metadata": {},
   "source": [
    "### Función generate() "
   ]
  },
  {
   "cell_type": "code",
   "execution_count": 17,
   "id": "503ef262",
   "metadata": {},
   "outputs": [
    {
     "name": "stderr",
     "output_type": "stream",
     "text": [
      "Building ngram index...\n"
     ]
    },
    {
     "name": "stdout",
     "output_type": "stream",
     "text": [
      "left London this morning he came to Barton . \" , she could live\n",
      "without one another , and in her rambles . be materially benefited in\n",
      "one another ' s affliction could be nothing . Her insipidity was\n",
      "invariable , as he can leave her , my dear Miss Dashwood , who saw\n",
      "THAT solicitude in his breed of horses and dogs , and from that time\n",
      "so unwilling to join their ' s -- can it be otherwise , her mother ,\n",
      "laughing heartily ; \" I do not like .\" those most concerned . always\n",
      "glad to\n"
     ]
    },
    {
     "data": {
      "text/plain": [
       "'left London this morning he came to Barton . \" , she could live\\nwithout one another , and in her rambles . be materially benefited in\\none another \\' s affliction could be nothing . Her insipidity was\\ninvariable , as he can leave her , my dear Miss Dashwood , who saw\\nTHAT solicitude in his breed of horses and dogs , and from that time\\nso unwilling to join their \\' s -- can it be otherwise , her mother ,\\nlaughing heartily ; \" I do not like .\" those most concerned . always\\nglad to'"
      ]
     },
     "execution_count": 17,
     "metadata": {},
     "output_type": "execute_result"
    }
   ],
   "source": [
    "text2.generate()"
   ]
  },
  {
   "cell_type": "markdown",
   "id": "2bcb73c5",
   "metadata": {},
   "source": [
    "### Lexical Diversity "
   ]
  },
  {
   "cell_type": "code",
   "execution_count": 18,
   "id": "474db7ac",
   "metadata": {},
   "outputs": [
    {
     "data": {
      "text/plain": [
       "141576"
      ]
     },
     "execution_count": 18,
     "metadata": {},
     "output_type": "execute_result"
    }
   ],
   "source": [
    "len(text2)"
   ]
  },
  {
   "cell_type": "code",
   "execution_count": 19,
   "id": "3531507b",
   "metadata": {},
   "outputs": [
    {
     "data": {
      "text/plain": [
       "['!',\n",
       " '!\"',\n",
       " '!\"--',\n",
       " \"!'\",\n",
       " '!\\'\"',\n",
       " '!--',\n",
       " '!--\"',\n",
       " '\"',\n",
       " '\"\\'',\n",
       " '\"--',\n",
       " '&',\n",
       " \"'\",\n",
       " \"',\",\n",
       " \"'--\",\n",
       " '(',\n",
       " ')',\n",
       " '),',\n",
       " ')--',\n",
       " '***',\n",
       " ',',\n",
       " ',\"',\n",
       " ',\"--',\n",
       " \",'\",\n",
       " ',)',\n",
       " ',-',\n",
       " ',--',\n",
       " ',--\"',\n",
       " '-',\n",
       " '--',\n",
       " '--\"',\n",
       " \"--'\",\n",
       " '--(',\n",
       " '--,',\n",
       " '-?',\n",
       " '-?\"',\n",
       " '.',\n",
       " '.\"',\n",
       " '.\"--',\n",
       " \".'\",\n",
       " '.\\'\"',\n",
       " \".'--\",\n",
       " '.)',\n",
       " '.)--',\n",
       " '.--',\n",
       " '.--\"',\n",
       " '...',\n",
       " '...\"',\n",
       " '.]',\n",
       " '1',\n",
       " '10',\n",
       " '11',\n",
       " '12',\n",
       " '13',\n",
       " '14',\n",
       " '15',\n",
       " '16',\n",
       " '17',\n",
       " '18',\n",
       " '1811',\n",
       " '19',\n",
       " '2',\n",
       " '20',\n",
       " '200',\n",
       " '21',\n",
       " '22',\n",
       " '23',\n",
       " '24',\n",
       " '25',\n",
       " '26',\n",
       " '27',\n",
       " '28',\n",
       " '29',\n",
       " '3',\n",
       " '30',\n",
       " '31',\n",
       " '32',\n",
       " '33',\n",
       " '34',\n",
       " '35',\n",
       " '36',\n",
       " '37',\n",
       " '38',\n",
       " '39',\n",
       " '4',\n",
       " '40',\n",
       " '41',\n",
       " '42',\n",
       " '43',\n",
       " '44',\n",
       " '45',\n",
       " '46',\n",
       " '47',\n",
       " '48',\n",
       " '49',\n",
       " '5',\n",
       " '50',\n",
       " '6',\n",
       " '7',\n",
       " '7000L',\n",
       " '8',\n",
       " '9',\n",
       " ':',\n",
       " ':--',\n",
       " ':--\"',\n",
       " ';',\n",
       " ';\"',\n",
       " ';\"--',\n",
       " \";'\",\n",
       " ';--',\n",
       " ';--\"',\n",
       " '>',\n",
       " '?',\n",
       " '?\"',\n",
       " '?\"--',\n",
       " \"?'\",\n",
       " '?)',\n",
       " '?--',\n",
       " '?--\"',\n",
       " 'A',\n",
       " 'ALL',\n",
       " 'ALMOST',\n",
       " 'ALWAYS',\n",
       " 'AM',\n",
       " 'ANY',\n",
       " 'ARE',\n",
       " 'Abbeyland',\n",
       " 'About',\n",
       " 'Absence',\n",
       " 'Abundance',\n",
       " 'Add',\n",
       " 'Affecting',\n",
       " 'After',\n",
       " 'Again',\n",
       " 'Against',\n",
       " 'Ah',\n",
       " 'All',\n",
       " 'Allenham',\n",
       " 'Allow',\n",
       " 'Almost',\n",
       " 'Altogether',\n",
       " 'Am',\n",
       " 'Among',\n",
       " 'Amongst',\n",
       " 'An',\n",
       " 'And',\n",
       " 'Annamaria',\n",
       " 'Anne',\n",
       " 'Another',\n",
       " 'Anxiety',\n",
       " 'April',\n",
       " 'Are',\n",
       " 'As',\n",
       " 'Ashamed',\n",
       " 'Astonished',\n",
       " 'Astonishment',\n",
       " 'At',\n",
       " 'Austen',\n",
       " 'Avignon',\n",
       " 'Ay',\n",
       " 'Aye',\n",
       " 'BEEN',\n",
       " 'BOTH',\n",
       " 'Bad',\n",
       " 'Bartlett',\n",
       " 'Barton',\n",
       " 'Bath',\n",
       " 'Beautifully',\n",
       " 'Because',\n",
       " 'Before',\n",
       " 'Being',\n",
       " 'Believe',\n",
       " 'Benevolent',\n",
       " 'Berkeley',\n",
       " 'Besides',\n",
       " 'Betty',\n",
       " 'Between',\n",
       " 'Beyond',\n",
       " 'Biddy',\n",
       " 'Bishop',\n",
       " 'Bond',\n",
       " 'Bonomi',\n",
       " 'Born',\n",
       " 'Brandon',\n",
       " 'Bristol',\n",
       " 'Brown',\n",
       " 'Building',\n",
       " 'Buildings',\n",
       " 'Burgess',\n",
       " 'Business',\n",
       " 'But',\n",
       " 'By',\n",
       " 'CAN',\n",
       " 'CATCHING',\n",
       " 'CHAPTER',\n",
       " 'COULD',\n",
       " 'Can',\n",
       " 'Careless',\n",
       " 'Careys',\n",
       " 'Cartwright',\n",
       " 'Casino',\n",
       " 'Cassino',\n",
       " 'Certainly',\n",
       " 'Chagrined',\n",
       " 'Charlotte',\n",
       " 'Choice',\n",
       " 'Christian',\n",
       " 'Christmas',\n",
       " 'Civil',\n",
       " 'Clarke',\n",
       " 'Cleveland',\n",
       " 'Cold',\n",
       " 'Colonel',\n",
       " 'Columella',\n",
       " 'Combe',\n",
       " 'Come',\n",
       " 'Common',\n",
       " 'Comparisons',\n",
       " 'Concealing',\n",
       " 'Concern',\n",
       " 'Conduit',\n",
       " 'Confess',\n",
       " 'Consider',\n",
       " 'Considering',\n",
       " 'Constantia',\n",
       " 'Continual',\n",
       " 'Conversation',\n",
       " 'Cottage',\n",
       " 'Could',\n",
       " 'Court',\n",
       " 'Courtland',\n",
       " 'Cowper',\n",
       " 'Cross',\n",
       " 'Cruel',\n",
       " 'D',\n",
       " 'DEAR',\n",
       " 'DID',\n",
       " 'DO',\n",
       " 'DOES',\n",
       " 'DRAW',\n",
       " 'Dartford',\n",
       " 'Dashwood',\n",
       " 'Dashwoods',\n",
       " 'Davies',\n",
       " 'Dawlish',\n",
       " 'Dear',\n",
       " 'Dearest',\n",
       " 'Delaford',\n",
       " 'Dennison',\n",
       " 'Depend',\n",
       " 'Design',\n",
       " 'Determined',\n",
       " 'Devonshire',\n",
       " 'Did',\n",
       " 'Disappointed',\n",
       " 'Disappointment',\n",
       " 'Do',\n",
       " 'Doctor',\n",
       " 'Does',\n",
       " 'Domestic',\n",
       " 'Don',\n",
       " 'Donavan',\n",
       " 'Dorsetshire',\n",
       " 'Down',\n",
       " 'Dr',\n",
       " 'Drury',\n",
       " 'Dullness',\n",
       " 'During',\n",
       " 'Duty',\n",
       " 'EDWARD',\n",
       " 'ELINOR',\n",
       " 'END',\n",
       " 'ESTEEM',\n",
       " 'Each',\n",
       " 'Eager',\n",
       " 'Early',\n",
       " 'East',\n",
       " 'Easter',\n",
       " 'Edward',\n",
       " 'Elinor',\n",
       " 'Eliza',\n",
       " 'Elliott',\n",
       " 'Ellison',\n",
       " 'Ellisons',\n",
       " 'Encouraged',\n",
       " 'Engaged',\n",
       " 'Engagement',\n",
       " 'England',\n",
       " 'Epicurism',\n",
       " 'Esq',\n",
       " 'Esteem',\n",
       " 'Even',\n",
       " 'Every',\n",
       " 'Everybody',\n",
       " 'Excellent',\n",
       " 'Exchange',\n",
       " 'Excuse',\n",
       " 'Exert',\n",
       " 'Exeter',\n",
       " 'Extend',\n",
       " 'Extravagance',\n",
       " 'F',\n",
       " 'FAITH',\n",
       " 'FERRARS',\n",
       " 'Fanny',\n",
       " 'Far',\n",
       " 'Farm',\n",
       " 'February',\n",
       " 'Ferrars',\n",
       " 'Few',\n",
       " 'Fifteen',\n",
       " 'Fifty',\n",
       " 'Five',\n",
       " 'Folly',\n",
       " 'For',\n",
       " 'Forgive',\n",
       " 'Fortunately',\n",
       " 'Four',\n",
       " 'Friday',\n",
       " 'From',\n",
       " 'Frosts',\n",
       " 'GAUCHERIE',\n",
       " 'Gardens',\n",
       " 'Gentleman',\n",
       " 'Get',\n",
       " 'Gibson',\n",
       " 'Gilberts',\n",
       " 'Go',\n",
       " 'God',\n",
       " 'Godby',\n",
       " 'Going',\n",
       " 'Gone',\n",
       " 'Good',\n",
       " 'Gracious',\n",
       " 'Grandeur',\n",
       " 'Gray',\n",
       " 'Greatness',\n",
       " 'Grecian',\n",
       " 'Grey',\n",
       " 'HAD',\n",
       " 'HAS',\n",
       " 'HE',\n",
       " 'HER',\n",
       " 'HERS',\n",
       " 'HIM',\n",
       " 'HIS',\n",
       " 'Had',\n",
       " 'Half',\n",
       " 'Hamlet',\n",
       " 'Hanger',\n",
       " 'Hanover',\n",
       " 'Happy',\n",
       " 'Harley',\n",
       " 'Harris',\n",
       " 'Harry',\n",
       " 'Has',\n",
       " 'Have',\n",
       " 'Having',\n",
       " 'He',\n",
       " 'Heaven',\n",
       " 'Henry',\n",
       " 'Henshawe',\n",
       " 'Her',\n",
       " 'Here',\n",
       " 'High',\n",
       " 'His',\n",
       " 'Hitherto',\n",
       " 'Holborn',\n",
       " 'Holburn',\n",
       " 'Hon',\n",
       " 'Honiton',\n",
       " 'Hope',\n",
       " 'Hour',\n",
       " 'House',\n",
       " 'How',\n",
       " 'However',\n",
       " 'Hum',\n",
       " 'Hunters',\n",
       " 'Hush',\n",
       " 'I',\n",
       " 'II',\n",
       " 'IN',\n",
       " 'INconvenience',\n",
       " 'IS',\n",
       " 'If',\n",
       " 'Imagine',\n",
       " 'Impatient',\n",
       " 'Impossible',\n",
       " 'Improve',\n",
       " 'Impudence',\n",
       " 'In',\n",
       " 'Indeed',\n",
       " 'Indies',\n",
       " 'Infirmity',\n",
       " 'Inn',\n",
       " 'Instead',\n",
       " 'Invited',\n",
       " 'Is',\n",
       " 'It',\n",
       " 'JOHN',\n",
       " 'James',\n",
       " 'Jane',\n",
       " 'January',\n",
       " 'Jenning',\n",
       " 'Jennings',\n",
       " 'John',\n",
       " 'Just',\n",
       " 'KNEW',\n",
       " 'Kensington',\n",
       " 'Kingham',\n",
       " 'Know',\n",
       " 'Knowing',\n",
       " 'L',\n",
       " 'LESS',\n",
       " 'LET',\n",
       " 'LONG',\n",
       " 'LOOK',\n",
       " 'LOOKED',\n",
       " 'LUCY',\n",
       " 'La',\n",
       " 'Lady',\n",
       " 'Ladyship',\n",
       " 'Lane',\n",
       " 'Last',\n",
       " 'Laughing',\n",
       " 'Law',\n",
       " 'Let',\n",
       " 'Life',\n",
       " 'Like',\n",
       " 'Little',\n",
       " 'Lodging',\n",
       " 'Lombardy',\n",
       " 'London',\n",
       " 'Long',\n",
       " 'Longstaple',\n",
       " 'Look',\n",
       " 'Lord',\n",
       " 'Luckily',\n",
       " 'Lucy',\n",
       " 'M',\n",
       " 'MADAM',\n",
       " 'MAY',\n",
       " 'ME',\n",
       " 'MIND',\n",
       " 'MONTH',\n",
       " 'MUST',\n",
       " 'MY',\n",
       " 'Ma',\n",
       " 'Mab',\n",
       " 'Madam',\n",
       " 'Magna',\n",
       " 'Mall',\n",
       " 'Mama',\n",
       " 'Mamma',\n",
       " 'Mansion',\n",
       " 'Many',\n",
       " 'March',\n",
       " 'Margaret',\n",
       " 'Marianne',\n",
       " 'Marlborough',\n",
       " 'Martha',\n",
       " 'Mary',\n",
       " 'Master',\n",
       " 'May',\n",
       " 'Me',\n",
       " 'Men',\n",
       " 'Michaelmas',\n",
       " 'Mid',\n",
       " 'Middleton',\n",
       " 'Middletons',\n",
       " 'Midsummer',\n",
       " 'Mind',\n",
       " 'Mine',\n",
       " 'Misery',\n",
       " 'Miss',\n",
       " 'Misses',\n",
       " 'Mistress',\n",
       " 'Monday',\n",
       " 'Months',\n",
       " 'More',\n",
       " 'Morton',\n",
       " 'Most',\n",
       " 'Mr',\n",
       " 'Mrs',\n",
       " 'Much',\n",
       " 'Music',\n",
       " 'Must',\n",
       " 'My',\n",
       " 'NOT',\n",
       " 'NOW',\n",
       " 'Nancy',\n",
       " 'Nay',\n",
       " 'Neither',\n",
       " 'Never',\n",
       " 'New',\n",
       " 'Newton',\n",
       " 'No',\n",
       " 'Nobody',\n",
       " 'None',\n",
       " 'Nor',\n",
       " 'Norfolk',\n",
       " 'Norland',\n",
       " 'Not',\n",
       " 'Nothing',\n",
       " 'November',\n",
       " 'Now',\n",
       " 'OCCASION',\n",
       " 'ONCE',\n",
       " 'ONE',\n",
       " 'OUGHT',\n",
       " 'OWN',\n",
       " 'October',\n",
       " 'Of',\n",
       " 'Offended',\n",
       " 'Oh',\n",
       " 'On',\n",
       " 'Once',\n",
       " 'One',\n",
       " 'Only',\n",
       " 'Opportunity',\n",
       " 'Opposition',\n",
       " 'Or',\n",
       " 'Other',\n",
       " 'Others',\n",
       " 'Our',\n",
       " 'Oxford',\n",
       " 'P',\n",
       " 'PARTIES',\n",
       " 'Pall',\n",
       " 'Palmer',\n",
       " 'Palmers',\n",
       " 'Pardon',\n",
       " 'Park',\n",
       " 'Parliament',\n",
       " 'Parrys',\n",
       " 'Parsonage',\n",
       " 'Perhaps',\n",
       " 'Pity',\n",
       " 'Please',\n",
       " 'Pleased',\n",
       " 'Plymouth',\n",
       " 'Poor',\n",
       " 'Pope',\n",
       " 'Portman',\n",
       " 'Pratt',\n",
       " 'Pray',\n",
       " 'Precious',\n",
       " 'Preparation',\n",
       " 'Prescriptions',\n",
       " 'Priory',\n",
       " 'Queen',\n",
       " 'Quite',\n",
       " 'REALLY',\n",
       " 'ROBERT',\n",
       " 'Rather',\n",
       " 'Reading',\n",
       " 'Really',\n",
       " 'Recollecting',\n",
       " 'Reflection',\n",
       " 'Regard',\n",
       " 'Relate',\n",
       " 'Remember',\n",
       " 'Reserved',\n",
       " 'Restless',\n",
       " 'Richard',\n",
       " 'Richardson',\n",
       " 'Richardsons',\n",
       " 'Robert',\n",
       " 'Rose',\n",
       " 'S',\n",
       " 'SHALL',\n",
       " 'SHE',\n",
       " 'SHOULD',\n",
       " 'SIR',\n",
       " 'SOMETIMES',\n",
       " 'STILL',\n",
       " 'Sackville',\n",
       " 'Sally',\n",
       " 'Sandersons',\n",
       " 'Saturday',\n",
       " 'Scarcely',\n",
       " 'Scotland',\n",
       " 'Scott',\n",
       " 'Secrecy',\n",
       " 'Selfish',\n",
       " 'Sense',\n",
       " 'Sensibility',\n",
       " 'September',\n",
       " 'Seven',\n",
       " 'Shakespeare',\n",
       " 'Shall',\n",
       " 'Sharpe',\n",
       " 'She',\n",
       " 'Short',\n",
       " 'Should',\n",
       " 'Shyness',\n",
       " 'Simpson',\n",
       " 'Since',\n",
       " 'Sincerely',\n",
       " 'Sir',\n",
       " 'Sit',\n",
       " 'Smith',\n",
       " 'So',\n",
       " 'Some',\n",
       " 'Somehow',\n",
       " 'Somerset',\n",
       " 'Somersetshire',\n",
       " 'Something',\n",
       " 'Sometimes',\n",
       " 'Soon',\n",
       " 'Sophia',\n",
       " 'Sparks',\n",
       " 'Square',\n",
       " 'St',\n",
       " 'Stanhill',\n",
       " 'Steele',\n",
       " 'Steeles',\n",
       " 'Still',\n",
       " 'Strange',\n",
       " 'Street',\n",
       " 'Streets',\n",
       " 'Such',\n",
       " 'Sunday',\n",
       " 'Supported',\n",
       " 'Supposing',\n",
       " 'Sure',\n",
       " 'Surely',\n",
       " 'Surprised',\n",
       " 'Sussex',\n",
       " 'THAT',\n",
       " 'THE',\n",
       " 'THEIR',\n",
       " 'THEM',\n",
       " 'THEN',\n",
       " 'THERE',\n",
       " 'THESE',\n",
       " 'THEY',\n",
       " 'THIS',\n",
       " 'THREE',\n",
       " 'TIME',\n",
       " 'TOLD',\n",
       " 'TRIED',\n",
       " 'TWICE',\n",
       " 'TWO',\n",
       " 'Take',\n",
       " 'Taylor',\n",
       " 'Tell',\n",
       " 'Temple',\n",
       " 'Thank',\n",
       " 'That',\n",
       " 'The',\n",
       " 'Their',\n",
       " 'Then',\n",
       " 'There',\n",
       " 'These',\n",
       " 'They',\n",
       " 'Think',\n",
       " 'This',\n",
       " 'Thomas',\n",
       " 'Thomson',\n",
       " 'Those',\n",
       " 'Though',\n",
       " 'Three',\n",
       " 'Thunderbolts',\n",
       " 'Thursday',\n",
       " 'Thus',\n",
       " 'Till',\n",
       " 'Time',\n",
       " 'Tis',\n",
       " 'To',\n",
       " 'Towards',\n",
       " 'Truth',\n",
       " 'Tuesday',\n",
       " 'Twice',\n",
       " 'Twill',\n",
       " 'Two',\n",
       " 'US',\n",
       " 'Unaccountable',\n",
       " 'Undoubtedly',\n",
       " 'Ungracious',\n",
       " 'Upon',\n",
       " 'Use',\n",
       " 'VERY',\n",
       " 'Valley',\n",
       " 'Vanity',\n",
       " 'Very',\n",
       " 'Volume',\n",
       " 'W',\n",
       " 'WAS',\n",
       " 'WE',\n",
       " 'WERE',\n",
       " 'WHAT',\n",
       " 'WHERE',\n",
       " 'WILL',\n",
       " 'WILLOUGHBY',\n",
       " 'WITHOUT',\n",
       " 'WORD',\n",
       " 'WOULD',\n",
       " 'Wait',\n",
       " 'Walker',\n",
       " 'Want',\n",
       " 'Was',\n",
       " 'Watched',\n",
       " 'We',\n",
       " 'Wednesday',\n",
       " 'Well',\n",
       " 'Were',\n",
       " 'Westminster',\n",
       " 'Westons',\n",
       " 'Weymouth',\n",
       " 'What',\n",
       " 'Whatever',\n",
       " 'When',\n",
       " 'Whenever',\n",
       " 'Where',\n",
       " 'Whereas',\n",
       " 'Wherever',\n",
       " 'Whether',\n",
       " 'Which',\n",
       " 'While',\n",
       " 'Whitakers',\n",
       " 'Whitwell',\n",
       " 'Who',\n",
       " 'Whoever',\n",
       " 'Whom',\n",
       " 'Why',\n",
       " 'Will',\n",
       " 'William',\n",
       " 'Williams',\n",
       " 'Willing',\n",
       " 'Willoughby',\n",
       " 'Willoughbys',\n",
       " 'With',\n",
       " 'Within',\n",
       " 'Without',\n",
       " 'Would',\n",
       " 'Writing',\n",
       " 'YOU',\n",
       " 'YOUR',\n",
       " 'Yes',\n",
       " 'Yet',\n",
       " 'You',\n",
       " 'Your',\n",
       " '[',\n",
       " ']',\n",
       " 'a',\n",
       " 'abandoned',\n",
       " 'abatement',\n",
       " 'abhor',\n",
       " 'abhorred',\n",
       " 'abhorrence',\n",
       " 'abilities',\n",
       " 'ability',\n",
       " 'able',\n",
       " 'ablest',\n",
       " 'abode',\n",
       " 'abominably',\n",
       " 'abounded',\n",
       " 'about',\n",
       " 'above',\n",
       " 'abridge',\n",
       " 'abridgement',\n",
       " 'abroad',\n",
       " 'abruptly',\n",
       " 'abruptness',\n",
       " 'absence',\n",
       " 'absent',\n",
       " 'absolute',\n",
       " 'absolutely',\n",
       " 'abstracted',\n",
       " 'abstraction',\n",
       " 'abstruse',\n",
       " 'absurd',\n",
       " 'absurdity',\n",
       " 'abundance',\n",
       " 'abundantly',\n",
       " 'abuse',\n",
       " 'abused',\n",
       " 'abuses',\n",
       " 'acacia',\n",
       " 'accelerate',\n",
       " 'accent',\n",
       " 'accents',\n",
       " 'accept',\n",
       " 'acceptable',\n",
       " 'acceptably',\n",
       " 'acceptance',\n",
       " 'accepted',\n",
       " 'accepting',\n",
       " 'accident',\n",
       " 'accidental',\n",
       " 'accidentally',\n",
       " 'accidently',\n",
       " 'accommodate',\n",
       " 'accommodating',\n",
       " 'accommodation',\n",
       " 'accommodations',\n",
       " 'accompanied',\n",
       " 'accompany',\n",
       " 'accomplished',\n",
       " 'accomplishment',\n",
       " 'accordant',\n",
       " 'according',\n",
       " 'accordingly',\n",
       " 'accosted',\n",
       " 'account',\n",
       " 'accounted',\n",
       " 'accounts',\n",
       " 'accrue',\n",
       " 'accurately',\n",
       " 'accusation',\n",
       " 'accuse',\n",
       " 'accustom',\n",
       " 'accustomary',\n",
       " 'aches',\n",
       " 'aching',\n",
       " 'acknowledge',\n",
       " 'acknowledged',\n",
       " 'acknowledging',\n",
       " 'acknowledgment',\n",
       " 'acknowledgments',\n",
       " 'acquaintance',\n",
       " 'acquaintances',\n",
       " 'acquainted',\n",
       " 'acquiesced',\n",
       " 'acquiescence',\n",
       " 'acquired',\n",
       " 'acquisition',\n",
       " 'acquit',\n",
       " 'acquitted',\n",
       " 'acquitting',\n",
       " 'across',\n",
       " 'act',\n",
       " 'acted',\n",
       " 'acting',\n",
       " 'action',\n",
       " 'actions',\n",
       " 'active',\n",
       " 'acts',\n",
       " 'actual',\n",
       " 'actually',\n",
       " 'acute',\n",
       " 'acutely',\n",
       " 'acuteness',\n",
       " 'adapted',\n",
       " 'add',\n",
       " 'added',\n",
       " 'adding',\n",
       " 'addition',\n",
       " 'additional',\n",
       " 'additions',\n",
       " 'address',\n",
       " 'addressed',\n",
       " 'addresses',\n",
       " 'addressing',\n",
       " 'adequate',\n",
       " 'adhering',\n",
       " 'adieu',\n",
       " 'adieus',\n",
       " 'adjoining',\n",
       " 'adjusting',\n",
       " 'administer',\n",
       " 'administering',\n",
       " 'admirable',\n",
       " 'admiration',\n",
       " 'admire',\n",
       " 'admired',\n",
       " 'admirers',\n",
       " 'admires',\n",
       " 'admiring',\n",
       " 'admission',\n",
       " 'admit',\n",
       " 'admittance',\n",
       " 'admitted',\n",
       " 'admitting',\n",
       " 'adopt',\n",
       " 'adopted',\n",
       " 'adorned',\n",
       " 'advance',\n",
       " 'advanced',\n",
       " 'advancement',\n",
       " 'advances',\n",
       " 'advancing',\n",
       " 'advantage',\n",
       " 'advantageous',\n",
       " 'advantages',\n",
       " 'advice',\n",
       " 'advisable',\n",
       " 'advise',\n",
       " 'advised',\n",
       " 'affability',\n",
       " 'affable',\n",
       " 'affair',\n",
       " 'affairs',\n",
       " 'affect',\n",
       " 'affectation',\n",
       " 'affected',\n",
       " 'affectedly',\n",
       " 'affecting',\n",
       " 'affection',\n",
       " 'affectionate',\n",
       " 'affectionately',\n",
       " 'affections',\n",
       " 'affects',\n",
       " 'affirmative',\n",
       " 'affixed',\n",
       " 'afflict',\n",
       " 'afflicted',\n",
       " 'afflicting',\n",
       " 'affliction',\n",
       " 'afflictions',\n",
       " 'affluence',\n",
       " 'afford',\n",
       " 'afforded',\n",
       " 'affording',\n",
       " 'affront',\n",
       " 'affronting',\n",
       " 'afraid',\n",
       " 'after',\n",
       " 'afternoon',\n",
       " 'afterward',\n",
       " 'afterwards',\n",
       " 'again',\n",
       " 'against',\n",
       " 'age',\n",
       " 'ages',\n",
       " 'aggrandizement',\n",
       " 'aggravation',\n",
       " 'agitate',\n",
       " 'agitated',\n",
       " 'agitation',\n",
       " 'ago',\n",
       " 'agonies',\n",
       " 'agony',\n",
       " 'agree',\n",
       " 'agreeable',\n",
       " 'agreed',\n",
       " 'agreeing',\n",
       " 'agreement',\n",
       " 'aid',\n",
       " 'ailment',\n",
       " 'ailments',\n",
       " 'aim',\n",
       " 'aimed',\n",
       " 'air',\n",
       " 'alacrity',\n",
       " 'alarm',\n",
       " 'alarmed',\n",
       " 'alarming',\n",
       " 'alarms',\n",
       " 'alienated',\n",
       " 'alighted',\n",
       " 'alike',\n",
       " 'alive',\n",
       " 'all',\n",
       " 'alleged',\n",
       " 'alleviation',\n",
       " 'allow',\n",
       " 'allowable',\n",
       " 'allowance',\n",
       " 'allowances',\n",
       " 'allowed',\n",
       " 'allowing',\n",
       " 'alloy',\n",
       " 'alluded',\n",
       " 'allusion',\n",
       " 'almost',\n",
       " 'alone',\n",
       " 'along',\n",
       " 'aloud',\n",
       " 'alphabet',\n",
       " 'already',\n",
       " 'also',\n",
       " 'altar',\n",
       " 'alter',\n",
       " 'alteration',\n",
       " 'alterations',\n",
       " 'altered',\n",
       " 'altering',\n",
       " 'alternately',\n",
       " 'alternative',\n",
       " 'although',\n",
       " 'altogether',\n",
       " 'always',\n",
       " 'am',\n",
       " 'amazement',\n",
       " 'amazing',\n",
       " 'amazingly',\n",
       " 'ambition',\n",
       " 'amended',\n",
       " 'amendment',\n",
       " 'amends',\n",
       " 'amiable',\n",
       " 'amiably',\n",
       " 'amidst',\n",
       " 'amiss',\n",
       " 'among',\n",
       " 'amongst',\n",
       " 'amount',\n",
       " 'amounted',\n",
       " 'ample',\n",
       " ...]"
      ]
     },
     "execution_count": 19,
     "metadata": {},
     "output_type": "execute_result"
    }
   ],
   "source": [
    "sorted(set(text2))"
   ]
  },
  {
   "cell_type": "code",
   "execution_count": 20,
   "id": "c16ebf37",
   "metadata": {},
   "outputs": [
    {
     "data": {
      "text/plain": [
       "20.719449729255086"
      ]
     },
     "execution_count": 20,
     "metadata": {},
     "output_type": "execute_result"
    }
   ],
   "source": [
    "from __future__ import division\n",
    "len(text2) / len(set(text2))"
   ]
  },
  {
   "cell_type": "code",
   "execution_count": 21,
   "id": "b923c0cc",
   "metadata": {},
   "outputs": [
    {
     "data": {
      "text/plain": [
       "6833"
      ]
     },
     "execution_count": 21,
     "metadata": {},
     "output_type": "execute_result"
    }
   ],
   "source": [
    "len(set(text2))"
   ]
  },
  {
   "cell_type": "code",
   "execution_count": 22,
   "id": "fedd677b",
   "metadata": {},
   "outputs": [
    {
     "data": {
      "text/plain": [
       "6"
      ]
     },
     "execution_count": 22,
     "metadata": {},
     "output_type": "execute_result"
    }
   ],
   "source": [
    "text2.count('sir')"
   ]
  },
  {
   "cell_type": "code",
   "execution_count": 23,
   "id": "e38c8ff3",
   "metadata": {},
   "outputs": [
    {
     "data": {
      "text/plain": [
       "0.004238006441769792"
      ]
     },
     "execution_count": 23,
     "metadata": {},
     "output_type": "execute_result"
    }
   ],
   "source": [
    "100 * text2.count('sir') / len(text2)"
   ]
  },
  {
   "cell_type": "code",
   "execution_count": 24,
   "id": "adcd3aed",
   "metadata": {},
   "outputs": [
    {
     "data": {
      "text/plain": [
       "704"
      ]
     },
     "execution_count": 24,
     "metadata": {},
     "output_type": "execute_result"
    }
   ],
   "source": [
    "text5.count('lol')"
   ]
  },
  {
   "cell_type": "code",
   "execution_count": 25,
   "id": "8e20a55e",
   "metadata": {},
   "outputs": [
    {
     "data": {
      "text/plain": [
       "1.5640968673628082"
      ]
     },
     "execution_count": 25,
     "metadata": {},
     "output_type": "execute_result"
    }
   ],
   "source": [
    "100 * text5.count('lol') / len(text5)"
   ]
  },
  {
   "cell_type": "code",
   "execution_count": 26,
   "id": "473190f8",
   "metadata": {},
   "outputs": [],
   "source": [
    "def lexical_diversity(text):\n",
    "    return len(text) / len(set(text))\n",
    "\n",
    "\n",
    "def percentage(count, total):\n",
    "    return 100 * count / total"
   ]
  },
  {
   "cell_type": "code",
   "execution_count": 27,
   "id": "025b2b84",
   "metadata": {},
   "outputs": [
    {
     "data": {
      "text/plain": [
       "1.0"
      ]
     },
     "execution_count": 27,
     "metadata": {},
     "output_type": "execute_result"
    }
   ],
   "source": [
    "sent1 = ['Call', 'me', 'Pablo', '.']\n",
    "lexical_diversity(sent1)"
   ]
  },
  {
   "cell_type": "code",
   "execution_count": 28,
   "id": "320d4d80",
   "metadata": {},
   "outputs": [
    {
     "data": {
      "text/plain": [
       "97640"
      ]
     },
     "execution_count": 28,
     "metadata": {},
     "output_type": "execute_result"
    }
   ],
   "source": [
    "text2.index('sir')"
   ]
  },
  {
   "cell_type": "code",
   "execution_count": 29,
   "id": "72a96da3",
   "metadata": {},
   "outputs": [
    {
     "data": {
      "text/plain": [
       "['sir',\n",
       " ',\"',\n",
       " 'said',\n",
       " 'Mrs',\n",
       " '.',\n",
       " 'Jennings',\n",
       " ',',\n",
       " '\"',\n",
       " 'and',\n",
       " 'how',\n",
       " 'did',\n",
       " 'it',\n",
       " 'end',\n",
       " '?\"',\n",
       " '\"',\n",
       " 'I',\n",
       " 'am',\n",
       " 'sorry',\n",
       " 'to',\n",
       " 'say',\n",
       " ',',\n",
       " 'ma',\n",
       " \"'\",\n",
       " 'am',\n",
       " ',',\n",
       " 'in',\n",
       " 'a',\n",
       " 'most',\n",
       " 'unhappy',\n",
       " 'rupture',\n",
       " ':--',\n",
       " 'Edward',\n",
       " 'is',\n",
       " 'dismissed',\n",
       " 'for',\n",
       " 'ever',\n",
       " 'from',\n",
       " 'his',\n",
       " 'mother',\n",
       " \"'\",\n",
       " 's',\n",
       " 'notice',\n",
       " '.',\n",
       " 'He',\n",
       " 'left',\n",
       " 'her',\n",
       " 'house',\n",
       " 'yesterday',\n",
       " ',',\n",
       " 'but']"
      ]
     },
     "execution_count": 29,
     "metadata": {},
     "output_type": "execute_result"
    }
   ],
   "source": [
    "text2[97640:97690]"
   ]
  },
  {
   "cell_type": "code",
   "execution_count": 30,
   "id": "9659549f",
   "metadata": {},
   "outputs": [
    {
     "data": {
      "text/plain": [
       "['among',\n",
       " 'the',\n",
       " 'merits',\n",
       " 'and',\n",
       " 'the',\n",
       " 'happiness',\n",
       " 'of',\n",
       " 'Elinor',\n",
       " 'and',\n",
       " 'Marianne',\n",
       " ',',\n",
       " 'let',\n",
       " 'it',\n",
       " 'not',\n",
       " 'be',\n",
       " 'ranked',\n",
       " 'as',\n",
       " 'the',\n",
       " 'least',\n",
       " 'considerable',\n",
       " ',',\n",
       " 'that',\n",
       " 'though',\n",
       " 'sisters',\n",
       " ',',\n",
       " 'and',\n",
       " 'living',\n",
       " 'almost',\n",
       " 'within',\n",
       " 'sight',\n",
       " 'of',\n",
       " 'each',\n",
       " 'other',\n",
       " ',',\n",
       " 'they',\n",
       " 'could',\n",
       " 'live',\n",
       " 'without',\n",
       " 'disagreement',\n",
       " 'between',\n",
       " 'themselves',\n",
       " ',',\n",
       " 'or',\n",
       " 'producing',\n",
       " 'coolness',\n",
       " 'between',\n",
       " 'their',\n",
       " 'husbands',\n",
       " '.',\n",
       " 'THE',\n",
       " 'END']"
      ]
     },
     "execution_count": 30,
     "metadata": {},
     "output_type": "execute_result"
    }
   ],
   "source": [
    "text2[141525:]"
   ]
  },
  {
   "cell_type": "markdown",
   "id": "4ed4e06e",
   "metadata": {},
   "source": [
    "### Simple Statistics"
   ]
  },
  {
   "cell_type": "code",
   "execution_count": 31,
   "id": "1bee1865",
   "metadata": {},
   "outputs": [
    {
     "data": {
      "text/plain": [
       "['said', 'than']"
      ]
     },
     "execution_count": 31,
     "metadata": {},
     "output_type": "execute_result"
    }
   ],
   "source": [
    "saying = ['After', 'all', 'is', 'said', 'and', 'done', 'more', 'is', 'said', 'than', 'done']\n",
    "tokens = set(saying)\n",
    "tokens = sorted(tokens)\n",
    "tokens[-2:]"
   ]
  },
  {
   "cell_type": "code",
   "execution_count": 32,
   "id": "335e5211",
   "metadata": {},
   "outputs": [
    {
     "data": {
      "text/plain": [
       "FreqDist({',': 18713, 'the': 13721, '.': 6862, 'of': 6536, 'and': 6024, 'a': 4569, 'to': 4542, ';': 4072, 'in': 3916, 'that': 2982, ...})"
      ]
     },
     "execution_count": 32,
     "metadata": {},
     "output_type": "execute_result"
    }
   ],
   "source": [
    "fdist1 = FreqDist(text1)\n",
    "fdist1"
   ]
  },
  {
   "cell_type": "code",
   "execution_count": 33,
   "id": "6112b15e",
   "metadata": {},
   "outputs": [
    {
     "data": {
      "text/plain": [
       "906"
      ]
     },
     "execution_count": 33,
     "metadata": {},
     "output_type": "execute_result"
    }
   ],
   "source": [
    "vocabulary1 = fdist1.keys()\n",
    "fdist1['whale']"
   ]
  },
  {
   "cell_type": "code",
   "execution_count": 34,
   "id": "4bcf86e4",
   "metadata": {},
   "outputs": [
    {
     "data": {
      "text/plain": [
       "906"
      ]
     },
     "execution_count": 34,
     "metadata": {},
     "output_type": "execute_result"
    }
   ],
   "source": [
    "text1.count('whale')"
   ]
  },
  {
   "cell_type": "code",
   "execution_count": 35,
   "id": "0993a716",
   "metadata": {},
   "outputs": [
    {
     "data": {
      "image/png": "[encoded data removed]",
      "text/plain": [
       "<Figure size 432x288 with 1 Axes>"
      ]
     },
     "metadata": {
      "needs_background": "light"
     },
     "output_type": "display_data"
    },
    {
     "data": {
      "text/plain": [
       "<AxesSubplot:xlabel='Samples', ylabel='Cumulative Counts'>"
      ]
     },
     "execution_count": 35,
     "metadata": {},
     "output_type": "execute_result"
    }
   ],
   "source": [
    "fdist1.plot(50, cumulative = True)"
   ]
  },
  {
   "cell_type": "code",
   "execution_count": 36,
   "id": "ecd22bfa",
   "metadata": {},
   "outputs": [
    {
     "data": {
      "text/plain": [
       "['preternaturalness',\n",
       " 'characteristically',\n",
       " 'physiognomically',\n",
       " 'cannibalistically',\n",
       " 'indispensableness',\n",
       " 'subterraneousness',\n",
       " 'uncompromisedness',\n",
       " 'circumnavigating',\n",
       " 'Physiognomically',\n",
       " 'hermaphroditical',\n",
       " 'superstitiousness',\n",
       " 'uncomfortableness',\n",
       " 'CIRCUMNAVIGATION',\n",
       " 'supernaturalness',\n",
       " 'apprehensiveness',\n",
       " 'uninterpenetratingly',\n",
       " 'indiscriminately',\n",
       " 'comprehensiveness',\n",
       " 'circumnavigations',\n",
       " 'irresistibleness',\n",
       " 'circumnavigation',\n",
       " 'undiscriminating',\n",
       " 'simultaneousness',\n",
       " 'responsibilities']"
      ]
     },
     "execution_count": 36,
     "metadata": {},
     "output_type": "execute_result"
    }
   ],
   "source": [
    "V = set(text1)\n",
    "long_words=[w for w in V if len(w) > 15]\n",
    "long_words"
   ]
  },
  {
   "cell_type": "code",
   "execution_count": 37,
   "id": "40999e40",
   "metadata": {},
   "outputs": [
    {
     "data": {
      "text/plain": [
       "['#14-19teens',\n",
       " '#talkcity_adults',\n",
       " '((((((((((',\n",
       " '........',\n",
       " 'Question',\n",
       " 'actually',\n",
       " 'anything',\n",
       " 'computer',\n",
       " 'cute.-ass',\n",
       " 'everyone',\n",
       " 'football',\n",
       " 'innocent',\n",
       " 'listening',\n",
       " 'remember',\n",
       " 'seriously',\n",
       " 'something',\n",
       " 'together',\n",
       " 'tomorrow',\n",
       " 'watching']"
      ]
     },
     "execution_count": 37,
     "metadata": {},
     "output_type": "execute_result"
    }
   ],
   "source": [
    "fdist5 = FreqDist(text5)\n",
    "long_words5 = [w for w in set(text5) if len(w) > 7 and fdist5[w] > 7]\n",
    "sorted(long_words5)"
   ]
  },
  {
   "cell_type": "code",
   "execution_count": 38,
   "id": "a4adf1ba",
   "metadata": {},
   "outputs": [],
   "source": [
    "a = bigrams(['hola', 'Pablo', 'Bea'])"
   ]
  },
  {
   "cell_type": "code",
   "execution_count": 39,
   "id": "81ebd122",
   "metadata": {},
   "outputs": [
    {
     "name": "stdout",
     "output_type": "stream",
     "text": [
      "Sperm Whale; Moby Dick; White Whale; old man; Captain Ahab; sperm\n",
      "whale; Right Whale; Captain Peleg; New Bedford; Cape Horn; cried Ahab;\n",
      "years ago; lower jaw; never mind; Father Mapple; cried Stubb; chief\n",
      "mate; white whale; ivory leg; one hand\n"
     ]
    }
   ],
   "source": [
    "text1.collocations()\n"
   ]
  },
  {
   "cell_type": "code",
   "execution_count": 40,
   "id": "0644d94c",
   "metadata": {},
   "outputs": [
    {
     "name": "stdout",
     "output_type": "stream",
     "text": [
      "showing info https://raw.githubusercontent.com/nltk/nltk_data/gh-pages/index.xml\n"
     ]
    },
    {
     "data": {
      "text/plain": [
       "True"
      ]
     },
     "execution_count": 40,
     "metadata": {},
     "output_type": "execute_result"
    }
   ],
   "source": [
    "nltk.download()"
   ]
  },
  {
   "cell_type": "code",
   "execution_count": 41,
   "id": "1140d5e7",
   "metadata": {},
   "outputs": [],
   "source": [
    "from nltk.book import *"
   ]
  }
 ],
 "metadata": {
  "kernelspec": {
   "display_name": "Python 3 (ipykernel)",
   "language": "python",
   "name": "python3"
  },
  "language_info": {
   "codemirror_mode": {
    "name": "ipython",
    "version": 3
   },
   "file_extension": ".py",
   "mimetype": "text/x-python",
   "name": "python",
   "nbconvert_exporter": "python",
   "pygments_lexer": "ipython3",
   "version": "3.9.12"
  }
 },
 "nbformat": 4,
 "nbformat_minor": 5
}
