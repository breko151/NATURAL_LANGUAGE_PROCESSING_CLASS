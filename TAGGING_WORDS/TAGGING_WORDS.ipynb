{
 "cells": [
  {
   "cell_type": "markdown",
   "id": "2ccb1a23",
   "metadata": {},
   "source": [
    "# TAGGING WORDS\n",
    "**Suárez Pérez Juan Pablo**"
   ]
  },
  {
   "cell_type": "code",
   "execution_count": 10,
   "id": "72966ba2",
   "metadata": {},
   "outputs": [],
   "source": [
    "import nltk"
   ]
  },
  {
   "cell_type": "code",
   "execution_count": 11,
   "id": "42bba67d",
   "metadata": {},
   "outputs": [],
   "source": [
    "from nltk.corpus import cess_cat as esp\n",
    "#cess_esp"
   ]
  },
  {
   "cell_type": "code",
   "execution_count": 12,
   "id": "5fc684a6",
   "metadata": {},
   "outputs": [
    {
     "data": {
      "text/plain": [
       "[('El', 'da0ms0'), ('Tribunal_Suprem', 'np0000o'), ...]"
      ]
     },
     "execution_count": 12,
     "metadata": {},
     "output_type": "execute_result"
    }
   ],
   "source": [
    "esp.tagged_words()"
   ]
  },
  {
   "cell_type": "code",
   "execution_count": 13,
   "id": "845954f8",
   "metadata": {},
   "outputs": [],
   "source": [
    "esp_tagged_sents = esp.tagged_sents()"
   ]
  },
  {
   "cell_type": "code",
   "execution_count": 14,
   "id": "7b5bfb2a",
   "metadata": {},
   "outputs": [],
   "source": [
    "unigram_tagger = nltk.UnigramTagger(esp_tagged_sents)"
   ]
  },
  {
   "cell_type": "code",
   "execution_count": 15,
   "id": "42c39cf9",
   "metadata": {},
   "outputs": [],
   "source": [
    "esp_sents = esp.sents()"
   ]
  },
  {
   "cell_type": "code",
   "execution_count": 16,
   "id": "8055eb32",
   "metadata": {},
   "outputs": [
    {
     "data": {
      "text/plain": [
       "['Una',\n",
       " 'setantena',\n",
       " 'de',\n",
       " 'treballadors',\n",
       " 'de',\n",
       " 'Fomento_de_Construcciones_y_Contratas',\n",
       " 'a',\n",
       " 'Manresa',\n",
       " ',',\n",
       " 'gairebé',\n",
       " 'la',\n",
       " 'totalitat',\n",
       " 'de',\n",
       " 'la',\n",
       " 'plantilla',\n",
       " ',',\n",
       " \"s'\",\n",
       " 'han',\n",
       " 'manifestat',\n",
       " 'aquest',\n",
       " 'migdia',\n",
       " 'pels',\n",
       " 'carrers',\n",
       " 'de',\n",
       " 'la',\n",
       " 'ciutat',\n",
       " '.']"
      ]
     },
     "execution_count": 16,
     "metadata": {},
     "output_type": "execute_result"
    }
   ],
   "source": [
    "esp_sents[7]"
   ]
  },
  {
   "cell_type": "code",
   "execution_count": 8,
   "id": "f8889471",
   "metadata": {},
   "outputs": [
    {
     "data": {
      "text/plain": [
       "[['El', 'Tribunal_Suprem', '-Fpa-', 'TS', '-Fpt-', 'ha', 'confirmat', 'la', 'condemna', 'a', 'quatre', 'anys', \"d'\", 'inhabilitació', 'especial', 'i', 'una', 'multa', 'de', '3,6', 'milions', 'de', 'pessetes', 'per', 'a', 'quatre', 'veterinaris', 'gironins', ',', 'per', 'haver', '-se', 'beneficiat', 'dels', 'càrrecs', 'públics', 'que', '*0*', 'desenvolupaven', 'i', 'la_seva', 'relació', 'amb', 'les', 'empreses', 'càrniques', 'de', 'la', 'zona', 'en', 'oferir', '-los', 'serveis', 'particulars', '.'], ['La', 'sentència', ',', 'a', 'la', 'qual', 'ha', 'tingut', 'accés', 'Intra-ACN', ',', 'desestima', 'els', 'recursos', 'interposats', 'pels', 'processats', ',', 'Albert_Bramón', ',', 'president', 'del', 'Col·legi_de_Veterinaris_de_Girona', 'en', 'el', 'moment', 'dels', 'fets', ',', 'i', 'Josefina_J.', ',', 'Pere_C.', 'i', 'Mateu_B.', ',', 'que', 'actuaven', 'com_a', 'inspectors', 'veterinaris', 'de', 'la', 'Generalitat', ',', 'i', 'que', 'van', 'ser', 'condemnats', 'per', \"l'\", 'Audiència_de_Girona', 'per', 'un', 'delicte', 'de', 'negociacions', 'prohibides', 'a', 'funcionaris', '.'], ...]"
      ]
     },
     "execution_count": 8,
     "metadata": {},
     "output_type": "execute_result"
    }
   ],
   "source": [
    "esp_sents"
   ]
  }
 ],
 "metadata": {
  "kernelspec": {
   "display_name": "Python 3 (ipykernel)",
   "language": "python",
   "name": "python3"
  },
  "language_info": {
   "codemirror_mode": {
    "name": "ipython",
    "version": 3
   },
   "file_extension": ".py",
   "mimetype": "text/x-python",
   "name": "python",
   "nbconvert_exporter": "python",
   "pygments_lexer": "ipython3",
   "version": "3.9.12"
  }
 },
 "nbformat": 4,
 "nbformat_minor": 5
}
