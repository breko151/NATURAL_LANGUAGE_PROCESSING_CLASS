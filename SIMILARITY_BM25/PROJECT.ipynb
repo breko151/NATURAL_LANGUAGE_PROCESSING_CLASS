{
 "cells": [
  {
   "cell_type": "markdown",
   "id": "f614f04d",
   "metadata": {},
   "source": [
    "# Similarity by BM25\n",
    "**Suárez Pérez Juan Pablo**"
   ]
  },
  {
   "cell_type": "markdown",
   "id": "8f3ae1e1",
   "metadata": {},
   "source": [
    "## Text Processing "
   ]
  },
  {
   "cell_type": "code",
   "execution_count": 1,
   "id": "aaeb7df6",
   "metadata": {},
   "outputs": [],
   "source": [
    "# Import the libraries needed\n",
    "from nlp_functions import text_processing as tp\n",
    "from nlp_functions import word_association as wa"
   ]
  },
  {
   "cell_type": "code",
   "execution_count": 2,
   "id": "76c92ded",
   "metadata": {},
   "outputs": [],
   "source": [
    "# Clean the corpus\n",
    "tp.clean_corpus('./../EXCELSIOR_100_files/', './new_corpus/')"
   ]
  },
  {
   "cell_type": "code",
   "execution_count": 3,
   "id": "b3aaafc3",
   "metadata": {},
   "outputs": [],
   "source": [
    "# Get clean corpus\n",
    "    # Delete HTML Tags.\n",
    "    # Lower words.\n",
    "text = tp.get_clean_text('./new_corpus/clean_e960401_mod_corpus.txt')"
   ]
  },
  {
   "cell_type": "code",
   "execution_count": 4,
   "id": "3a4bff3d",
   "metadata": {},
   "outputs": [],
   "source": [
    "# Sentences segmentation\n",
    "# Split Sentences\n",
    "# Delete Special Caracters\n",
    "sents = tp.sentence_tokenize(text)"
   ]
  },
  {
   "cell_type": "code",
   "execution_count": 5,
   "id": "b7d36bb9",
   "metadata": {},
   "outputs": [],
   "source": [
    "# Delete Stop Words\n",
    "clean_sents = tp.delete_stop_words_sents(sents, './nlp_functions/stopwords_and_lemmas/stopwords_es.txt')"
   ]
  },
  {
   "cell_type": "code",
   "execution_count": 6,
   "id": "f95889b8",
   "metadata": {},
   "outputs": [],
   "source": [
    "# Lemmatize\n",
    "lemmatize_sents = tp.lemmatize_sents(clean_sents, './nlp_functions/stopwords_and_lemmas/generate.txt')"
   ]
  },
  {
   "cell_type": "code",
   "execution_count": 7,
   "id": "385506a3",
   "metadata": {},
   "outputs": [
    {
     "name": "stdout",
     "output_type": "stream",
     "text": [
      "Vocabulary size: 5471\n"
     ]
    }
   ],
   "source": [
    "# Get Vocabulary\n",
    "vocabulary = tp.get_vocabulary_by_sents(lemmatize_sents)"
   ]
  },
  {
   "cell_type": "markdown",
   "id": "dc935589",
   "metadata": {},
   "source": [
    "## Numeric Representation "
   ]
  },
  {
   "cell_type": "code",
   "execution_count": 8,
   "id": "ba1ff882",
   "metadata": {},
   "outputs": [],
   "source": [
    "contexts = wa.get_contexts_sents(vocabulary, lemmatize_sents)"
   ]
  },
  {
   "cell_type": "code",
   "execution_count": 9,
   "id": "08b8335e",
   "metadata": {},
   "outputs": [],
   "source": [
    "bm25_vectors = wa.get_vectors(vocabulary, contexts)"
   ]
  },
  {
   "cell_type": "code",
   "execution_count": 10,
   "id": "4ff45f55",
   "metadata": {},
   "outputs": [],
   "source": [
    "idf = wa.get_idf(bm25_vectors)"
   ]
  },
  {
   "cell_type": "code",
   "execution_count": 11,
   "id": "dbc44de0",
   "metadata": {},
   "outputs": [
    {
     "name": "stdout",
     "output_type": "stream",
     "text": [
      "Se completo empresa oraciones\n"
     ]
    }
   ],
   "source": [
    "word = 'empresa'\n",
    "try:\n",
    "    wa.similar_words(word, bm25_vectors, idf, \n",
    "                    dot_product = True, cosine = True)\n",
    "    print('Se completo', word, 'oraciones')\n",
    "except Exception as e:\n",
    "    print('Ocurrió el siguiente error:', e, 'en la palabra', word)"
   ]
  }
 ],
 "metadata": {
  "kernelspec": {
   "display_name": "Python 3.9.12 ('base')",
   "language": "python",
   "name": "python3"
  },
  "language_info": {
   "codemirror_mode": {
    "name": "ipython",
    "version": 3
   },
   "file_extension": ".py",
   "mimetype": "text/x-python",
   "name": "python",
   "nbconvert_exporter": "python",
   "pygments_lexer": "ipython3",
   "version": "3.9.12"
  },
  "vscode": {
   "interpreter": {
    "hash": "cd1fd7730a3ff7811bc6623d31c907c7b97c986d3e82d3b9938e7dcbaa66e63f"
   }
  }
 },
 "nbformat": 4,
 "nbformat_minor": 5
}
