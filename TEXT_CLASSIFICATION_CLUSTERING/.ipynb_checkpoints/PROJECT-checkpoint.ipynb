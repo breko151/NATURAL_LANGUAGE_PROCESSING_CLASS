{
 "cells": [
  {
   "cell_type": "markdown",
   "id": "cb41ba0c",
   "metadata": {},
   "source": [
    "# Text Classification\n",
    "**Suárez Pérez Juan Pablo**"
   ]
  },
  {
   "cell_type": "code",
   "execution_count": 1,
   "id": "24666e82",
   "metadata": {},
   "outputs": [],
   "source": [
    "import numpy as np\n",
    "import random\n",
    "import re\n",
    "import nltk\n",
    "from tabulate import tabulate\n",
    "from bs4 import BeautifulSoup as bs\n",
    "from sklearn.feature_extraction.text import CountVectorizer\n",
    "from sklearn.feature_extraction.text import TfidfTransformer\n",
    "from sklearn.model_selection import train_test_split\n",
    "from sklearn.linear_model import LogisticRegression\n",
    "from sklearn.naive_bayes import MultinomialNB\n",
    "from sklearn.cluster import KMeans\n",
    "from sklearn import metrics"
   ]
  },
  {
   "cell_type": "code",
   "execution_count": 2,
   "id": "0b83cbec",
   "metadata": {},
   "outputs": [],
   "source": [
    "def extract_lines(corpus):\n",
    "    X = list()\n",
    "    y = list()\n",
    "    for i in range(2, 4381):\n",
    "        try:\n",
    "            fname = corpus + str(i) + '.xml'\n",
    "            with open(fname, 'r', encoding = 'latin-1') as rfile:\n",
    "                content = rfile.readlines()\n",
    "                content = \"\".join(content)\n",
    "                bs_content = bs(content, \"lxml\")\n",
    "                review = bs_content.find(\"review\")\n",
    "                rank = review.get(\"rank\")\n",
    "                y.append(int(rank))\n",
    "            \n",
    "            fname = corpus + str(i) + '.review.pos'\n",
    "            with open(fname, 'r', encoding = 'latin-1') as rfile:\n",
    "                content = rfile.readlines()\n",
    "                review_pos_aux = list()\n",
    "                              \n",
    "                for line in content:\n",
    "                    if line != '\\n':\n",
    "                        line_ls = line.split()\n",
    "                        review_pos_aux.append(line_ls[1])\n",
    "                X.append(' '.join(review_pos_aux))\n",
    "            \n",
    "        except IOError:\n",
    "            #print(\"Could not read file:\", fname)\n",
    "            pass\n",
    "    \n",
    "    return X, y"
   ]
  },
  {
   "cell_type": "code",
   "execution_count": 3,
   "id": "53114008",
   "metadata": {},
   "outputs": [],
   "source": [
    "def tokenize_lines_by_words(lines):\n",
    "    new_lines = list()\n",
    "    for line in lines:\n",
    "        new_line = line.lower()\n",
    "        new_lines.append(nltk.word_tokenize(new_line))\n",
    "    \n",
    "    return new_lines"
   ]
  },
  {
   "cell_type": "code",
   "execution_count": 4,
   "id": "92127c2b",
   "metadata": {},
   "outputs": [],
   "source": [
    "def clean_alphabetic_text_lines(lines):\n",
    "    new_lines = list()\n",
    "    for line in lines:\n",
    "        new_line = list()\n",
    "        for word in line:\n",
    "            token = list()\n",
    "            for c in word:\n",
    "                #[a-záéíóúñü+$]\n",
    "                if re.match(r'^[a-záéíóúñü+$]', c):\n",
    "                    token.append(c)\n",
    "            token = ''.join(token)\n",
    "            if token != '':\n",
    "                new_line.append(token)\n",
    "        new_lines.append(new_line)\n",
    "        \n",
    "    return new_lines"
   ]
  },
  {
   "cell_type": "code",
   "execution_count": 5,
   "id": "cca9f9e7",
   "metadata": {},
   "outputs": [],
   "source": [
    "def remove_stop_words(lines):\n",
    "    stopwords = nltk.corpus.stopwords.words('spanish')\n",
    "    clean_lines = list()\n",
    "    for line in lines:\n",
    "        clean_line = list()\n",
    "        for word in line:\n",
    "            if word not in stopwords:\n",
    "                clean_line.append(word)\n",
    "        clean_lines.append(' '.join(clean_line))\n",
    "    \n",
    "    return clean_lines"
   ]
  },
  {
   "cell_type": "code",
   "execution_count": 6,
   "id": "5878c6be",
   "metadata": {},
   "outputs": [],
   "source": [
    "def get_X_y(lines):\n",
    "    X = list()\n",
    "    y = list()\n",
    "    for line in lines:\n",
    "        n = len(line)\n",
    "        tag = line.pop(n - 1)\n",
    "        corpus = line\n",
    "        X.append(corpus)\n",
    "        y.append(tag)\n",
    "    return [X, y]"
   ]
  },
  {
   "cell_type": "code",
   "execution_count": 7,
   "id": "c60c52e2",
   "metadata": {},
   "outputs": [],
   "source": [
    "def transform_tag(y):\n",
    "    new_y = list()\n",
    "    for i in y:\n",
    "        if i == 'spam':\n",
    "            new_i = 1\n",
    "        else:\n",
    "            new_i = 0\n",
    "        new_y.append(new_i)\n",
    "    return np.array(new_y)"
   ]
  },
  {
   "cell_type": "code",
   "execution_count": 8,
   "id": "c896735a",
   "metadata": {},
   "outputs": [],
   "source": [
    "X, y = extract_lines('./../corpusCriticasCine-20221215T005130Z-001/corpusCriticasCine/corpusCriticasCine/')"
   ]
  },
  {
   "cell_type": "code",
   "execution_count": 9,
   "id": "d7a54c8a",
   "metadata": {},
   "outputs": [],
   "source": [
    "tokenized_X = tokenize_lines_by_words(X)"
   ]
  },
  {
   "cell_type": "code",
   "execution_count": 10,
   "id": "c1c1f583",
   "metadata": {},
   "outputs": [],
   "source": [
    "new_X = clean_alphabetic_text_lines(tokenized_X)"
   ]
  },
  {
   "cell_type": "code",
   "execution_count": 11,
   "id": "bf06452c",
   "metadata": {},
   "outputs": [],
   "source": [
    "clean_X = remove_stop_words(new_X)"
   ]
  },
  {
   "cell_type": "code",
   "execution_count": 12,
   "id": "4d2f48a0",
   "metadata": {},
   "outputs": [],
   "source": [
    "data = list(zip(clean_X, y))"
   ]
  },
  {
   "cell_type": "code",
   "execution_count": 13,
   "id": "143f88ab",
   "metadata": {},
   "outputs": [],
   "source": [
    "random.shuffle(data)"
   ]
  },
  {
   "cell_type": "code",
   "execution_count": 14,
   "id": "169e899d",
   "metadata": {},
   "outputs": [],
   "source": [
    "clean_X, y = zip(*data)"
   ]
  },
  {
   "cell_type": "code",
   "execution_count": 15,
   "id": "79d18f9e",
   "metadata": {},
   "outputs": [],
   "source": [
    "count_vect = CountVectorizer()"
   ]
  },
  {
   "cell_type": "code",
   "execution_count": 16,
   "id": "af4c32c9",
   "metadata": {},
   "outputs": [],
   "source": [
    "X_counts = count_vect.fit_transform(np.array(clean_X))"
   ]
  },
  {
   "cell_type": "code",
   "execution_count": 17,
   "id": "ab201e7f",
   "metadata": {},
   "outputs": [],
   "source": [
    "y = np.array(y)"
   ]
  },
  {
   "cell_type": "code",
   "execution_count": 18,
   "id": "4c692297",
   "metadata": {},
   "outputs": [],
   "source": [
    "tfidf_transformer = TfidfTransformer()"
   ]
  },
  {
   "cell_type": "code",
   "execution_count": 19,
   "id": "26ac2fe5",
   "metadata": {},
   "outputs": [],
   "source": [
    "X_tfidf = tfidf_transformer.fit_transform(X_counts)"
   ]
  },
  {
   "cell_type": "code",
   "execution_count": 20,
   "id": "7b44f784",
   "metadata": {},
   "outputs": [],
   "source": [
    "X_train, X_test, y_train, y_test = train_test_split(X_tfidf, y, test_size = 0.2, random_state = 14)"
   ]
  },
  {
   "cell_type": "markdown",
   "id": "e68756b7",
   "metadata": {},
   "source": [
    "# LOGISTIC REGRESSION "
   ]
  },
  {
   "cell_type": "code",
   "execution_count": 21,
   "id": "05918c61",
   "metadata": {},
   "outputs": [],
   "source": [
    "classifier = LogisticRegression()"
   ]
  },
  {
   "cell_type": "code",
   "execution_count": 22,
   "id": "62bddd59",
   "metadata": {},
   "outputs": [
    {
     "data": {
      "text/plain": [
       "LogisticRegression()"
      ]
     },
     "execution_count": 22,
     "metadata": {},
     "output_type": "execute_result"
    }
   ],
   "source": [
    "classifier.fit(X_train, y_train)"
   ]
  },
  {
   "cell_type": "code",
   "execution_count": 23,
   "id": "32840b41",
   "metadata": {},
   "outputs": [],
   "source": [
    "y_pred = classifier.predict(X_test)"
   ]
  },
  {
   "cell_type": "code",
   "execution_count": 24,
   "id": "2bfc34c1",
   "metadata": {},
   "outputs": [
    {
     "data": {
      "text/plain": [
       "0.4329896907216495"
      ]
     },
     "execution_count": 24,
     "metadata": {},
     "output_type": "execute_result"
    }
   ],
   "source": [
    "classifier.score(X_test, y_test)"
   ]
  },
  {
   "cell_type": "code",
   "execution_count": 25,
   "id": "3a75bd3b",
   "metadata": {},
   "outputs": [
    {
     "name": "stdout",
     "output_type": "stream",
     "text": [
      "[[  3  41  17   0   0]\n",
      " [  0  72  98   4   0]\n",
      " [  0  35 200  23   0]\n",
      " [  0  12 114  53   5]\n",
      " [  0   3  51  37   8]]\n"
     ]
    }
   ],
   "source": [
    "print(metrics.confusion_matrix(y_test, y_pred))"
   ]
  },
  {
   "cell_type": "code",
   "execution_count": 26,
   "id": "e7a8275a",
   "metadata": {},
   "outputs": [
    {
     "name": "stdout",
     "output_type": "stream",
     "text": [
      "              precision    recall  f1-score   support\n",
      "\n",
      "           1       1.00      0.05      0.09        61\n",
      "           2       0.44      0.41      0.43       174\n",
      "           3       0.42      0.78      0.54       258\n",
      "           4       0.45      0.29      0.35       184\n",
      "           5       0.62      0.08      0.14        99\n",
      "\n",
      "    accuracy                           0.43       776\n",
      "   macro avg       0.59      0.32      0.31       776\n",
      "weighted avg       0.50      0.43      0.39       776\n",
      "\n"
     ]
    }
   ],
   "source": [
    "print(metrics.classification_report(y_test, y_pred))"
   ]
  },
  {
   "cell_type": "markdown",
   "id": "3e6bc0f2",
   "metadata": {},
   "source": [
    "# MULTINOMIAL NB"
   ]
  },
  {
   "cell_type": "code",
   "execution_count": 27,
   "id": "458eb0b1",
   "metadata": {},
   "outputs": [],
   "source": [
    "classifier = MultinomialNB()"
   ]
  },
  {
   "cell_type": "code",
   "execution_count": 28,
   "id": "e64d44ea",
   "metadata": {},
   "outputs": [
    {
     "data": {
      "text/plain": [
       "MultinomialNB()"
      ]
     },
     "execution_count": 28,
     "metadata": {},
     "output_type": "execute_result"
    }
   ],
   "source": [
    "classifier.fit(X_train, y_train)"
   ]
  },
  {
   "cell_type": "code",
   "execution_count": 29,
   "id": "2a7a7a82",
   "metadata": {},
   "outputs": [],
   "source": [
    "y_pred = classifier.predict(X_test)"
   ]
  },
  {
   "cell_type": "code",
   "execution_count": 30,
   "id": "7f614b8e",
   "metadata": {},
   "outputs": [
    {
     "data": {
      "text/plain": [
       "0.3324742268041237"
      ]
     },
     "execution_count": 30,
     "metadata": {},
     "output_type": "execute_result"
    }
   ],
   "source": [
    "classifier.score(X_test, y_test)"
   ]
  },
  {
   "cell_type": "code",
   "execution_count": 31,
   "id": "de20235b",
   "metadata": {},
   "outputs": [
    {
     "name": "stdout",
     "output_type": "stream",
     "text": [
      "[[  0   0  61   0   0]\n",
      " [  0   0 174   0   0]\n",
      " [  0   0 258   0   0]\n",
      " [  0   0 184   0   0]\n",
      " [  0   0  99   0   0]]\n"
     ]
    }
   ],
   "source": [
    "print(metrics.confusion_matrix(y_test, y_pred))"
   ]
  },
  {
   "cell_type": "code",
   "execution_count": 32,
   "id": "71aac39d",
   "metadata": {},
   "outputs": [
    {
     "name": "stdout",
     "output_type": "stream",
     "text": [
      "              precision    recall  f1-score   support\n",
      "\n",
      "           1       0.00      0.00      0.00        61\n",
      "           2       0.00      0.00      0.00       174\n",
      "           3       0.33      1.00      0.50       258\n",
      "           4       0.00      0.00      0.00       184\n",
      "           5       0.00      0.00      0.00        99\n",
      "\n",
      "    accuracy                           0.33       776\n",
      "   macro avg       0.07      0.20      0.10       776\n",
      "weighted avg       0.11      0.33      0.17       776\n",
      "\n"
     ]
    },
    {
     "name": "stderr",
     "output_type": "stream",
     "text": [
      "C:\\Users\\USUARIO DELL\\anaconda3\\lib\\site-packages\\sklearn\\metrics\\_classification.py:1318: UndefinedMetricWarning: Precision and F-score are ill-defined and being set to 0.0 in labels with no predicted samples. Use `zero_division` parameter to control this behavior.\n",
      "  _warn_prf(average, modifier, msg_start, len(result))\n",
      "C:\\Users\\USUARIO DELL\\anaconda3\\lib\\site-packages\\sklearn\\metrics\\_classification.py:1318: UndefinedMetricWarning: Precision and F-score are ill-defined and being set to 0.0 in labels with no predicted samples. Use `zero_division` parameter to control this behavior.\n",
      "  _warn_prf(average, modifier, msg_start, len(result))\n",
      "C:\\Users\\USUARIO DELL\\anaconda3\\lib\\site-packages\\sklearn\\metrics\\_classification.py:1318: UndefinedMetricWarning: Precision and F-score are ill-defined and being set to 0.0 in labels with no predicted samples. Use `zero_division` parameter to control this behavior.\n",
      "  _warn_prf(average, modifier, msg_start, len(result))\n"
     ]
    }
   ],
   "source": [
    "print(metrics.classification_report(y_test, y_pred))"
   ]
  },
  {
   "cell_type": "markdown",
   "id": "bb81ecc2",
   "metadata": {},
   "source": [
    "# K-MEANS"
   ]
  },
  {
   "cell_type": "code",
   "execution_count": 34,
   "id": "212b5190",
   "metadata": {},
   "outputs": [],
   "source": [
    "classifier = KMeans(n_clusters = 5)"
   ]
  },
  {
   "cell_type": "code",
   "execution_count": 35,
   "id": "2238c503",
   "metadata": {},
   "outputs": [
    {
     "data": {
      "text/plain": [
       "KMeans(n_clusters=5)"
      ]
     },
     "execution_count": 35,
     "metadata": {},
     "output_type": "execute_result"
    }
   ],
   "source": [
    "classifier.fit(X_tfidf)"
   ]
  },
  {
   "cell_type": "code",
   "execution_count": 36,
   "id": "b29e94b1",
   "metadata": {},
   "outputs": [],
   "source": [
    "y_pred = classifier.predict(X_test)"
   ]
  },
  {
   "cell_type": "code",
   "execution_count": 37,
   "id": "74545b30",
   "metadata": {},
   "outputs": [
    {
     "data": {
      "text/plain": [
       "array([2, 1, 1, 1, 1, 0, 4, 1, 1, 1, 4, 0, 0, 4, 4, 0, 0, 0, 0, 4, 2, 4,\n",
       "       1, 1, 0, 0, 0, 0, 1, 0, 1, 0, 1, 1, 4, 2, 0, 3, 4, 0, 0, 1, 1, 0,\n",
       "       4, 1, 3, 1, 0, 4, 1, 0, 0, 0, 0, 0, 2, 1, 1, 1, 0, 1, 4, 2, 0, 1,\n",
       "       0, 0, 0, 4, 4, 0, 1, 2, 4, 4, 0, 3, 1, 1, 3, 4, 1, 4, 0, 1, 3, 3,\n",
       "       0, 4, 1, 4, 1, 1, 0, 1, 0, 2, 1, 1, 1, 1, 0, 1, 0, 4, 4, 2, 4, 1,\n",
       "       0, 0, 1, 0, 1, 0, 4, 1, 0, 3, 0, 0, 0, 1, 0, 4, 0, 2, 4, 0, 0, 1,\n",
       "       1, 0, 0, 4, 0, 0, 3, 1, 3, 0, 0, 4, 0, 4, 0, 4, 4, 0, 2, 1, 4, 1,\n",
       "       1, 1, 0, 4, 0, 0, 1, 4, 1, 0, 1, 0, 0, 4, 0, 2, 3, 1, 0, 1, 0, 1,\n",
       "       4, 4, 1, 0, 1, 0, 0, 4, 0, 3, 0, 1, 0, 0, 0, 4, 1, 2, 1, 0, 3, 4,\n",
       "       1, 1, 0, 0, 0, 4, 1, 3, 0, 1, 2, 2, 1, 1, 1, 0, 1, 0, 0, 0, 3, 4,\n",
       "       0, 1, 0, 1, 2, 1, 3, 0, 3, 1, 2, 4, 0, 0, 4, 1, 2, 4, 0, 0, 0, 4,\n",
       "       0, 1, 0, 1, 0, 4, 1, 4, 0, 1, 3, 0, 3, 0, 3, 0, 1, 0, 4, 1, 4, 0,\n",
       "       0, 1, 1, 4, 3, 0, 1, 4, 1, 1, 1, 4, 1, 0, 4, 0, 0, 0, 2, 3, 4, 1,\n",
       "       0, 1, 1, 0, 0, 3, 1, 1, 4, 0, 0, 1, 1, 0, 1, 0, 0, 1, 3, 0, 1, 1,\n",
       "       3, 0, 4, 0, 0, 0, 3, 2, 0, 4, 0, 4, 4, 1, 0, 4, 1, 1, 4, 1, 0, 1,\n",
       "       2, 2, 0, 0, 2, 0, 4, 1, 1, 4, 4, 0, 0, 4, 0, 0, 1, 0, 0, 4, 0, 1,\n",
       "       0, 0, 1, 1, 0, 2, 4, 0, 0, 0, 0, 0, 0, 0, 0, 1, 1, 0, 1, 2, 0, 2,\n",
       "       4, 0, 0, 0, 3, 0, 3, 0, 3, 0, 1, 0, 0, 0, 1, 3, 4, 0, 1, 1, 1, 0,\n",
       "       3, 0, 0, 4, 4, 1, 0, 4, 0, 0, 0, 1, 1, 0, 4, 4, 0, 0, 0, 2, 0, 0,\n",
       "       4, 0, 1, 2, 2, 4, 0, 4, 3, 0, 0, 0, 3, 1, 4, 1, 0, 3, 0, 0, 0, 1,\n",
       "       0, 0, 0, 1, 3, 0, 0, 1, 4, 0, 0, 1, 0, 4, 1, 1, 1, 1, 1, 0, 0, 1,\n",
       "       1, 0, 1, 1, 2, 2, 0, 1, 4, 0, 0, 1, 1, 0, 1, 0, 0, 0, 1, 4, 1, 4,\n",
       "       1, 0, 0, 4, 1, 4, 1, 0, 4, 4, 4, 0, 0, 0, 0, 1, 1, 1, 0, 1, 0, 1,\n",
       "       1, 2, 4, 0, 0, 1, 1, 1, 0, 0, 0, 1, 1, 0, 0, 0, 1, 4, 1, 0, 4, 1,\n",
       "       4, 1, 4, 4, 1, 0, 0, 0, 1, 1, 4, 0, 1, 3, 0, 1, 4, 1, 0, 0, 0, 0,\n",
       "       0, 0, 1, 1, 1, 1, 4, 1, 1, 0, 0, 1, 2, 4, 0, 2, 4, 4, 0, 2, 0, 0,\n",
       "       0, 1, 1, 0, 1, 0, 1, 0, 0, 4, 1, 0, 1, 0, 3, 0, 1, 4, 0, 4, 0, 0,\n",
       "       0, 0, 0, 0, 1, 1, 0, 0, 0, 0, 0, 1, 0, 1, 4, 0, 0, 0, 1, 1, 1, 0,\n",
       "       0, 0, 0, 1, 3, 0, 1, 0, 1, 4, 0, 1, 1, 0, 1, 1, 4, 0, 2, 4, 1, 0,\n",
       "       0, 0, 4, 1, 0, 1, 1, 0, 1, 4, 1, 0, 4, 0, 4, 4, 4, 1, 1, 0, 1, 1,\n",
       "       0, 0, 1, 4, 1, 0, 3, 0, 0, 4, 4, 0, 0, 0, 0, 4, 0, 1, 4, 0, 1, 1,\n",
       "       0, 1, 0, 0, 1, 1, 0, 0, 4, 4, 3, 0, 3, 4, 0, 0, 3, 0, 0, 1, 2, 0,\n",
       "       1, 0, 1, 4, 0, 0, 0, 4, 1, 1, 1, 1, 4, 1, 0, 0, 1, 1, 1, 4, 0, 1,\n",
       "       0, 1, 0, 4, 0, 4, 1, 0, 4, 2, 4, 0, 0, 3, 1, 0, 1, 1, 4, 2, 3, 0,\n",
       "       1, 0, 0, 2, 0, 0, 1, 4, 0, 3, 3, 0, 2, 0, 0, 1, 1, 1, 1, 0, 0, 0,\n",
       "       1, 2, 0, 0, 1, 0])"
      ]
     },
     "execution_count": 37,
     "metadata": {},
     "output_type": "execute_result"
    }
   ],
   "source": [
    "y_pred"
   ]
  },
  {
   "cell_type": "code",
   "execution_count": 42,
   "id": "778dbb8c",
   "metadata": {},
   "outputs": [
    {
     "data": {
      "text/plain": [
       "-716.4901633242737"
      ]
     },
     "execution_count": 42,
     "metadata": {},
     "output_type": "execute_result"
    }
   ],
   "source": [
    "classifier.score(X_test)"
   ]
  },
  {
   "cell_type": "code",
   "execution_count": 39,
   "id": "826ba89e",
   "metadata": {},
   "outputs": [
    {
     "name": "stdout",
     "output_type": "stream",
     "text": [
      "[[  0   0   0   0   0   0]\n",
      " [ 15  15   3   5  23   0]\n",
      " [ 64  61   7  11  31   0]\n",
      " [114  75  14  18  37   0]\n",
      " [ 83  54  14   6  27   0]\n",
      " [ 47  31   3   5  13   0]]\n"
     ]
    }
   ],
   "source": [
    "print(metrics.confusion_matrix(y_test, y_pred))"
   ]
  },
  {
   "cell_type": "code",
   "execution_count": 40,
   "id": "a19416de",
   "metadata": {},
   "outputs": [
    {
     "name": "stdout",
     "output_type": "stream",
     "text": [
      "              precision    recall  f1-score   support\n",
      "\n",
      "           0       0.00      0.00      0.00         0\n",
      "           1       0.06      0.25      0.10        61\n",
      "           2       0.17      0.04      0.07       174\n",
      "           3       0.40      0.07      0.12       258\n",
      "           4       0.21      0.15      0.17       184\n",
      "           5       0.00      0.00      0.00        99\n",
      "\n",
      "    accuracy                           0.09       776\n",
      "   macro avg       0.14      0.08      0.08       776\n",
      "weighted avg       0.23      0.09      0.10       776\n",
      "\n"
     ]
    },
    {
     "name": "stderr",
     "output_type": "stream",
     "text": [
      "C:\\Users\\USUARIO DELL\\anaconda3\\lib\\site-packages\\sklearn\\metrics\\_classification.py:1318: UndefinedMetricWarning: Precision and F-score are ill-defined and being set to 0.0 in labels with no predicted samples. Use `zero_division` parameter to control this behavior.\n",
      "  _warn_prf(average, modifier, msg_start, len(result))\n",
      "C:\\Users\\USUARIO DELL\\anaconda3\\lib\\site-packages\\sklearn\\metrics\\_classification.py:1318: UndefinedMetricWarning: Recall and F-score are ill-defined and being set to 0.0 in labels with no true samples. Use `zero_division` parameter to control this behavior.\n",
      "  _warn_prf(average, modifier, msg_start, len(result))\n",
      "C:\\Users\\USUARIO DELL\\anaconda3\\lib\\site-packages\\sklearn\\metrics\\_classification.py:1318: UndefinedMetricWarning: Precision and F-score are ill-defined and being set to 0.0 in labels with no predicted samples. Use `zero_division` parameter to control this behavior.\n",
      "  _warn_prf(average, modifier, msg_start, len(result))\n",
      "C:\\Users\\USUARIO DELL\\anaconda3\\lib\\site-packages\\sklearn\\metrics\\_classification.py:1318: UndefinedMetricWarning: Recall and F-score are ill-defined and being set to 0.0 in labels with no true samples. Use `zero_division` parameter to control this behavior.\n",
      "  _warn_prf(average, modifier, msg_start, len(result))\n",
      "C:\\Users\\USUARIO DELL\\anaconda3\\lib\\site-packages\\sklearn\\metrics\\_classification.py:1318: UndefinedMetricWarning: Precision and F-score are ill-defined and being set to 0.0 in labels with no predicted samples. Use `zero_division` parameter to control this behavior.\n",
      "  _warn_prf(average, modifier, msg_start, len(result))\n",
      "C:\\Users\\USUARIO DELL\\anaconda3\\lib\\site-packages\\sklearn\\metrics\\_classification.py:1318: UndefinedMetricWarning: Recall and F-score are ill-defined and being set to 0.0 in labels with no true samples. Use `zero_division` parameter to control this behavior.\n",
      "  _warn_prf(average, modifier, msg_start, len(result))\n"
     ]
    }
   ],
   "source": [
    "print(metrics.classification_report(y_test, y_pred))"
   ]
  }
 ],
 "metadata": {
  "kernelspec": {
   "display_name": "Python 3 (ipykernel)",
   "language": "python",
   "name": "python3"
  },
  "language_info": {
   "codemirror_mode": {
    "name": "ipython",
    "version": 3
   },
   "file_extension": ".py",
   "mimetype": "text/x-python",
   "name": "python",
   "nbconvert_exporter": "python",
   "pygments_lexer": "ipython3",
   "version": "3.9.12"
  }
 },
 "nbformat": 4,
 "nbformat_minor": 5
}
